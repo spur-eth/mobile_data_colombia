{
 "cells": [
  {
   "cell_type": "markdown",
   "metadata": {},
   "source": [
    "## Visit analysis\n",
    "The purpose of this notebook is to compare the mobility of users who live in the \"treatment\" (ZATs near new cable car) and \"control\" zones (similar ZATs but no new cable car). We will look for trends in the visits we computed in the `mobility_analysis` followed by the `visit_compute` notebook."
   ]
  },
  {
   "cell_type": "code",
   "execution_count": null,
   "metadata": {},
   "outputs": [],
   "source": [
    "import os\n",
    "from dotenv import load_dotenv\n",
    "\n",
    "load_dotenv()\n",
    "\n",
    "working_dir = os.getenv(\"WORKING_DIR\")\n",
    "os.environ[\"USE_PYGEOS\"] = \"0\"\n",
    "\n",
    "from setup import *\n",
    "from plotting import *\n",
    "from preprocess import *\n",
    "from analysis import *\n",
    "from plotting import *\n",
    "\n",
    "import pandas as pd\n",
    "import numpy as np\n",
    "import skmob\n",
    "\n",
    "c = read_config(f\"{working_dir}configs/config_2019.yml\")\n",
    "(\n",
    "    year,\n",
    "    datatypes,\n",
    "    initial_cols,\n",
    "    sel_cols,\n",
    "    final_cols,\n",
    "    minlon,\n",
    "    maxlon,\n",
    "    minlat,\n",
    "    maxlat,\n",
    ") = get_config_vars(c=c, mode=\"preprocess\")\n",
    "min_days, min_pings = get_config_vars(c=c, mode=\"user_qc\")\n",
    "\n",
    "where = get_dirs(working_dir, year=year, min_days=min_days, min_pings=min_pings)\n",
    "\n",
    "meta_dir = where.meta_dir"
   ]
  },
  {
   "cell_type": "code",
   "execution_count": null,
   "metadata": {},
   "outputs": [],
   "source": [
    "hw_dir = f\"{where.pass_qc_dir}home_work_locs/home/\"\n",
    "visit_dir = f\"{hw_dir}in_zats/visits/\"\n",
    "out_dir = f\"{visit_dir}w_pois/\"\n",
    "\n",
    "for d in [visit_dir, out_dir]:\n",
    "    ensure_directory_exists(d)\n",
    "\n",
    "sel_zat_home_locs_meta_fp = f\"{hw_dir}selected_txt_control_home_locs_w_zats_for_users_pass_qc_w_treatment_group.csv\""
   ]
  },
  {
   "cell_type": "markdown",
   "metadata": {},
   "source": [
    "### Load home locations with ZATs and treatment group for users living in treatment and control ZATs and the shapefile of interest\n",
    "There is one shapefile with a buffer of 15 meters around the google places POIs and one with 20 meters buffer."
   ]
  },
  {
   "cell_type": "code",
   "execution_count": null,
   "metadata": {},
   "outputs": [],
   "source": [
    "sel_zat_home_locs_meta = pd.read_csv(sel_zat_home_locs_meta_fp)\n",
    "\n",
    "# for POIs with 15m Buffer\n",
    "shp_name, gdf_from_shp = get_shp_to_assign_poi(\n",
    "    shp_dir=f\"{meta_dir}places/Buffer Shapefiles/\", config=c, radius=15, plot=True\n",
    ")\n",
    "\n",
    "sel_zat_home_locs_meta.head()"
   ]
  },
  {
   "cell_type": "markdown",
   "metadata": {},
   "source": [
    "### Load the visits and look at how many mapped to one or more POIs, group them by POI category"
   ]
  },
  {
   "cell_type": "code",
   "execution_count": null,
   "metadata": {},
   "outputs": [],
   "source": [
    "stopping_time = 20\n",
    "min_minutes = 1e12  # or 1440\n",
    "outfilename = f\"users_living_in_sel_zat_visits_atleast_{stopping_time}min_nodatafor_{min_minutes}_minutes_w_poi_from_{shp_name}_shp\"\n",
    "vists_w_poi_df_fp = f\"{out_dir}{shp_name}/{outfilename}.csv\"\n",
    "visits_w_poi_df = pd.read_csv(vists_w_poi_df_fp)\n",
    "(\n",
    "    visits_w_named_pois,\n",
    "    visits_w_more_than_one_named_poi,\n",
    "    grouped_category_proportions,\n",
    ") = calc_group_poi_visits(visits_w_poi_df)\n",
    "visits_w_named_pois.to_csv(\n",
    "    f\"{out_dir}{shp_name}/{outfilename}_drop_null.csv\", index=False\n",
    ")\n",
    "visits_w_named_pois.head()"
   ]
  },
  {
   "cell_type": "markdown",
   "metadata": {},
   "source": [
    "### Plot proportion of category of POI visits for control and treatment ZATs"
   ]
  },
  {
   "cell_type": "code",
   "execution_count": null,
   "metadata": {},
   "outputs": [],
   "source": [
    "grouped_cat_prop_csv_fp = f\"{out_dir}{outfilename}_grouped_by_txt_category_proportions\"\n",
    "grouped_category_proportions.to_csv(f\"{grouped_cat_prop_csv_fp}.csv\")\n",
    "grouped_category_proportions.head()"
   ]
  },
  {
   "cell_type": "code",
   "execution_count": null,
   "metadata": {},
   "outputs": [],
   "source": [
    "plotfilename = f\"{where.plot_dir}users_living_in_sel_zat_visits_atleast_{stopping_time}min_w_poi_from_{shp_name}_shp_grouped_by_txt_category_proportions\"\n",
    "plot_stacked_bar_from_csv(\n",
    "    f\"{grouped_cat_prop_csv_fp}.csv\", out_file=plotfilename, colormap=\"Spectral\"\n",
    ")"
   ]
  },
  {
   "cell_type": "code",
   "execution_count": null,
   "metadata": {},
   "outputs": [],
   "source": [
    "visits_w_poi_df.head(5)"
   ]
  },
  {
   "cell_type": "markdown",
   "metadata": {},
   "source": [
    "### Compute and plot number of visits per month (or day of the year) for each group\n",
    "Helps to assess variation in data quality over time scales and between years"
   ]
  },
  {
   "cell_type": "code",
   "execution_count": null,
   "metadata": {},
   "outputs": [],
   "source": [
    "time_unit = \"month\" #\"dayofyear\" or \"month\"\n",
    "\n",
    "cols_for_bar = [\n",
    "    \"uid\",  #'lat_visit', 'lng_visit',\n",
    "    \"datetime\",  #'leaving_datetime',\n",
    "    \"Group\",\n",
    "    \"name\",\n",
    "    \"category\",\n",
    "]\n",
    "\n",
    "all_visits, all_visits_grouped = count_visits_over_time(\n",
    "    visits_w_poi_df, cols=cols_for_bar, time_unit = time_unit, normalize=True\n",
    ")\n",
    "named_poi_visits, named_visits_grouped = count_visits_over_time(\n",
    "    visits_w_named_pois, cols=cols_for_bar, time_unit = time_unit, normalize=True\n",
    ")"
   ]
  },
  {
   "cell_type": "code",
   "execution_count": null,
   "metadata": {},
   "outputs": [],
   "source": [
    "data = all_visits_grouped\n",
    "plot_dir = where.plot_dir\n",
    "palette = sns.color_palette(\"Paired\")\n",
    "\n",
    "title = f\"Total >{stopping_time} min visits per number of users per group by {time_unit} for users living in selected ZATs\"\n",
    "plot_visits_bar(\n",
    "    data=data,\n",
    "    x=time_unit,\n",
    "    y=\"count_normalized_nusers\",\n",
    "    hue=\"Group\",\n",
    "    plot_dir=plot_dir,\n",
    "    title=title,\n",
    ")\n"
   ]
  },
  {
   "cell_type": "code",
   "execution_count": null,
   "metadata": {},
   "outputs": [],
   "source": [
    "data = all_visits_grouped  \n",
    "plot_dir = where.plot_dir\n",
    "palette = sns.color_palette(\"Paired\")\n",
    "\n",
    "title = f\"Total >{stopping_time} min visits per number of users per group by {time_unit} for users living in selected ZATs\"\n",
    "plot_visits_bar(\n",
    "    data=data,\n",
    "    x=time_unit,\n",
    "    y=\"count_normalized_nusers\",\n",
    "    hue=\"Group\",\n",
    "    plot_dir=plot_dir,\n",
    "    title=title,\n",
    ")\n",
    "\n",
    "title = f\"Total >{stopping_time} min visits by {time_unit} for users living in treatment or control ZATs\"\n",
    "plot_visits_bar(\n",
    "    data=data,\n",
    "    x=time_unit,\n",
    "    y=\"count\",\n",
    "    hue=\"Group\",\n",
    "    plot_dir=plot_dir,\n",
    "    title=title,\n",
    ")\n",
    "\n",
    "data = named_visits_grouped  # [named_visits_grouped['month']<12]\n",
    "\n",
    "title = f\"Total >{stopping_time} min visits to named POIs per number of users per group by {time_unit} for users living in selected ZATs\"\n",
    "plot_visits_bar(\n",
    "    data=data,\n",
    "    x=time_unit,\n",
    "    y=\"count_normalized_nusers\",\n",
    "    hue=\"Group\",\n",
    "    plot_dir=plot_dir,\n",
    "    title=title,\n",
    ")\n",
    "\n",
    "title = f\"Total >{stopping_time} min visits to named POIs by {time_unit} for users living in treatment or control ZATs\"\n",
    "plot_visits_bar(\n",
    "    data=data,\n",
    "    x=time_unit,\n",
    "    y=\"count\",\n",
    "    hue=\"Group\",\n",
    "    plot_dir=plot_dir,\n",
    "    title=title,\n",
    ")"
   ]
  },
  {
   "cell_type": "markdown",
   "metadata": {},
   "source": [
    "#### Plot the percentage of montly visits that come from control group users versus treatment group users"
   ]
  },
  {
   "cell_type": "code",
   "execution_count": null,
   "metadata": {},
   "outputs": [],
   "source": [
    "all_visits_p, all_visits_grouped_p = count_visits_over_time(\n",
    "    visits_w_poi_df, cols=cols_for_bar, as_proportion=True, time_unit=time_unit, \n",
    ")\n",
    "named_poi_visits_p, named_visits_grouped_p = count_visits_over_time(\n",
    "    visits_w_named_pois, cols=cols_for_bar, as_proportion=True, time_unit=time_unit,\n",
    ")"
   ]
  },
  {
   "cell_type": "markdown",
   "metadata": {},
   "source": [
    "Note: For the 2019 data, we may want to merge the 2018 and 2019 files. But otherwise to not visualize the datapoints from the last day of December 2018 in the 2019 data, one can filter as in: `all_visits_grouped_p[all_visits_grouped_p['month']<12]`"
   ]
  },
  {
   "cell_type": "code",
   "execution_count": null,
   "metadata": {},
   "outputs": [],
   "source": [
    "data = all_visits_grouped_p  # [all_visits_grouped_p['month']<12]\n",
    "title = f\"Percentage >{stopping_time} min visits made by users living in treatment versus control ZATs over time\"\n",
    "plot_visits_bar(\n",
    "    data=data,\n",
    "    x=time_unit,\n",
    "    y=\"percentage\",\n",
    "    hue=\"Group\",\n",
    "    plot_dir=plot_dir,\n",
    "    title=title,\n",
    ")\n",
    "\n",
    "data = named_visits_grouped_p   \n",
    "title = f\"Percentage >{stopping_time} min visits made to named POIs by users living in treatment versus control ZATs over time\"\n",
    "plot_visits_bar(\n",
    "    data=data,\n",
    "    x=time_unit,\n",
    "    y=\"percentage\",\n",
    "    hue=\"Group\",\n",
    "    plot_dir=plot_dir,\n",
    "    title=title,\n",
    ")"
   ]
  },
  {
   "cell_type": "markdown",
   "metadata": {},
   "source": [
    "### Make the same plots but only include users that have more than a particular number of visits"
   ]
  },
  {
   "cell_type": "code",
   "execution_count": null,
   "metadata": {},
   "outputs": [],
   "source": [
    "thresh_pois = 300\n",
    "thresh_named_pois = 50\n",
    "\n",
    "visits_w_poi_df_filtered = filter_users_by_minimum_visits(\n",
    "    visit_df=visits_w_poi_df, visit_threshold=thresh_pois\n",
    ")\n",
    "visits_w_named_pois_filtered = filter_users_by_minimum_visits(\n",
    "    visit_df=visits_w_named_pois, visit_threshold=thresh_named_pois\n",
    ")"
   ]
  },
  {
   "cell_type": "code",
   "execution_count": null,
   "metadata": {},
   "outputs": [],
   "source": [
    "# compute and graph filtered data\n",
    "all_visits_p, all_visits_grouped_p = count_visits_over_time(\n",
    "    visits_w_poi_df_filtered, cols=cols_for_bar, as_proportion=True, time_unit=time_unit\n",
    ")\n",
    "named_poi_visits_p, named_visits_grouped_p = count_visits_over_time(\n",
    "    visits_w_named_pois_filtered, cols=cols_for_bar, as_proportion=True, time_unit=time_unit\n",
    ")\n",
    "\n",
    "data = all_visits_grouped_p  \n",
    "title = f\"Percentage >{stopping_time} min visits made by users living in treatment versus control ZATs (min {thresh_pois} visits per user)\"\n",
    "plot_visits_bar(\n",
    "    data=data,\n",
    "    x=time_unit,\n",
    "    y=\"percentage\",\n",
    "    hue=\"Group\",\n",
    "    plot_dir=plot_dir,\n",
    "    title=title,\n",
    ")\n",
    "\n",
    "data = named_visits_grouped_p   \n",
    "title = f\"Percentage >{stopping_time} min visits made to named POIs by users living in treatment versus control ZATs (min {thresh_named_pois} visits per user\"\n",
    "plot_visits_bar(\n",
    "    data=data,\n",
    "    x=time_unit,\n",
    "    y=\"percentage\",\n",
    "    hue=\"Group\",\n",
    "    plot_dir=plot_dir,\n",
    "    title=title,\n",
    ")"
   ]
  },
  {
   "cell_type": "markdown",
   "metadata": {},
   "source": [
    "### Filter and then plot the normalized version of the data"
   ]
  },
  {
   "cell_type": "code",
   "execution_count": null,
   "metadata": {},
   "outputs": [],
   "source": [
    "all_visits_p, all_visits_grouped_p = count_visits_over_time(\n",
    "    visits_w_poi_df_filtered, cols=cols_for_bar, normalize=True, time_unit=time_unit\n",
    ")\n",
    "named_poi_visits_p, named_visits_grouped_p = count_visits_over_time(\n",
    "    visits_w_named_pois_filtered, cols=cols_for_bar, normalize=True, time_unit=time_unit\n",
    ")\n",
    "\n",
    "data = all_visits_grouped_p  # [all_visits_grouped_p['month']<12]\n",
    "title = f\"Total >{stopping_time} min visits per number of users per group by {time_unit} for users living in selected ZATs (min {thresh_pois} visits per user)\"\n",
    "plot_visits_bar(\n",
    "    data=data,\n",
    "    x=time_unit,\n",
    "    y=\"count_normalized_nusers\",\n",
    "    hue=\"Group\",\n",
    "    plot_dir=plot_dir,\n",
    "    title=title,\n",
    ")\n",
    "\n",
    "data = named_visits_grouped_p   \n",
    "title = f\"Total >{stopping_time} min visits to named POIs per number of users per group by {time_unit} for users living in selected ZATs (min {thresh_named_pois} visits per user)\"\n",
    "plot_visits_bar(\n",
    "    data=data,\n",
    "    x=time_unit,\n",
    "    y=\"count_normalized_nusers\",\n",
    "    hue=\"Group\",\n",
    "    plot_dir=plot_dir,\n",
    "    title=title,\n",
    ")"
   ]
  },
  {
   "cell_type": "markdown",
   "metadata": {},
   "source": [
    "### Check the frequency of visits to see if there are some lat, lng pairs that are outliers \n",
    "\n",
    "For instance in the 2019 data, there appeara to be an outlier with >7000 visits."
   ]
  },
  {
   "cell_type": "code",
   "execution_count": null,
   "metadata": {},
   "outputs": [],
   "source": [
    "df = visits_w_poi_df\n",
    "counted_pairs = df.groupby(['lat_visit', 'lng_visit']).size().reset_index(name='counts')\n",
    "sorted_counted_pairs = counted_pairs.sort_values('counts', ascending=False)\n",
    "print(sorted_counted_pairs)\n",
    "\n",
    "# Specify the specific latitude and longitude pair you're interested in (e.g. most common pair)\n",
    "target_lat = 4.570431 #4.649300 (2019) #4.570431 (2018)\n",
    "target_lng = -74.095920 #-74.061699 (2019) #-74.095920 (2018)\n",
    "\n",
    "# Filter the dataframe to retrieve rows with the specific lat_visit, lng_visit pair\n",
    "filtered_df = df[(df['lat_visit'] == target_lat) & (df['lng_visit'] == target_lng)]\n",
    "#filtered_df.head(10)"
   ]
  },
  {
   "cell_type": "markdown",
   "metadata": {},
   "source": [
    "### Add additional filtering of users by stricter QC thresholds"
   ]
  },
  {
   "cell_type": "code",
   "execution_count": null,
   "metadata": {},
   "outputs": [],
   "source": [
    "# read in users who are in both 2018 and 2019 and who pass different qc thresholds\n",
    "user_stats_both_years_dir = os.path.join(c[\"run\"][\"working_dir\"], c[\"run\"][\"user_stats_dir_both_years\"])\n",
    "\n",
    "uids_in_both60 = pd.read_csv(os.path.join(user_stats_both_years_dir, \n",
    "                            f\"user_stats_common_users_2018_2019_minpings60_mindays{min_days}_shp_filtered.csv\"))\n",
    "uids_in_both150 = pd.read_csv(os.path.join(user_stats_both_years_dir, \n",
    "                            f\"user_stats_common_users_2018_2019_minpings150_mindays{min_days}_shp_filtered.csv\"))\n",
    "uids_in_both300 = pd.read_csv(os.path.join(user_stats_both_years_dir, \n",
    "                            f\"user_stats_common_users_2018_2019_minpings300_mindays{min_days}_shp_filtered.csv\"))"
   ]
  },
  {
   "cell_type": "code",
   "execution_count": null,
   "metadata": {},
   "outputs": [],
   "source": [
    "# filter the visit dfs by these users\n",
    "visits_w_poi_df_60 = visits_w_poi_df[visits_w_poi_df['uid'].isin(uids_in_both60['uid'])]\n",
    "visits_w_poi_df_150 = visits_w_poi_df[visits_w_poi_df['uid'].isin(uids_in_both150['uid'])]\n",
    "visits_w_poi_df_300 = visits_w_poi_df[visits_w_poi_df['uid'].isin(uids_in_both300['uid'])]\n",
    "\n",
    "visits_w_named_pois_60 = visits_w_named_pois[visits_w_named_pois['uid'].isin(uids_in_both60['uid'])]\n",
    "visits_w_named_pois_150 = visits_w_named_pois[visits_w_named_pois['uid'].isin(uids_in_both150['uid'])]\n",
    "visits_w_named_pois_300 = visits_w_named_pois[visits_w_named_pois['uid'].isin(uids_in_both300['uid'])]\n",
    "\n",
    "# if desired, set the visits_dfs to be the desired filtered dfs and then use the graphing functions to make the graphs\n",
    "# visits_w_poi_df = visits_w_poi_df_60\n",
    "# visits_w_named_pois = visits_w_named_pois_60"
   ]
  }
 ],
 "metadata": {
  "kernelspec": {
   "display_name": "geo_mobile",
   "language": "python",
   "name": "python3"
  },
  "language_info": {
   "codemirror_mode": {
    "name": "ipython",
    "version": 3
   },
   "file_extension": ".py",
   "mimetype": "text/x-python",
   "name": "python",
   "nbconvert_exporter": "python",
   "pygments_lexer": "ipython3",
   "version": "3.9.16"
  },
  "orig_nbformat": 4
 },
 "nbformat": 4,
 "nbformat_minor": 2
}
