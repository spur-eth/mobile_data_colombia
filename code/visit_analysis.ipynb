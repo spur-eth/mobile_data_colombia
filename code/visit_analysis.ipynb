{
 "cells": [
  {
   "cell_type": "markdown",
   "metadata": {},
   "source": [
    "## Visit analysis\n",
    "The purpose of this notebook is to compare the mobility of users who live in the \"treatment\" (ZATs near new cable car) and \"control\" zones (similar ZATs but no new cable car). We will map the visits we computed in the `mobility_analysis` notebook to the treatment and control group information and point of interest (POIs) computed from google places."
   ]
  },
  {
   "cell_type": "code",
   "execution_count": null,
   "metadata": {},
   "outputs": [],
   "source": [
    "import os\n",
    "from dotenv import load_dotenv\n",
    "\n",
    "load_dotenv()\n",
    "\n",
    "working_dir = os.getenv(\"WORKING_DIR\")\n",
    "os.environ[\"USE_PYGEOS\"] = \"0\"\n",
    "\n",
    "from setup import *\n",
    "from plotting import *\n",
    "from preprocess import *\n",
    "from analysis import *\n",
    "\n",
    "import pandas as pd\n",
    "import numpy as np\n",
    "import skmob\n",
    "\n",
    "c = read_config(f\"{working_dir}configs/config_2018.yml\")\n",
    "(\n",
    "    year,\n",
    "    datatypes,\n",
    "    initial_cols,\n",
    "    sel_cols,\n",
    "    final_cols,\n",
    "    minlon,\n",
    "    maxlon,\n",
    "    minlat,\n",
    "    maxlat,\n",
    ") = get_config_vars(c=c, mode=\"preprocess\")\n",
    "min_days, min_pings = get_config_vars(c=c, mode=\"user_qc\")\n",
    "\n",
    "where = get_dirs(working_dir, year=year, min_days=min_days, min_pings=min_pings)\n",
    "\n",
    "meta_dir = where.meta_dir"
   ]
  },
  {
   "cell_type": "code",
   "execution_count": null,
   "metadata": {},
   "outputs": [],
   "source": [
    "# hw_dir = f'{working_dir}data/parquet/in_study_area/pass_qc/home_work_locs/'\n",
    "# sel_zat_home_locs_meta_fp = f'{meta_dir}selected_txt_control_home_locs_2200_0600_w_zats_txt_group_for_users_pass_qc.csv'\n",
    "# visit_dir= f'{working_dir}data/parquet/in_study_area/pass_qc/in_zats/visits/'\n",
    "\n",
    "hw_dir = f\"{where.pass_qc_dir}home_work_locs/home/\"\n",
    "visit_dir = f\"{hw_dir}in_zats/visits/\"\n",
    "out_dir = f\"{visit_dir}w_pois/\"\n",
    "\n",
    "for d in [visit_dir, out_dir]:\n",
    "    ensure_directory_exists(d)\n",
    "\n",
    "sel_zat_home_locs_meta_fp = f\"{hw_dir}selected_txt_control_home_locs_w_zats_for_users_pass_qc_w_treatment_group.csv\""
   ]
  },
  {
   "cell_type": "markdown",
   "metadata": {},
   "source": [
    "### Load home locations with ZATs and treatment group for users living in treatment and control ZATs"
   ]
  },
  {
   "cell_type": "code",
   "execution_count": null,
   "metadata": {},
   "outputs": [],
   "source": [
    "sel_zat_home_locs_meta = pd.read_csv(sel_zat_home_locs_meta_fp)\n",
    "sel_zat_home_locs_meta.head()"
   ]
  },
  {
   "cell_type": "markdown",
   "metadata": {},
   "source": [
    "### Load shapefiles with the POI information \n",
    "There is one with a buffer of 15 meters around the google places POIs and one with 20 meters buffer."
   ]
  },
  {
   "cell_type": "code",
   "execution_count": null,
   "metadata": {},
   "outputs": [],
   "source": [
    "# for POIs with 15m Buffer\n",
    "shp_name, gdf_from_shp = get_shp_to_assign_poi(\n",
    "    shp_dir=f\"{meta_dir}places/Buffer Shapefiles/\", config=c, radius=15, plot=True\n",
    ")"
   ]
  },
  {
   "cell_type": "markdown",
   "metadata": {},
   "source": [
    "### Load visits and map the visits to the POIs\n",
    "Load the visit locations for users living within the treatment and control ZATs. Note that these are rough estimates and may need to be recomputed. "
   ]
  },
  {
   "cell_type": "code",
   "execution_count": null,
   "metadata": {},
   "outputs": [],
   "source": [
    "visit_durations = [20, 30, 60]\n",
    "min_minutes = 1e12  # or 1440\n",
    "\n",
    "for i in tqdm(\n",
    "    range(0, len(visit_durations)),\n",
    "    desc=f\"Mapping and writing user visits to POIs from {shp_name}\",\n",
    "):\n",
    "    stopping_time = visit_durations[i]\n",
    "    visits_filename = f\"users_living_in_sel_zat_visits_atleast_{stopping_time}min_nodatafor_{min_minutes}_minutes\"  # modify fp as needed, e.g. add _nodatafor_1440_minutes'\n",
    "    visits_fp = f\"{visit_dir}{visits_filename}.csv\"\n",
    "    outfilename = f\"{visits_filename}_w_poi_from_{shp_name}_shp\"\n",
    "    visit_df = read_visits(visits_fp, uid_treat_group_info=sel_zat_home_locs_meta)\n",
    "    visits_w_poi_df = calc_write_visit_pois(\n",
    "        visit_df=visit_df,\n",
    "        regions_gdf=gdf_from_shp,\n",
    "        cols_to_keep=(\n",
    "            list(visit_df.columns)\n",
    "            + [\n",
    "                \"name\",\n",
    "                \"dup\",\n",
    "                \"status\",\n",
    "                \"category\",\n",
    "                \"id\",\n",
    "                \"BUFF_DIST\",\n",
    "                \"ORIG_FID\",\n",
    "                \"Shape_Area\",\n",
    "            ]\n",
    "        ),\n",
    "        out_dir=out_dir,\n",
    "        subdir_name=shp_name,\n",
    "        outfilename=outfilename,\n",
    "    )"
   ]
  },
  {
   "cell_type": "markdown",
   "metadata": {},
   "source": [
    "#### Some logs: \n",
    "**For the 15m Buffer**\n",
    "- There were 3007082 visits in the file. 1157808 instances occured where visits mapped to named POIs (some visits may map to multiple POIs). Wrote data to users_living_in_sel_zat_visits_atleast_20min_w_poi_from_POI_Buffer15m_shp\n",
    "- There were 2487677 visits in the file. 934178 instances occured where visits mapped to named POIs (some visits may map to multiple POIs). Wrote data to users_living_in_sel_zat_visits_atleast_30min_w_poi_from_POI_Buffer15m_shp\n",
    "- There were 1861875 visits in the file. 643682 instances occured where visits mapped to named POIs (some visits may map to multiple POIs). Wrote data to users_living_in_sel_zat_visits_atleast_60min_w_poi_from_POI_Buffer15m_shp\n",
    "\n",
    "**For the 20m Buffer**\n",
    "- There were 3007082 visits in the file. 1967679 instances occured where visits mapped to named POIs (some visits may map to multiple POIs). Wrote data to users_living_in_sel_zat_visits_atleast_20min_w_poi_from_POI_Buffer20m_shp\n",
    "\n",
    "- There were 2487677 visits in the file. 1583775 instances occured where visits mapped to named POIs (some visits may map to multiple POIs). Wrote data to users_living_in_sel_zat_visits_atleast_30min_w_poi_from_POI_Buffer20m_shp\n",
    "\n",
    "- There were 1861875 visits in the file. 1089400 instances occured where visits mapped to named POIs (some visits may map to multiple POIs). Wrote data to users_living_in_sel_zat_visits_atleast_60min_w_poi_from_POI_Buffer20m_shp\n",
    "\n",
    "#### Some logs for the files with the additional `_nodatafor_1440_minutes` filtering: \n",
    "\n",
    "**For the 15m Buffer**\n",
    "- There were 2763819 visits in the file. 1080490 instances occured where visits mapped to named POIs (some visits may map to multiple POIs). Wrote data to users_living_in_sel_zat_visits_atleast_20min_nodatafor_1440_minutes_w_poi_from_POI_Buffer15m_shp\n",
    "\n",
    "- There were 2242918 visits in the file. 856483 instances occured where visits mapped to named POIs (some visits may map to multiple POIs). Wrote data to users_living_in_sel_zat_visits_atleast_30min_nodatafor_1440_minutes_w_poi_from_POI_Buffer15m_shp\n",
    "\n",
    "- There were 1613447 visits in the file. 564951 instances occured where visits mapped to named POIs (some visits may map to multiple POIs). Wrote data to users_living_in_sel_zat_visits_atleast_60min_nodatafor_1440_minutes_w_poi_from_POI_Buffer15m_shp\n",
    "\n",
    "**For the 20m Buffer**\n",
    "- There were 2763819 visits in the file. 1836594 instances occured where visits mapped to named POIs (some visits may map to multiple POIs). Wrote data to users_living_in_sel_zat_visits_atleast_20min_nodatafor_1440_minutes_w_poi_from_POI_Buffer20m_shp\n",
    "\n",
    "- There were 2242918 visits in the file. 1452026 instances occured where visits mapped to named POIs (some visits may map to multiple POIs). Wrote data to users_living_in_sel_zat_visits_atleast_30min_nodatafor_1440_minutes_w_poi_from_POI_Buffer20m_shp\n",
    "\n",
    "- There were 1613447 visits in the file. 955859 instances occured where visits mapped to named POIs (some visits may map to multiple POIs). Wrote data to users_living_in_sel_zat_visits_atleast_60min_nodatafor_1440_minutes_w_poi_from_POI_Buffer20m_shp\n"
   ]
  },
  {
   "cell_type": "markdown",
   "metadata": {},
   "source": [
    "### Load the visits and look at how many mapped to one or more POIs, group them by POI category"
   ]
  },
  {
   "cell_type": "code",
   "execution_count": null,
   "metadata": {},
   "outputs": [],
   "source": [
    "# uncomment to directly access the outputs for 2019 data (based on pre-config file structure) TO DO: remove after running with config or modifying file structure\n",
    "# outdir_2019 = f\"{c.run.in_dir}parquet/in_study_area/year=2019/pass_qc/in_zats/visits/w_pois/\"\n",
    "# outfilename_2019 = f'users_living_in_sel_zat_visits_atleast_20min_w_poi_from_{shp_name}_shp'\n",
    "# vists_w_poi_df_fp = f'{outdir_2019}{shp_name}/{outfilename_2019}.csv'\n",
    "# visits_w_poi_df = pd.read_csv(vists_w_poi_df_fp)\n",
    "# visits_w_named_pois, visits_w_more_than_one_named_poi, grouped_category_proportions = calc_group_poi_visits(visits_w_poi_df)\n",
    "# visits_w_named_pois.to_csv(f'{outdir_2019}{shp_name}/{outfilename_2019}_drop_null.csv', index=False)\n",
    "# visits_w_named_pois.head()"
   ]
  },
  {
   "cell_type": "code",
   "execution_count": null,
   "metadata": {},
   "outputs": [],
   "source": [
    "# for 2018 data\n",
    "stopping_time = 20\n",
    "min_minutes = 1e12  # or 1440\n",
    "outfilename = f\"users_living_in_sel_zat_visits_atleast_{stopping_time}min_nodatafor_{min_minutes}_minutes_w_poi_from_{shp_name}_shp\"\n",
    "vists_w_poi_df_fp = f\"{out_dir}{shp_name}/{outfilename}.csv\"\n",
    "visits_w_poi_df = pd.read_csv(vists_w_poi_df_fp)\n",
    "(\n",
    "    visits_w_named_pois,\n",
    "    visits_w_more_than_one_named_poi,\n",
    "    grouped_category_proportions,\n",
    ") = calc_group_poi_visits(visits_w_poi_df)\n",
    "visits_w_named_pois.to_csv(\n",
    "    f\"{out_dir}{shp_name}/{outfilename}_drop_null.csv\", index=False\n",
    ")\n",
    "visits_w_named_pois.head()"
   ]
  },
  {
   "cell_type": "markdown",
   "metadata": {},
   "source": [
    "### Plot proportion of category of POI visits for control and treatment ZATs"
   ]
  },
  {
   "cell_type": "code",
   "execution_count": null,
   "metadata": {},
   "outputs": [],
   "source": [
    "grouped_cat_prop_csv_fp = f\"{out_dir}{outfilename}_grouped_by_txt_category_proportions\"\n",
    "grouped_category_proportions.to_csv(f\"{grouped_cat_prop_csv_fp}.csv\")\n",
    "grouped_category_proportions.head()"
   ]
  },
  {
   "cell_type": "code",
   "execution_count": null,
   "metadata": {},
   "outputs": [],
   "source": [
    "from plotting import *"
   ]
  },
  {
   "cell_type": "code",
   "execution_count": null,
   "metadata": {},
   "outputs": [],
   "source": [
    "plotfilename = f\"{where.plot_dir}users_living_in_sel_zat_visits_atleast_{stopping_time}min_w_poi_from_{shp_name}_shp_grouped_by_txt_category_proportions\"\n",
    "plot_stacked_bar_from_csv(\n",
    "    f\"{grouped_cat_prop_csv_fp}.csv\", out_file=plotfilename, colormap=\"Spectral\"\n",
    ")"
   ]
  },
  {
   "cell_type": "markdown",
   "metadata": {},
   "source": [
    "### Visits by month"
   ]
  },
  {
   "cell_type": "code",
   "execution_count": null,
   "metadata": {},
   "outputs": [],
   "source": [
    "visits_w_poi_df.head()"
   ]
  },
  {
   "cell_type": "code",
   "execution_count": null,
   "metadata": {},
   "outputs": [],
   "source": [
    "cols_for_bar = [\n",
    "    \"uid\",  #'lat_visit', 'lng_visit',\n",
    "    \"datetime\",  #'leaving_datetime',\n",
    "    \"Group\",\n",
    "    \"name\",\n",
    "    \"category\",\n",
    "]\n",
    "\n",
    "all_visits, all_visits_grouped = count_visits_by_month(\n",
    "    visits_w_poi_df, cols=cols_for_bar, normalize=True\n",
    ")\n",
    "named_poi_visits, named_visits_grouped = count_visits_by_month(\n",
    "    visits_w_named_pois, cols=cols_for_bar, normalize=True\n",
    ")"
   ]
  },
  {
   "cell_type": "markdown",
   "metadata": {},
   "source": [
    "#### Plot number of visits per month for each group"
   ]
  },
  {
   "cell_type": "code",
   "execution_count": null,
   "metadata": {},
   "outputs": [],
   "source": [
    "data = all_visits_grouped  # [all_visits_grouped['month']<12]\n",
    "plot_dir = where.plot_dir\n",
    "palette = sns.color_palette(\"Paired\")\n",
    "\n",
    "title = f\"Total >{stopping_time} min visits per number of users per group by month for users living in selected ZATs\"\n",
    "plot_visits_bar(\n",
    "    data=data,\n",
    "    x=\"month\",\n",
    "    y=\"count_normalized_nusers\",\n",
    "    hue=\"Group\",\n",
    "    plot_dir=plot_dir,\n",
    "    title=title,\n",
    "    figsize=(6, 4),\n",
    ")\n",
    "\n",
    "title = f\"Total >{stopping_time} min visits by month for users living in treatment or control ZATs\"\n",
    "plot_visits_bar(\n",
    "    data=data,\n",
    "    x=\"month\",\n",
    "    y=\"count\",\n",
    "    hue=\"Group\",\n",
    "    plot_dir=plot_dir,\n",
    "    title=title,\n",
    "    figsize=(6, 4),\n",
    ")\n",
    "\n",
    "data = named_visits_grouped  # [named_visits_grouped['month']<12]\n",
    "\n",
    "title = f\"Total >{stopping_time} min visits to named POIs per number of users per group by month for users living in selected ZATs\"\n",
    "plot_visits_bar(\n",
    "    data=data,\n",
    "    x=\"month\",\n",
    "    y=\"count_normalized_nusers\",\n",
    "    hue=\"Group\",\n",
    "    plot_dir=plot_dir,\n",
    "    title=title,\n",
    "    figsize=(6, 4),\n",
    ")\n",
    "\n",
    "title = f\"Total >{stopping_time} min visits to named POIs for users living in treatment or control ZATs\"\n",
    "plot_visits_bar(\n",
    "    data=data,\n",
    "    x=\"month\",\n",
    "    y=\"count\",\n",
    "    hue=\"Group\",\n",
    "    plot_dir=plot_dir,\n",
    "    title=title,\n",
    "    figsize=(6, 4),\n",
    ")"
   ]
  },
  {
   "cell_type": "markdown",
   "metadata": {},
   "source": [
    "#### Plot the percentage of montly visits that come from control group users versus treatment group users"
   ]
  },
  {
   "cell_type": "code",
   "execution_count": null,
   "metadata": {},
   "outputs": [],
   "source": [
    "all_visits_p, all_visits_grouped_p = count_visits_by_month(\n",
    "    visits_w_poi_df, cols=cols_for_bar, as_proportion=True\n",
    ")\n",
    "named_poi_visits_p, named_visits_grouped_p = count_visits_by_month(\n",
    "    visits_w_named_pois, cols=cols_for_bar, as_proportion=True\n",
    ")"
   ]
  },
  {
   "cell_type": "markdown",
   "metadata": {},
   "source": [
    "Note: For the 2019 data, we may want to merge the 2018 and 2019 files. But otherwise I didn't count the datapoints from the last day of December 2018 in the 2019 data by filtering like `all_visits_grouped_p[all_visits_grouped_p['month']<12]`"
   ]
  },
  {
   "cell_type": "code",
   "execution_count": null,
   "metadata": {},
   "outputs": [],
   "source": [
    "data = all_visits_grouped_p  # [all_visits_grouped_p['month']<12]\n",
    "title = f\"Percentage >{stopping_time} min visits made by users living in treatment versus control ZATs over time\"\n",
    "plot_visits_bar(\n",
    "    data=data,\n",
    "    x=\"month\",\n",
    "    y=\"percentage\",\n",
    "    hue=\"Group\",\n",
    "    plot_dir=plot_dir,\n",
    "    title=title,\n",
    "    figsize=(6, 4),\n",
    ")\n",
    "\n",
    "data = named_visits_grouped_p  # [named_visits_grouped_p['month']<12]\n",
    "title = f\"Percentage >{stopping_time} min visits made to named POIs by users living in treatment versus control ZATs over time\"\n",
    "plot_visits_bar(\n",
    "    data=data,\n",
    "    x=\"month\",\n",
    "    y=\"percentage\",\n",
    "    hue=\"Group\",\n",
    "    plot_dir=plot_dir,\n",
    "    title=title,\n",
    "    figsize=(6, 4),\n",
    ")"
   ]
  },
  {
   "cell_type": "markdown",
   "metadata": {},
   "source": [
    "### Make the same plots but only include users that have more than a particular number of visits"
   ]
  },
  {
   "cell_type": "code",
   "execution_count": null,
   "metadata": {},
   "outputs": [],
   "source": [
    "thresh_pois = 300\n",
    "thresh_named_pois = 50\n",
    "\n",
    "visits_w_poi_df_filtered = filter_users_by_minimum_visits(\n",
    "    visit_df=visits_w_poi_df, visit_threshold=thresh_pois\n",
    ")\n",
    "visits_w_named_pois_filtered = filter_users_by_minimum_visits(\n",
    "    visit_df=visits_w_named_pois, visit_threshold=thresh_named_pois\n",
    ")"
   ]
  },
  {
   "cell_type": "code",
   "execution_count": null,
   "metadata": {},
   "outputs": [],
   "source": [
    "# compute and graph filtered data\n",
    "all_visits_p, all_visits_grouped_p = count_visits_by_month(\n",
    "    visits_w_poi_df_filtered, cols=cols_for_bar, as_proportion=True\n",
    ")\n",
    "named_poi_visits_p, named_visits_grouped_p = count_visits_by_month(\n",
    "    visits_w_named_pois_filtered, cols=cols_for_bar, as_proportion=True\n",
    ")\n",
    "\n",
    "data = all_visits_grouped_p  # [all_visits_grouped_p['month']<12]\n",
    "title = f\"Percentage >{stopping_time} min visits made by users living in treatment versus control ZATs (min {thresh_pois} visits per user)\"\n",
    "plot_visits_bar(\n",
    "    data=data,\n",
    "    x=\"month\",\n",
    "    y=\"percentage\",\n",
    "    hue=\"Group\",\n",
    "    plot_dir=plot_dir,\n",
    "    title=title,\n",
    "    figsize=(6, 4),\n",
    ")\n",
    "\n",
    "data = named_visits_grouped_p  # [named_visits_grouped_p['month']<12]\n",
    "title = f\"Percentage >{stopping_time} min visits made to named POIs by users living in treatment versus control ZATs (min {thresh_named_pois} visits per user)\"\n",
    "plot_visits_bar(\n",
    "    data=data,\n",
    "    x=\"month\",\n",
    "    y=\"percentage\",\n",
    "    hue=\"Group\",\n",
    "    plot_dir=plot_dir,\n",
    "    title=title,\n",
    "    figsize=(6, 4),\n",
    ")"
   ]
  },
  {
   "cell_type": "markdown",
   "metadata": {},
   "source": [
    "### Filter and then plot the normalized version of the data"
   ]
  },
  {
   "cell_type": "code",
   "execution_count": null,
   "metadata": {},
   "outputs": [],
   "source": [
    "all_visits_p, all_visits_grouped_p = count_visits_by_month(\n",
    "    visits_w_poi_df_filtered, cols=cols_for_bar, normalize=True\n",
    ")\n",
    "named_poi_visits_p, named_visits_grouped_p = count_visits_by_month(\n",
    "    visits_w_named_pois_filtered, cols=cols_for_bar, normalize=True\n",
    ")\n",
    "\n",
    "data = all_visits_grouped_p  # [all_visits_grouped_p['month']<12]\n",
    "title = f\"Total >{stopping_time} min visits per number of users per group by month for users living in selected ZATs (min {thresh_pois} visits per user)\"\n",
    "plot_visits_bar(\n",
    "    data=data,\n",
    "    x=\"month\",\n",
    "    y=\"count_normalized_nusers\",\n",
    "    hue=\"Group\",\n",
    "    plot_dir=plot_dir,\n",
    "    title=title,\n",
    "    figsize=(6, 4),\n",
    ")\n",
    "\n",
    "data = named_visits_grouped_p  # [named_visits_grouped_p['month']<12]\n",
    "title = f\"Total >{stopping_time} min visits to named POIs per number of users per group by month for users living in selected ZATs (min {thresh_named_pois} visits per user)\"\n",
    "plot_visits_bar(\n",
    "    data=data,\n",
    "    x=\"month\",\n",
    "    y=\"count_normalized_nusers\",\n",
    "    hue=\"Group\",\n",
    "    plot_dir=plot_dir,\n",
    "    title=title,\n",
    "    figsize=(6, 4),\n",
    ")"
   ]
  }
 ],
 "metadata": {
  "kernelspec": {
   "display_name": "geo_mobile",
   "language": "python",
   "name": "python3"
  },
  "language_info": {
   "codemirror_mode": {
    "name": "ipython",
    "version": 3
   },
   "file_extension": ".py",
   "mimetype": "text/x-python",
   "name": "python",
   "nbconvert_exporter": "python",
   "pygments_lexer": "ipython3",
   "version": "3.9.16"
  },
  "orig_nbformat": 4
 },
 "nbformat": 4,
 "nbformat_minor": 2
}
