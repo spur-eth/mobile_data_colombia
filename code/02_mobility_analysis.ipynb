{
 "cells": [
  {
   "cell_type": "markdown",
   "metadata": {},
   "source": [
    "## Mobility analysis\n",
    "The purpose of this notebook is to compare the mobility of users who live in the \"treatment\" (ZATs near new cable car) and \"control\" zones (similar ZATs but no new cable car)\n",
    "\n",
    "1) Compute distance between home and work locations \n",
    "2) Compute visits (20, 30, 1hr visit times) "
   ]
  },
  {
   "cell_type": "code",
   "execution_count": null,
   "metadata": {},
   "outputs": [],
   "source": [
    "import os\n",
    "from dotenv import load_dotenv\n",
    "\n",
    "load_dotenv()\n",
    "\n",
    "working_dir = os.getenv(\"WORKING_DIR\")\n",
    "os.environ[\"USE_PYGEOS\"] = \"0\"\n",
    "\n",
    "from setup import *\n",
    "from plotting import *\n",
    "from preprocess import *\n",
    "from analysis import *\n",
    "\n",
    "import pandas as pd\n",
    "import numpy as np\n",
    "import skmob\n",
    "\n",
    "c = read_config(\n",
    "    f\"{working_dir}configs/config_2018.yml\"\n",
    ")  # can switch to the config_2019.yml\n",
    "(\n",
    "    year,\n",
    "    datatypes,\n",
    "    initial_cols,\n",
    "    sel_cols,\n",
    "    final_cols,\n",
    "    minlon,\n",
    "    maxlon,\n",
    "    minlat,\n",
    "    maxlat,\n",
    ") = get_config_vars(c=c, mode=\"preprocess\")\n",
    "min_days, min_pings = get_config_vars(c=c, mode=\"user_qc\")\n",
    "\n",
    "where = get_dirs(working_dir, year=year, min_days=min_days, min_pings=min_pings)\n",
    "\n",
    "meta_dir = where.meta_dir\n",
    "\n",
    "# Access environment variables and define other necessary variables\n",
    "working_dir = os.getenv(\"WORKING_DIR\")\n",
    "hw_dir = f\"{where.pass_qc_dir}home_work_locs/\"\n",
    "pq_dir = f\"{hw_dir}home/in_zats/\"\n",
    "pq_dir_out = f\"{hw_dir}home/in_zats/visits/\"\n",
    "ensure_directory_exists(pq_dir_out)"
   ]
  },
  {
   "cell_type": "code",
   "execution_count": null,
   "metadata": {},
   "outputs": [],
   "source": [
    "# filter pings for simple visit approximation\n",
    "simple_visit_approx = True\n",
    "\n",
    "# compute visits with skmob\n",
    "skmob_compute_visit = False\n",
    "filter_tdf = False  # whether to filter the tdf with skmob (True for computed visits)"
   ]
  },
  {
   "cell_type": "markdown",
   "metadata": {},
   "source": [
    "### Compute distance between home and work locations for users"
   ]
  },
  {
   "cell_type": "code",
   "execution_count": null,
   "metadata": {},
   "outputs": [],
   "source": [
    "home_locs_file = (\n",
    "    f\"{hw_dir}home/selected_txt_control_home_locs_w_zats_for_users_pass_qc.csv\"\n",
    ")\n",
    "work_locs_file = (\n",
    "    f\"{hw_dir}work/selected_txt_control_work_locs_w_zats_for_users_pass_qc.csv\"\n",
    ")\n",
    "\n",
    "home_df = pd.read_csv(\n",
    "    home_locs_file,\n",
    "    usecols=[\n",
    "        \"uid\",\n",
    "        \"lat_home\",\n",
    "        \"lng_home\",\n",
    "        \"Area\",\n",
    "        \"MUNCod\",\n",
    "        \"NOMMun\",\n",
    "        \"ZAT_home\",\n",
    "        \"UTAM_home\",\n",
    "        \"stratum\",\n",
    "    ],\n",
    ")\n",
    "work_df = pd.read_csv(\n",
    "    work_locs_file,\n",
    "    usecols=[\n",
    "        \"uid\",\n",
    "        \"lat_work\",\n",
    "        \"lng_work\",\n",
    "        \"Area\",\n",
    "        \"MUNCod\",\n",
    "        \"NOMMun\",\n",
    "        \"ZAT_work\",\n",
    "        \"UTAM_work\",\n",
    "        \"stratum\",\n",
    "    ],\n",
    ")"
   ]
  },
  {
   "cell_type": "code",
   "execution_count": null,
   "metadata": {},
   "outputs": [],
   "source": [
    "# drop the duplicates (keeping the first home location) and merge the frames\n",
    "home_df = home_df.drop_duplicates(subset=\"uid\")\n",
    "work_df = work_df.drop_duplicates(subset=\"uid\")\n",
    "\n",
    "home_work_df = home_df.merge(work_df, on=\"uid\", suffixes=(\"_home\", \"_work\"))\n",
    "print(len(home_df), len(work_df), len(home_work_df))\n",
    "home_work_df.head()"
   ]
  },
  {
   "cell_type": "markdown",
   "metadata": {},
   "source": [
    "Calculate the distance between the home and work location for each user"
   ]
  },
  {
   "cell_type": "code",
   "execution_count": null,
   "metadata": {},
   "outputs": [],
   "source": [
    "home_work_df[\"distance_km\"] = home_work_df.apply(geodesic_distance, axis=1)\n",
    "home_work_df.head()"
   ]
  },
  {
   "cell_type": "code",
   "execution_count": null,
   "metadata": {},
   "outputs": [],
   "source": [
    "home_work_w_dist_file = f\"{hw_dir}home_work_locs_for_users_living_in_selected_txt_control_zats_w_distance_btwn_home_work.csv\"\n",
    "# home_work_df.to_csv(home_work_w_dist_file, index=False) # uncomment to rewrite file"
   ]
  },
  {
   "cell_type": "markdown",
   "metadata": {},
   "source": [
    "### Load the pings data for the users living in the selected ZATs"
   ]
  },
  {
   "cell_type": "markdown",
   "metadata": {},
   "source": [
    "Load 1. the shapefile with the ZAT and stratum information and 2. the user pings"
   ]
  },
  {
   "cell_type": "code",
   "execution_count": null,
   "metadata": {},
   "outputs": [],
   "source": [
    "shapefile, regions_gdf_zat = get_shp(\n",
    "    meta_dir=f\"{meta_dir}income/\", shp_name=c[\"meta\"][\"shp\"][\"zat\"], load=True\n",
    ")\n",
    "\n",
    "# regions_gdf_zat.plot(column=\"stratum\")"
   ]
  },
  {
   "cell_type": "code",
   "execution_count": null,
   "metadata": {},
   "outputs": [],
   "source": [
    "ping_files = glob.glob(pq_dir + \"*.parquet\")\n",
    "ping_df = ds.dataset(ping_files, format=\"parquet\").to_table().to_pandas()\n",
    "ping_df = ping_df.reset_index()\n",
    "ping_df = ping_df.drop(columns=\"index\")\n",
    "ping_df.head(5)"
   ]
  },
  {
   "cell_type": "markdown",
   "metadata": {},
   "source": [
    "### Examining common ping locations "
   ]
  },
  {
   "cell_type": "code",
   "execution_count": null,
   "metadata": {},
   "outputs": [],
   "source": [
    "df = ping_df\n",
    "counted_pairs = df.groupby([\"lat\", \"lng\"]).size().reset_index(name=\"counts\")\n",
    "sorted_counted_pairs = counted_pairs.sort_values(\"counts\", ascending=False)\n",
    "print(sorted_counted_pairs.head(20))\n",
    "# sorted_counted_pairs['counts'].hist(bins=20)\n",
    "\n",
    "# Specify the specific latitude and longitude pair you're interested in (e.g. most common pair)\n",
    "# target_lat = 4.570431 #4.649300 (2019) #4.570431 (2018)\n",
    "# target_lng = -74.095920 #-74.061699 (2019) #-74.095920 (2018)\n",
    "\n",
    "# Filter the dataframe to retrieve rows with the specific lat_visit, lng_visit pair\n",
    "# filtered_df = df[(df['lat_visit'] == target_lat) & (df['lng_visit'] == target_lng)]\n",
    "# filtered_df.head(10)"
   ]
  },
  {
   "cell_type": "code",
   "execution_count": null,
   "metadata": {},
   "outputs": [],
   "source": [
    "len(ping_df)"
   ]
  },
  {
   "cell_type": "markdown",
   "metadata": {},
   "source": [
    "### Compute visits and other mobility variables\n",
    "Can also \"compress\" the pings data and do other preprocessing and filtering"
   ]
  },
  {
   "cell_type": "markdown",
   "metadata": {},
   "source": [
    "### Load and preprocess pings data\n",
    "Not that we can print the parameters of the functions, for example for the filtering with `print(ftdf.parameters)`. Filtering takes ~28 minutes on the full dataset of pings from users in the selected zats.  "
   ]
  },
  {
   "cell_type": "code",
   "execution_count": null,
   "metadata": {},
   "outputs": [],
   "source": [
    "# Convert the DataFrame into a TrajDataFrame and filter out outliers\n",
    "from skmob.preprocessing import filtering\n",
    "\n",
    "tdf = skmob.TrajDataFrame(\n",
    "    ping_df, user_id=\"uid\", latitude=\"lat\", longitude=\"lng\", datetime=\"datetime\"\n",
    ")\n",
    "print(len(ping_df), len(tdf))\n",
    "\n",
    "if filter_tdf:\n",
    "    print(\"Filtering tdf...\")\n",
    "    ftdf = filtering.filter(tdf)  # takes quite some time - maybe save for later\n",
    "    n_deleted_points = len(tdf) - len(ftdf)\n",
    "    print(n_deleted_points)\n",
    "    print(len(ping_df), len(ftdf))"
   ]
  },
  {
   "cell_type": "markdown",
   "metadata": {},
   "source": [
    "2023 December 13: Elena and I are finding some issues with users with multiple pings across multiple days only having one visit in the visits computed post-filtering on the `ftdf`. To see if these are just filtered out, I computd the visits with the `tdf` but that doesn't fix the issue. As yo\n",
    "\n",
    "It looks like even with the `tdf`, the 107 pings are being combined into one long visit `00cc96ca-1549-4a8d-a3cf-a5ed1cb3b7b8,4.5737677,-74.106285,2018-07-05 15:59:13-05:00,d2g618tkq01t,10.0,83,RAFAEL URIBE URIBE,SAN JOSE,2018-11-13 21:45:41-05:00` This appears to be because all the pings for this user fall within the radius of the same location."
   ]
  },
  {
   "cell_type": "code",
   "execution_count": null,
   "metadata": {},
   "outputs": [],
   "source": [
    "from skmob.preprocessing import detection\n",
    "\n",
    "selected_user = \"00cc96ca-1549-4a8d-a3cf-a5ed1cb3b7b8\"\n",
    "example_pings = ping_df[ping_df[\"uid\"] == selected_user].copy()\n",
    "example_tdf = tdf[tdf[\"uid\"] == selected_user].copy()\n",
    "# print(example_pings.sort_values(by='datetime').head())\n",
    "example_tdf.sort_values(by=\"datetime\")\n",
    "example_stdf = detection.stay_locations(\n",
    "    example_tdf,\n",
    "    stop_radius_factor=0.5,\n",
    "    minutes_for_a_stop=20.0,\n",
    "    spatial_radius_km=0.2,\n",
    "    leaving_time=True,\n",
    "    no_data_for_minutes=1440,  # 1000000000000.0,\n",
    "    min_speed_kmh=None,\n",
    ")\n",
    "\n",
    "print(example_stdf)\n",
    "example_tdf.sort_values(by=\"datetime\").head(5)"
   ]
  },
  {
   "cell_type": "code",
   "execution_count": null,
   "metadata": {},
   "outputs": [],
   "source": [
    "map_obj_tdf, user_data_tdf = plot_user_on_map(\n",
    "    shapefile_path=shapefile,\n",
    "    df=example_tdf,\n",
    "    lat_col=\"lat\",\n",
    "    lng_col=\"lng\",\n",
    "    user_id=selected_user,\n",
    ")\n",
    "\n",
    "map_obj_tdf"
   ]
  },
  {
   "cell_type": "markdown",
   "metadata": {},
   "source": [
    "### Simple method for calculating \"visits\"\n",
    "To simply filter pings that were within a certain range of a previous ping we can apply the function below. That will preserve most of the pings from the above example user for instance. However, I'd imagine that for users with near constant pings then many of their pings will be filtered out, so it's important to keep such behaviors in mind."
   ]
  },
  {
   "cell_type": "code",
   "execution_count": null,
   "metadata": {},
   "outputs": [],
   "source": [
    "num_min = 20\n",
    "filtered_pings = filter_pings_for_visit_approx(ping_df, time_window_minutes=num_min)\n",
    "filtered_pings.head()"
   ]
  },
  {
   "cell_type": "code",
   "execution_count": null,
   "metadata": {},
   "outputs": [],
   "source": [
    "print(f\"Writing files to {pq_dir_out}\")\n",
    "\n",
    "filtered_ping_file = f\"{pq_dir_out}pings_seperated_by_{num_min}_minutes_for_users_living_in_selected_txt_control_zats.csv\"\n",
    "# filtered_pings.to_csv(filtered_ping_file, index=False) #uncomment to rewrite file"
   ]
  },
  {
   "cell_type": "markdown",
   "metadata": {},
   "source": [
    "### Compute the stops with sci-kit mobility\n",
    "We will compute stops for 20, 30, and 60 minutes for the dataset and output those stops. \n",
    "It took ~20 minutes to compute the stops for each minimum stopping time.\n",
    "\n",
    "> number_min = 20\n",
    "> sftdf = detection.stay_locations(\n",
    "    ftdf,\n",
    "    stop_radius_factor=0.5,\n",
    "    minutes_for_a_stop=number_min,\n",
    "    spatial_radius_km=0.2,\n",
    "    leaving_time=True,\n",
    ")\n",
    "print(\n",
    "    f\"The number of stops for {number_min} minutes in the filtered dataset is {len(sftdf)}\"\n",
    ")\n",
    "\n",
    "For the`no_data_for_minutes` parameter, the options are either 1e12 or 1440. 1440 is 24 hours worth of minutes - this is to not count stops with more than 1440 minutes of missing data between them as stops because they may just be missing points."
   ]
  },
  {
   "cell_type": "code",
   "execution_count": null,
   "metadata": {},
   "outputs": [],
   "source": [
    "if skmob_compute_visit:\n",
    "    if filter_tdf == False:\n",
    "        ftdf = tdf\n",
    "    calculate_visits_min_minutes(\n",
    "        tdf=ftdf,\n",
    "        visit_durations=[20, 30, 60],\n",
    "        out_dir=pq_dir_out,\n",
    "        no_data_for_minutes=1e12,  # or 1440\n",
    "    )"
   ]
  }
 ],
 "metadata": {
  "kernelspec": {
   "display_name": "geo_mobile",
   "language": "python",
   "name": "python3"
  },
  "language_info": {
   "codemirror_mode": {
    "name": "ipython",
    "version": 3
   },
   "file_extension": ".py",
   "mimetype": "text/x-python",
   "name": "python",
   "nbconvert_exporter": "python",
   "pygments_lexer": "ipython3",
   "version": "3.9.16"
  },
  "orig_nbformat": 4
 },
 "nbformat": 4,
 "nbformat_minor": 2
}
