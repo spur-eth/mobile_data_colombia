{
 "cells": [
  {
   "cell_type": "markdown",
   "metadata": {},
   "source": [
    "## Mobility analysis\n",
    "The purpose of this notebook is to compare the mobility of users who live in the \"treatment\" (ZATs near new cable car) and \"control\" zones (similar ZATs but no new cable car)\n",
    "\n",
    "1) Compute distance between home and work locations \n",
    "2) Compute visits (20, 30, 1hr visit times) "
   ]
  },
  {
   "cell_type": "code",
   "execution_count": null,
   "metadata": {},
   "outputs": [],
   "source": [
    "from dotenv import load_dotenv\n",
    "load_dotenv()\n",
    "\n",
    "from plotting import * \n",
    "from preprocess import *\n",
    "from analysis import *\n",
    "\n",
    "import pandas as pd \n",
    "import skmob\n",
    "\n",
    "# Access environment variables and define other necessary variables\n",
    "data_dir = os.getenv('WORKING_DIR')\n",
    "meta_dir = f'{data_dir}metadata/'\n",
    "pq_dir = f'{data_dir}data/parquet/in_study_area/pass_qc/in_zats/home_in_zats/'\n",
    "hw_dir = f'{data_dir}data/parquet/in_study_area/pass_qc/home_work_locs/'\n",
    "shp_name_zat = 'zat_stratum'\n",
    "shapefile_zat = f'{meta_dir}income/{shp_name_zat}.shp'"
   ]
  },
  {
   "cell_type": "markdown",
   "metadata": {},
   "source": [
    "### Compute distance between home and work locations for users\n",
    "Note that there are three users with two home locations reported `5f0bf98c-00de-4e2d-a8da-8d71d0da8031`, `64e27ab9-8c1c-4548-a3e8-26870ebbc5c8`, `41fd82d6-a492-4864-8068-2134fb176723`, and also some users with two work locations. For these we will just take the first location reported. A quick check to confirm that these users just have multiple locations because they fall on ZAT boundaries, we will plot the two home locations for the three users. (The plot is in line with this explanation.)"
   ]
  },
  {
   "cell_type": "code",
   "execution_count": null,
   "metadata": {},
   "outputs": [],
   "source": [
    "home_locs_file = f'{hw_dir}home/selected_txt_control_home_locs_2200_0600_w_zats_for_users_pass_qc.csv'\n",
    "work_locs_file = f'{hw_dir}work/all_work_locs_0800_1800_w_zats_for_users_pass_qc.csv'\n",
    "\n",
    "home_df = pd.read_csv(home_locs_file, usecols=['uid', 'lat_home', 'lng_home', 'Area', 'MUNCod', 'NOMMun', 'ZAT_home', 'UTAM_home', 'stratum'])\n",
    "work_df = pd.read_csv(work_locs_file, usecols=['uid', 'lat_work', 'lng_work', 'Area', 'MUNCod', 'NOMMun', 'ZAT_work', 'UTAM_work', 'stratum'])\n",
    "\n",
    "uids_mult = ['5f0bf98c-00de-4e2d-a8da-8d71d0da8031', '64e27ab9-8c1c-4548-a3e8-26870ebbc5c8', '41fd82d6-a492-4864-8068-2134fb176723']\n",
    "home_uids_mult = home_df[home_df['uid'].isin(uids_mult)]\n",
    "print(home_uids_mult)\n",
    "\n",
    "#map_obj, user_data = plot_user_on_map(shapefile_path=shapefile_zat, df=home_uids_mult, lat_col='lat_home', lng_col='lng_home', user_id=uids_mult[2])\n",
    "#map_obj.save(f\"{data_dir}figures/{uids_mult[2]}_home_locs_dups_example_zat_boundary.html\")\n",
    "#map_obj"
   ]
  },
  {
   "cell_type": "code",
   "execution_count": null,
   "metadata": {},
   "outputs": [],
   "source": [
    "# drop the duplicates (keeping the first home location) and merge the frames \n",
    "home_df = home_df.drop_duplicates(subset='uid')\n",
    "work_df = work_df.drop_duplicates(subset='uid')\n",
    "\n",
    "home_work_df = home_df.merge(work_df, on='uid', suffixes=('_home','_work'))\n",
    "print(len(home_df), len(work_df), len(home_work_df))\n",
    "home_work_df.head()"
   ]
  },
  {
   "cell_type": "markdown",
   "metadata": {},
   "source": [
    "Calculate the distance between the home and work location for each user"
   ]
  },
  {
   "cell_type": "code",
   "execution_count": null,
   "metadata": {},
   "outputs": [],
   "source": [
    "home_work_df['distance_km'] = home_work_df.apply(geodesic_distance, axis=1)\n",
    "home_work_df.head()"
   ]
  },
  {
   "cell_type": "code",
   "execution_count": null,
   "metadata": {},
   "outputs": [],
   "source": [
    "home_work_w_dist_file = f'{hw_dir}home_work_locs_for_users_living_in_selected_txt_control_zats_w_distance_btwn_home_work.csv'\n",
    "home_work_df.to_csv(home_work_w_dist_file, index=False)"
   ]
  },
  {
   "cell_type": "markdown",
   "metadata": {},
   "source": [
    "### Load the pings data for the users living in the selected ZATs"
   ]
  },
  {
   "cell_type": "markdown",
   "metadata": {},
   "source": [
    "Load 1. the shapefile with the ZAT and stratum information and 2. the user pings"
   ]
  },
  {
   "cell_type": "code",
   "execution_count": null,
   "metadata": {},
   "outputs": [],
   "source": [
    "regions_gdf_zat = gpd.read_file(shapefile_zat)\n",
    "regions_gdf_zat.plot(column='stratum')"
   ]
  },
  {
   "cell_type": "code",
   "execution_count": null,
   "metadata": {},
   "outputs": [],
   "source": [
    "ping_files = glob.glob(pq_dir + '*.parquet')\n",
    "ping_df = ds.dataset(ping_files, format=\"parquet\").to_table().to_pandas()\n",
    "ping_df = ping_df.reset_index()\n",
    "ping_df = ping_df.drop(columns='index')\n",
    "ping_df.head()"
   ]
  },
  {
   "cell_type": "code",
   "execution_count": null,
   "metadata": {},
   "outputs": [],
   "source": [
    "len(ping_df)"
   ]
  },
  {
   "cell_type": "markdown",
   "metadata": {},
   "source": [
    "### Compute visits and other mobility variables\n",
    "Can also \"compress\" the pings data and do other preprocessing and filtering"
   ]
  },
  {
   "cell_type": "markdown",
   "metadata": {},
   "source": [
    "### Load and preprocess pings data\n",
    "Not that we can print the parameters of the functions, for example for the filtering with `print(ftdf.parameters)`. Filtering takes ~28 minutes on the full dataset of pings from users in the selected zats.  "
   ]
  },
  {
   "cell_type": "code",
   "execution_count": null,
   "metadata": {},
   "outputs": [],
   "source": [
    "# Convert the DataFrame into a TrajDataFrame and filter out outliers\n",
    "from skmob.preprocessing import filtering\n",
    "tdf = skmob.TrajDataFrame(ping_df, user_id='uid', latitude='lat', longitude='lng', datetime='datetime')\n",
    "ftdf = filtering.filter(tdf) # takes quite some time - maybe save for later \n",
    "n_deleted_points = len(tdf) - len(ftdf) \n",
    "print(n_deleted_points)"
   ]
  },
  {
   "cell_type": "markdown",
   "metadata": {},
   "source": [
    "### Compute the stops \n",
    "We will compute stops for 20, 30, and 60 minutes for the dataset and output those stops. For the filtered dataset, there are 1861875 stops for at least 60 minutes, although this number is reduced to 1613447 if we don't count pings with more than 24 hours worth of minutes until the next ping (missing data). There are 2763819 stops for at least 20 minutes if we don't count pings with more than 24 hours worth of minutes until the next ping (missing data). \n",
    "\n",
    "It took ~20 minutes to compute the stops for each minimum stopping time."
   ]
  },
  {
   "cell_type": "code",
   "execution_count": null,
   "metadata": {},
   "outputs": [],
   "source": [
    "# Compute the stops \n",
    "number_min = 60\n",
    "sftdf = detection.stay_locations(ftdf, stop_radius_factor=0.5, minutes_for_a_stop=number_min, spatial_radius_km=0.2, leaving_time=True)\n",
    "print(f'The number of stops for {number_min} minutes in the filtered dataset is {len(sftdf)}')"
   ]
  },
  {
   "cell_type": "code",
   "execution_count": null,
   "metadata": {},
   "outputs": [],
   "source": [
    "calculate_visits_min_minutes(\n",
    "    tdf=ftdf, \n",
    "    visit_durations=[20, 30, 60], \n",
    "    out_dir=f'{data_dir}data/parquet/in_study_area/pass_qc/in_zats/visits/',\n",
    "    no_data_for_minutes=1440) #1440 is 24 hours worth of minutes - this is to not count stops with more than 1440 minutes of missing data between them as stops because they may just be missing points"
   ]
  },
  {
   "cell_type": "markdown",
   "metadata": {},
   "source": [
    "### Load in the visits df and visualize some of the stops"
   ]
  },
  {
   "cell_type": "code",
   "execution_count": null,
   "metadata": {},
   "outputs": [],
   "source": [
    "out_dir=f'{data_dir}data/parquet/in_study_area/pass_qc/in_zats/visits/'\n",
    "outfilename = f'{out_dir}users_living_in_sel_zat_visits_atleast_60min.csv'\n",
    "outfilename = f'{out_dir}users_living_in_sel_zat_visits_atleast_60min_nodatafor_1440_minutes.csv'\n",
    "visit_df = pd.read_csv(outfilename)\n",
    "visit_df.head(10)"
   ]
  },
  {
   "cell_type": "code",
   "execution_count": null,
   "metadata": {},
   "outputs": [],
   "source": [
    "visit_df.uid.value_counts()"
   ]
  },
  {
   "cell_type": "markdown",
   "metadata": {},
   "source": [
    "Map some of the visits"
   ]
  },
  {
   "cell_type": "code",
   "execution_count": null,
   "metadata": {},
   "outputs": [],
   "source": [
    "user_id = 'e846d741-5ee4-440f-b304-e4e3886c2210' #'f12efcd6-a347-416c-8a39-93e6fb67f7aa' #'324fe201-cce9-4395-91ab-ee421cdd34c9' #'f07076d8-32be-40f4-ad3a-e1ece90ec6f7' #'00002eec-9e3e-4e4d-9822-4e4858a0de0c'\n",
    "map_obj, user_data = plot_user_on_map(\n",
    "    shapefile_path=shapefile_zat, \n",
    "    df=visit_df, \n",
    "    lat_col='lat', lng_col='lng', \n",
    "    user_id=user_id)\n",
    "    \n",
    "map_obj"
   ]
  },
  {
   "cell_type": "markdown",
   "metadata": {},
   "source": [
    "### Compute other metrics (radius of gyration, etc)"
   ]
  },
  {
   "cell_type": "code",
   "execution_count": null,
   "metadata": {},
   "outputs": [],
   "source": [
    "# TO DO "
   ]
  },
  {
   "cell_type": "markdown",
   "metadata": {},
   "source": [
    "### Visualizing trajectories and stops "
   ]
  },
  {
   "cell_type": "markdown",
   "metadata": {},
   "source": [
    "For a single user..."
   ]
  },
  {
   "cell_type": "code",
   "execution_count": null,
   "metadata": {},
   "outputs": [],
   "source": [
    "# work with one file initially \n",
    "#ping_file = ping_files[1]\n",
    "\n",
    "# work with data for one user initially (with many stops)\n",
    "selected_user = '28a77f51-a6e4-4ca9-88a9-ba37edace695'\n",
    "user_filter=ds.field('uid').isin([selected_user])\n",
    "ping_df = ds.dataset(ping_files, format=\"parquet\").to_table(filter=user_filter).to_pandas()"
   ]
  },
  {
   "cell_type": "code",
   "execution_count": null,
   "metadata": {},
   "outputs": [],
   "source": [
    "map_obj, user_data = plot_frac_data_on_map(shapefile_path=shapefile_zat, ddf=dd.from_pandas(ping_df, npartitions=2), frac=1.0)\n",
    "map_obj"
   ]
  },
  {
   "cell_type": "code",
   "execution_count": null,
   "metadata": {},
   "outputs": [],
   "source": [
    "map_obj_tdf, user_data_tdf = plot_user_on_map(shapefile_path=shapefile_zat, df=tdf, lat_col='lat', lng_col='lng', user_id=selected_user)\n",
    "map_obj_ftdf, user_data_ftdf = plot_user_on_map(shapefile_path=shapefile_zat, df=ftdf, lat_col='lat', lng_col='lng', user_id=selected_user)\n",
    "map_obj_ftdf"
   ]
  },
  {
   "cell_type": "code",
   "execution_count": null,
   "metadata": {},
   "outputs": [],
   "source": [
    "# Compute the stops \n",
    "dfs_to_process = [tdf, ftdf]\n",
    "\n",
    "number_min = 60\n",
    "stdf = detection.stay_locations(tdf, stop_radius_factor=0.5, minutes_for_a_stop=number_min, spatial_radius_km=0.2, leaving_time=True)\n",
    "sftdf = detection.stay_locations(ftdf, stop_radius_factor=0.5, minutes_for_a_stop=number_min, spatial_radius_km=0.2, leaving_time=True)\n",
    "print(f'The number of stops for {number_min} minutes in the filtered dataset is {len(sftdf)}')\n",
    "\n",
    "map_obj_stdf, user_data_stdf = plot_user_on_map(shapefile_path=shapefile_zat, df=stdf, lat_col='lat', lng_col='lng', user_id=selected_user)\n",
    "map_obj_stdf.save(f\"{data_dir}figures/{selected_user}_user_stops_{number_min}_minutes.html\")\n",
    "\n",
    "map_obj_sftdf, user_data_sftdf = plot_user_on_map(shapefile_path=shapefile_zat, df=sftdf, lat_col='lat', lng_col='lng', user_id=selected_user)\n",
    "map_obj_sftdf.save(f\"{data_dir}figures/{selected_user}_user_stops_{number_min}_minutes_filtered.html\")"
   ]
  }
 ],
 "metadata": {
  "kernelspec": {
   "display_name": "geo_mobile",
   "language": "python",
   "name": "python3"
  },
  "language_info": {
   "codemirror_mode": {
    "name": "ipython",
    "version": 3
   },
   "file_extension": ".py",
   "mimetype": "text/x-python",
   "name": "python",
   "nbconvert_exporter": "python",
   "pygments_lexer": "ipython3",
   "version": "3.9.16"
  },
  "orig_nbformat": 4
 },
 "nbformat": 4,
 "nbformat_minor": 2
}
