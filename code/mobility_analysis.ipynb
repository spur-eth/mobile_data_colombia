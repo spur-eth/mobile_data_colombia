{
 "cells": [
  {
   "cell_type": "markdown",
   "metadata": {},
   "source": [
    "## Mobility analysis\n",
    "The purpose of this notebook is to compare the mobility of users who live in the \"treatment\" (ZATs near new cable car) and \"control\" zones (similar ZATs but no new cable car)\n",
    "\n",
    "1) Compute distance between home and work locations \n",
    "2) Compute visits (20, 30, 1hr visit times) "
   ]
  },
  {
   "cell_type": "code",
   "execution_count": null,
   "metadata": {},
   "outputs": [],
   "source": [
    "import os\n",
    "from dotenv import load_dotenv\n",
    "\n",
    "load_dotenv()\n",
    "\n",
    "working_dir = os.getenv(\"WORKING_DIR\")\n",
    "os.environ[\"USE_PYGEOS\"] = \"0\"\n",
    "\n",
    "from setup import *\n",
    "from plotting import *\n",
    "from preprocess import *\n",
    "from analysis import *\n",
    "\n",
    "import pandas as pd\n",
    "import numpy as np\n",
    "import skmob\n",
    "\n",
    "c = read_config(f\"{working_dir}configs/config_2018.yml\")\n",
    "(\n",
    "    year,\n",
    "    datatypes,\n",
    "    initial_cols,\n",
    "    sel_cols,\n",
    "    final_cols,\n",
    "    minlon,\n",
    "    maxlon,\n",
    "    minlat,\n",
    "    maxlat,\n",
    ") = get_config_vars(c=c, mode=\"preprocess\")\n",
    "min_days, min_pings = get_config_vars(c=c, mode=\"user_qc\")\n",
    "\n",
    "where = get_dirs(working_dir, year=year, min_days=min_days, min_pings=min_pings)\n",
    "\n",
    "meta_dir = where.meta_dir\n",
    "\n",
    "# Access environment variables and define other necessary variables\n",
    "working_dir = os.getenv(\"WORKING_DIR\")\n",
    "# pq_dir = f'{working_dir}data/parquet/in_study_area/pass_qc/in_zats/home_in_zats/'\n",
    "# hw_dir = f'{working_dir}data/parquet/in_study_area/pass_qc/home_work_locs/'\n",
    "hw_dir = f\"{where.pass_qc_dir}home_work_locs/\"\n",
    "pq_dir = f\"{hw_dir}home/in_zats/\""
   ]
  },
  {
   "cell_type": "markdown",
   "metadata": {},
   "source": [
    "### Compute distance between home and work locations for users"
   ]
  },
  {
   "cell_type": "code",
   "execution_count": null,
   "metadata": {},
   "outputs": [],
   "source": [
    "# from 2019 analysis:\n",
    "# hw_dir = f'{working_dir}data/parquet/in_study_area/pass_qc/home_work_locs/'\n",
    "# home_locs_file = f'{hw_dir}home/selected_txt_control_home_locs_2200_0600_w_zats_for_users_pass_qc.csv'\n",
    "# work_locs_file = f'{hw_dir}work/all_work_locs_0800_1800_w_zats_for_users_pass_qc.csv'\n",
    "\n",
    "home_locs_file = (\n",
    "    f\"{hw_dir}home/selected_txt_control_home_locs_w_zats_for_users_pass_qc.csv\"\n",
    ")\n",
    "work_locs_file = (\n",
    "    f\"{hw_dir}work/selected_txt_control_work_locs_w_zats_for_users_pass_qc.csv\"\n",
    ")\n",
    "\n",
    "home_df = pd.read_csv(\n",
    "    home_locs_file,\n",
    "    usecols=[\n",
    "        \"uid\",\n",
    "        \"lat_home\",\n",
    "        \"lng_home\",\n",
    "        \"Area\",\n",
    "        \"MUNCod\",\n",
    "        \"NOMMun\",\n",
    "        \"ZAT_home\",\n",
    "        \"UTAM_home\",\n",
    "        \"stratum\",\n",
    "    ],\n",
    ")\n",
    "work_df = pd.read_csv(\n",
    "    work_locs_file,\n",
    "    usecols=[\n",
    "        \"uid\",\n",
    "        \"lat_work\",\n",
    "        \"lng_work\",\n",
    "        \"Area\",\n",
    "        \"MUNCod\",\n",
    "        \"NOMMun\",\n",
    "        \"ZAT_work\",\n",
    "        \"UTAM_work\",\n",
    "        \"stratum\",\n",
    "    ],\n",
    ")"
   ]
  },
  {
   "cell_type": "code",
   "execution_count": null,
   "metadata": {},
   "outputs": [],
   "source": [
    "# drop the duplicates (keeping the first home location) and merge the frames\n",
    "home_df = home_df.drop_duplicates(subset=\"uid\")\n",
    "work_df = work_df.drop_duplicates(subset=\"uid\")\n",
    "\n",
    "home_work_df = home_df.merge(work_df, on=\"uid\", suffixes=(\"_home\", \"_work\"))\n",
    "print(len(home_df), len(work_df), len(home_work_df))\n",
    "home_work_df.head()"
   ]
  },
  {
   "cell_type": "markdown",
   "metadata": {},
   "source": [
    "Calculate the distance between the home and work location for each user"
   ]
  },
  {
   "cell_type": "code",
   "execution_count": null,
   "metadata": {},
   "outputs": [],
   "source": [
    "home_work_df[\"distance_km\"] = home_work_df.apply(geodesic_distance, axis=1)\n",
    "home_work_df.head()"
   ]
  },
  {
   "cell_type": "code",
   "execution_count": null,
   "metadata": {},
   "outputs": [],
   "source": [
    "home_work_w_dist_file = f\"{hw_dir}home_work_locs_for_users_living_in_selected_txt_control_zats_w_distance_btwn_home_work.csv\"\n",
    "home_work_df.to_csv(home_work_w_dist_file, index=False)"
   ]
  },
  {
   "cell_type": "markdown",
   "metadata": {},
   "source": [
    "### Load the pings data for the users living in the selected ZATs"
   ]
  },
  {
   "cell_type": "markdown",
   "metadata": {},
   "source": [
    "Load 1. the shapefile with the ZAT and stratum information and 2. the user pings"
   ]
  },
  {
   "cell_type": "code",
   "execution_count": null,
   "metadata": {},
   "outputs": [],
   "source": [
    "shapefile, regions_gdf_zat = get_shp(\n",
    "    meta_dir=f\"{meta_dir}income/\", shp_name=c[\"meta\"][\"shp\"][\"zat\"], load=True\n",
    ")\n",
    "\n",
    "regions_gdf_zat.plot(column=\"stratum\")"
   ]
  },
  {
   "cell_type": "code",
   "execution_count": null,
   "metadata": {},
   "outputs": [],
   "source": [
    "ping_files = glob.glob(pq_dir + \"*.parquet\")\n",
    "ping_df = ds.dataset(ping_files, format=\"parquet\").to_table().to_pandas()\n",
    "ping_df = ping_df.reset_index()\n",
    "ping_df = ping_df.drop(columns=\"index\")\n",
    "ping_df.head()"
   ]
  },
  {
   "cell_type": "code",
   "execution_count": null,
   "metadata": {},
   "outputs": [],
   "source": [
    "len(ping_df)"
   ]
  },
  {
   "cell_type": "markdown",
   "metadata": {},
   "source": [
    "### Compute visits and other mobility variables\n",
    "Can also \"compress\" the pings data and do other preprocessing and filtering"
   ]
  },
  {
   "cell_type": "markdown",
   "metadata": {},
   "source": [
    "### Load and preprocess pings data\n",
    "Not that we can print the parameters of the functions, for example for the filtering with `print(ftdf.parameters)`. Filtering takes ~28 minutes on the full dataset of pings from users in the selected zats.  "
   ]
  },
  {
   "cell_type": "code",
   "execution_count": null,
   "metadata": {},
   "outputs": [],
   "source": [
    "# Convert the DataFrame into a TrajDataFrame and filter out outliers\n",
    "from skmob.preprocessing import filtering\n",
    "\n",
    "tdf = skmob.TrajDataFrame(\n",
    "    ping_df, user_id=\"uid\", latitude=\"lat\", longitude=\"lng\", datetime=\"datetime\"\n",
    ")\n",
    "ftdf = filtering.filter(tdf)  # takes quite some time - maybe save for later\n",
    "n_deleted_points = len(tdf) - len(ftdf)\n",
    "print(n_deleted_points)"
   ]
  },
  {
   "cell_type": "markdown",
   "metadata": {},
   "source": [
    "### Compute the stops \n",
    "We will compute stops for 20, 30, and 60 minutes for the dataset and output those stops. For the filtered dataset, there are 1861875 stops for at least 60 minutes, although this number is reduced to 1613447 if we don't count pings with more than 24 hours worth of minutes until the next ping (missing data). There are 2763819 stops for at least 20 minutes if we don't count pings with more than 24 hours worth of minutes until the next ping (missing data). \n",
    "\n",
    "It took ~20 minutes to compute the stops for each minimum stopping time."
   ]
  },
  {
   "cell_type": "code",
   "execution_count": null,
   "metadata": {},
   "outputs": [],
   "source": [
    "# Compute the stops\n",
    "number_min = 60\n",
    "sftdf = detection.stay_locations(\n",
    "    ftdf,\n",
    "    stop_radius_factor=0.5,\n",
    "    minutes_for_a_stop=number_min,\n",
    "    spatial_radius_km=0.2,\n",
    "    leaving_time=True,\n",
    ")\n",
    "print(\n",
    "    f\"The number of stops for {number_min} minutes in the filtered dataset is {len(sftdf)}\"\n",
    ")"
   ]
  },
  {
   "cell_type": "code",
   "execution_count": null,
   "metadata": {},
   "outputs": [],
   "source": [
    "# out dir for 2019 data: f'{working_dir}data/parquet/in_study_area/pass_qc/in_zats/visits/'\n",
    "pq_dir_out = f\"{hw_dir}home/in_zats/visits/\"\n",
    "ensure_directory_exists(pq_dir_out)\n",
    "\n",
    "calculate_visits_min_minutes(\n",
    "    tdf=ftdf, visit_durations=[20, 30, 60], out_dir=pq_dir_out, no_data_for_minutes=1e12\n",
    ")  # 1440 is 24 hours worth of minutes - this is to not count stops with more than 1440 minutes of missing data between them as stops because they may just be missing points"
   ]
  },
  {
   "cell_type": "markdown",
   "metadata": {},
   "source": [
    "### Load in the visits df and visualize some of the stops"
   ]
  },
  {
   "cell_type": "code",
   "execution_count": null,
   "metadata": {},
   "outputs": [],
   "source": [
    "# out_dir=f'{working_dir}data/parquet/in_study_area/pass_qc/in_zats/visits/'\n",
    "# outfilename = f'{pq_dir_out}users_living_in_sel_zat_visits_atleast_60min.csv'\n",
    "outfilename = f\"{pq_dir_out}users_living_in_sel_zat_visits_atleast_60min_nodatafor_1440_minutes.csv\"\n",
    "visit_df = pd.read_csv(outfilename)\n",
    "visit_df.head(10)"
   ]
  },
  {
   "cell_type": "code",
   "execution_count": null,
   "metadata": {},
   "outputs": [],
   "source": [
    "visit_df.uid.value_counts()"
   ]
  },
  {
   "cell_type": "markdown",
   "metadata": {},
   "source": [
    "Map some of the visits"
   ]
  },
  {
   "cell_type": "code",
   "execution_count": null,
   "metadata": {},
   "outputs": [],
   "source": [
    "user_id = \"2ff377ea-68e7-4638-bebe-7df5bba77967\"  #'e846d741-5ee4-440f-b304-e4e3886c2210' #'f12efcd6-a347-416c-8a39-93e6fb67f7aa' #'324fe201-cce9-4395-91ab-ee421cdd34c9' #'f07076d8-32be-40f4-ad3a-e1ece90ec6f7' #'00002eec-9e3e-4e4d-9822-4e4858a0de0c'\n",
    "map_obj, user_data = plot_user_on_map(\n",
    "    shapefile_path=shapefile, df=visit_df, lat_col=\"lat\", lng_col=\"lng\", user_id=user_id\n",
    ")\n",
    "\n",
    "map_obj"
   ]
  },
  {
   "cell_type": "markdown",
   "metadata": {},
   "source": [
    "### Compute other metrics (radius of gyration, etc)"
   ]
  },
  {
   "cell_type": "code",
   "execution_count": null,
   "metadata": {},
   "outputs": [],
   "source": [
    "# TO DO"
   ]
  },
  {
   "cell_type": "markdown",
   "metadata": {},
   "source": [
    "### Visualizing trajectories and stops for a single user\n",
    "Work with data for one user initially (with many stops)"
   ]
  },
  {
   "cell_type": "code",
   "execution_count": null,
   "metadata": {},
   "outputs": [],
   "source": [
    "# work with data for one user initially (with many stops)\n",
    "selected_user = user_id\n",
    "user_filter = ds.field(\"uid\").isin([selected_user])\n",
    "ping_df = (\n",
    "    ds.dataset(ping_files, format=\"parquet\").to_table(filter=user_filter).to_pandas()\n",
    ")\n",
    "\n",
    "map_obj, user_data = plot_frac_data_on_map(\n",
    "    shapefile_path=shapefile, ddf=dd.from_pandas(ping_df, npartitions=2), frac=1.0\n",
    ")\n",
    "map_obj"
   ]
  },
  {
   "cell_type": "code",
   "execution_count": null,
   "metadata": {},
   "outputs": [],
   "source": [
    "map_obj_tdf, user_data_tdf = plot_user_on_map(\n",
    "    shapefile_path=shapefile,\n",
    "    df=tdf,\n",
    "    lat_col=\"lat\",\n",
    "    lng_col=\"lng\",\n",
    "    user_id=selected_user,\n",
    ")\n",
    "map_obj_ftdf, user_data_ftdf = plot_user_on_map(\n",
    "    shapefile_path=shapefile,\n",
    "    df=ftdf,\n",
    "    lat_col=\"lat\",\n",
    "    lng_col=\"lng\",\n",
    "    user_id=selected_user,\n",
    ")\n",
    "map_obj_ftdf"
   ]
  },
  {
   "cell_type": "code",
   "execution_count": null,
   "metadata": {},
   "outputs": [],
   "source": [
    "# Compute the stops\n",
    "dfs_to_process = [tdf, ftdf]\n",
    "\n",
    "number_min = 60\n",
    "stdf = detection.stay_locations(\n",
    "    tdf,\n",
    "    stop_radius_factor=0.5,\n",
    "    minutes_for_a_stop=number_min,\n",
    "    spatial_radius_km=0.2,\n",
    "    leaving_time=True,\n",
    ")\n",
    "sftdf = detection.stay_locations(\n",
    "    ftdf,\n",
    "    stop_radius_factor=0.5,\n",
    "    minutes_for_a_stop=number_min,\n",
    "    spatial_radius_km=0.2,\n",
    "    leaving_time=True,\n",
    ")\n",
    "print(\n",
    "    f\"The number of stops for {number_min} minutes in the filtered dataset is {len(sftdf)}\"\n",
    ")\n",
    "\n",
    "map_obj_stdf, user_data_stdf = plot_user_on_map(\n",
    "    shapefile_path=shapefile,\n",
    "    df=stdf,\n",
    "    lat_col=\"lat\",\n",
    "    lng_col=\"lng\",\n",
    "    user_id=selected_user,\n",
    ")\n",
    "map_obj_stdf.save(\n",
    "    f\"{where.plot_dir}{selected_user}_user_stops_{number_min}_minutes.html\"\n",
    ")\n",
    "\n",
    "map_obj_sftdf, user_data_sftdf = plot_user_on_map(\n",
    "    shapefile_path=shapefile,\n",
    "    df=sftdf,\n",
    "    lat_col=\"lat\",\n",
    "    lng_col=\"lng\",\n",
    "    user_id=selected_user,\n",
    ")\n",
    "map_obj_sftdf.save(\n",
    "    f\"{where.plot_dir}figures/{selected_user}_user_stops_{number_min}_minutes_filtered.html\"\n",
    ")"
   ]
  }
 ],
 "metadata": {
  "kernelspec": {
   "display_name": "geo_mobile",
   "language": "python",
   "name": "python3"
  },
  "language_info": {
   "codemirror_mode": {
    "name": "ipython",
    "version": 3
   },
   "file_extension": ".py",
   "mimetype": "text/x-python",
   "name": "python",
   "nbconvert_exporter": "python",
   "pygments_lexer": "ipython3",
   "version": "3.9.16"
  },
  "orig_nbformat": 4
 },
 "nbformat": 4,
 "nbformat_minor": 2
}
