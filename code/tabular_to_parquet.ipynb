{
 "cells": [
  {
   "attachments": {},
   "cell_type": "markdown",
   "metadata": {},
   "source": [
    "## Conversion of tabular data to other formats for querying \n",
    "The purpose of this notebook is to test (memory, time) efficient methods to work with big data that don't fit into memory for queries and to run downstream analyses. In this case the data are large tabular files of mobile data. \n",
    "The two methods I will try are: \n",
    "\n",
    "1) To create a database [with SQLite](https://www.sqlite.org/index.html)\n",
    "2) To re-write the data to a parquet format using [Apache Arrow](https://arrow.apache.org/docs/python/parquet.html)\n",
    "\n",
    "(The second option honestly seems much faster and better than the first, at least so far in my hands.)\n",
    "\n",
    "other resources to look into: \n",
    "- [Apache Beam](https://github.com/apache/beam/blob/master/sdks/python/apache_beam/examples/sql_taxi.py)\n",
    "- [mobilekit POI mapping](https://mobilkit.readthedocs.io/en/latest/examples/M4R_03_POI_visit_analysis.html) and related [docs](https://mobilkit.readthedocs.io/en/latest/mobilkit.spatial.html)\n",
    "- [info](https://docs.dask.org/en/stable/generated/dask.dataframe.read_parquet.html) about reading parquet files with dask \n",
    "\n",
    "## Filter of data by qc parameters \n",
    "Will also calculate user stats and filter data for users that meet the minimum standard for downstream analysis. "
   ]
  },
  {
   "attachments": {},
   "cell_type": "markdown",
   "metadata": {},
   "source": [
    "### Data reading and package imports"
   ]
  },
  {
   "cell_type": "code",
   "execution_count": 1,
   "metadata": {},
   "outputs": [],
   "source": [
    "from dotenv import load_dotenv\n",
    "load_dotenv()\n",
    "\n",
    "import os\n",
    "import glob\n",
    "#from tqdm import tqdm, notebook\n",
    "from tqdm.notebook import trange, tqdm\n",
    "\n",
    "import numpy as np\n",
    "import pandas as pd\n",
    "\n",
    "import pyarrow as pa\n",
    "import pyarrow.parquet as pq\n",
    "import pyarrow.dataset as ds\n",
    "\n",
    "import dask.dataframe as dd\n",
    "import geopandas as gpd\n",
    "from datetime import datetime as dt\n",
    "\n",
    "import mobilkit #.loader.crop_spatial as mkcrop_spatial\n",
    "\n",
    "# Access environment variables and define other necessary variables\n",
    "data_dir = os.getenv('WORKING_DIR')\n",
    "meta_dir = f'{data_dir}metadata/'\n",
    "\n",
    "#data_2019 = f'{data_dir}data/year=2019/'\n",
    "#data_folders = glob.glob((data_2019 + '*/'))\n",
    "\n",
    "initial_cols=['device_id', 'id_type', 'latitude', 'longitude', 'horizontal_accuracy', 'timestamp',  'ip_address', 'device_os', 'country', 'unknown_2', 'geohash']\n",
    "sel_cols = [\"device_id\",\"latitude\",\"longitude\",\"timestamp\",\"geohash\",\"horizontal_accuracy\"]\n",
    "final_cols = [\"uid\",\"lat\",\"lng\",\"datetime\",\"geohash\",\"horizontal_accuracy\"]\n",
    "\n",
    "# boundary box that roughly captures the larger county of Bogota\n",
    "minlon = -74.453\n",
    "maxlon = -73.992\n",
    "minlat = 3.727\n",
    "maxlat = 4.835"
   ]
  },
  {
   "cell_type": "code",
   "execution_count": 2,
   "metadata": {},
   "outputs": [],
   "source": [
    "#### FUNCTIONS FOR DATA PROCESSING ####\n",
    "\n",
    "def get_days(data_folder):\n",
    "    \"\"\"Assuming a directory organized as a month's worth of days with files in each directory like \"day=01\", etc \"\"\"\n",
    "    day_dirs = glob.glob((data_folder + '*/'))\n",
    "    return day_dirs\n",
    "\n",
    "def get_files(data_folder, day_dir):\n",
    "    \"\"\"Assuming a dir corresponding to and named for a day day_dir, (e.g. \"day=01\") within the data_folder with that day's mobile data files.\"\"\"\n",
    "    day = day_dir.split(data_folder)[1]\n",
    "    filepaths = [fn for fn in glob.glob(day_dir + '*') if not os.path.basename(fn).endswith('.gz')] # select all the non-zipped mobile data files\n",
    "    return filepaths, day\n",
    "\n",
    "def load_data(filepaths, initial_cols, sel_cols, final_cols): \n",
    "    \"\"\"Load in the mobile data and specify the columns\"\"\"\n",
    "    ddf = dd.read_csv(filepaths, names=initial_cols)\n",
    "    ddf = ddf[sel_cols]\n",
    "    ddf.columns = final_cols\n",
    "    return ddf \n",
    "\n",
    "def convert_datetime(ddf: dd.DataFrame): #needs work\n",
    "    \"\"\"Process timestamp to datetime for dataframe with a \"datatime\" column with timestamp values. \"\"\"\n",
    "    ddf[\"datetime\"] = dd.to_datetime(ddf[\"datetime\"], unit='ms', errors='coerce')\n",
    "    ddf[\"datetime\"] = ddf[\"datetime\"].dt.tz_localize('UTC').dt.tz_convert('America/Bogota')\n",
    "    return ddf\n",
    "\n",
    "def preprocess_mobile(ddf: dd.DataFrame, final_cols: list, minlon , maxlon, minlat, maxlat): #needs work\n",
    "    \"\"\"Select only those points within an area of interest and process timestamp to datetime \n",
    "    for dataframe with a \"datatime\" column with timestamp values.\"\"\"\n",
    "    ddf = find_within_box(ddf, minlon, maxlon, minlat, maxlat)\n",
    "    ddf = convert_datetime(ddf)[final_cols]\n",
    "    df = ddf.compute()\n",
    "    return df\n",
    "\n",
    "def find_within_box(ddf, minlon, maxlon, minlat, maxlat):\n",
    "    \"\"\"Quick way to filter out points not in a particular rectangular region.\"\"\"\n",
    "    box=[minlon,minlat,maxlon,maxlat]\n",
    "    filtered_ddf = mobilkit.loader.crop_spatial(ddf, box).reset_index()\n",
    "    return filtered_ddf\n",
    "\n",
    "#### FUNCTIONS FOR PARQUET CONVERSION ####\n",
    "\n",
    "def write_to_pq(df, out_dir, filename): \n",
    "    table_name = f'{out_dir}{filename}.parquet'\n",
    "    table = pa.Table.from_pandas(df)\n",
    "    pq.write_table(table, table_name)\n",
    "\n",
    "def from_month_write_filter_days_to_pq(data_folder: str, month: str, year: str, out_dir:str):\n",
    "    day_dirs = glob.glob((data_folder + '*/'))\n",
    "    for i in tqdm(range(0,len(day_dirs)), desc=f'Files from {year} {month} processed'): \n",
    "        filepaths, day = get_files(data_folder, day_dirs[i])\n",
    "        day_name = day.split('/')[0]\n",
    "        ddf = load_data(filepaths, initial_cols, sel_cols, final_cols)\n",
    "        df = preprocess_mobile(ddf, final_cols, minlon, maxlon, minlat, maxlat)\n",
    "        filename = f'bogota_area_{year}_{month}_{day_name}'\n",
    "        write_to_pq(df, out_dir, filename)\n",
    "    return"
   ]
  },
  {
   "attachments": {},
   "cell_type": "markdown",
   "metadata": {},
   "source": [
    "## Apache Re-formatting"
   ]
  },
  {
   "attachments": {},
   "cell_type": "markdown",
   "metadata": {},
   "source": [
    "### Convert tabular data to parquet\n",
    "For each day in each month, load the files for the Colombia mobile data, filter the pings that are roughly in the Bogota area, and process the datetime. Write each day as a parquet file with the year, month, and day information in the filename.\n",
    "\n",
    "This process takes about 10-15 minutes for larger data months and about 1 minute for the smallest data months (month=3)\n",
    "\n",
    "More information [here](https://arrow.apache.org/docs/python/parquet.html)."
   ]
  },
  {
   "cell_type": "code",
   "execution_count": 3,
   "metadata": {},
   "outputs": [],
   "source": [
    "year = 'year=2019'\n",
    "in_dir = f'{data_dir}data/'\n",
    "data_year = f'{in_dir}{year}/'\n",
    "data_folders = glob.glob((data_year + '*/'))\n",
    "\n",
    "# restrict to only folders where the data has not been processed yet\n",
    "data_folders = [folder for folder in data_folders if ('month=1' not in folder) and ('month=2' not in folder)]\n",
    "\n",
    "out_dir = f'{data_dir}data/parquet/bogota_area_raw/'\n",
    "\n",
    "for i in range(0, len(data_folders)):\n",
    "    data_folder = data_folders[i]\n",
    "    month = data_folder.split(data_year)[1].split('/')[0]\n",
    "    #from_month_write_filter_days_to_pq(data_folder, month, year, out_dir) "
   ]
  },
  {
   "attachments": {},
   "cell_type": "markdown",
   "metadata": {},
   "source": [
    "### Make dataset from parquet\n",
    "Convert the parquet files into a dataset that is queryable\n",
    "\n",
    "More information [here](https://arrow.apache.org/docs/python/dataset.html#dataset)."
   ]
  },
  {
   "cell_type": "code",
   "execution_count": 4,
   "metadata": {},
   "outputs": [],
   "source": [
    "pq_dir = f'{data_dir}data/parquet/bogota_area_raw/'\n",
    "dataset = ds.dataset(pq_dir, format=\"parquet\")"
   ]
  },
  {
   "attachments": {},
   "cell_type": "markdown",
   "metadata": {},
   "source": [
    "As in the documentation \"Creating a Dataset object does not begin reading the data itself. If needed, it only crawls the directory to find all the file and infers the dataset’s schema (by default from the first file).\" \n",
    "\n",
    "Lets look at some properties of the dataset, including what files it would be based on and some metadata."
   ]
  },
  {
   "cell_type": "code",
   "execution_count": 5,
   "metadata": {},
   "outputs": [
    {
     "name": "stdout",
     "output_type": "stream",
     "text": [
      "['/Users/emilyrobitschek/git/ETH/SPUR/mobile_data_colombia/data/parquet/bogota_area_raw/month=1/bogota_area_year=2019_month=1_day=01.parquet', '/Users/emilyrobitschek/git/ETH/SPUR/mobile_data_colombia/data/parquet/bogota_area_raw/month=1/bogota_area_year=2019_month=1_day=02.parquet', '/Users/emilyrobitschek/git/ETH/SPUR/mobile_data_colombia/data/parquet/bogota_area_raw/month=1/bogota_area_year=2019_month=1_day=03.parquet', '/Users/emilyrobitschek/git/ETH/SPUR/mobile_data_colombia/data/parquet/bogota_area_raw/month=1/bogota_area_year=2019_month=1_day=04.parquet', '/Users/emilyrobitschek/git/ETH/SPUR/mobile_data_colombia/data/parquet/bogota_area_raw/month=1/bogota_area_year=2019_month=1_day=05.parquet', '/Users/emilyrobitschek/git/ETH/SPUR/mobile_data_colombia/data/parquet/bogota_area_raw/month=1/bogota_area_year=2019_month=1_day=06.parquet', '/Users/emilyrobitschek/git/ETH/SPUR/mobile_data_colombia/data/parquet/bogota_area_raw/month=1/bogota_area_year=2019_month=1_day=07.parquet', '/Users/emilyrobitschek/git/ETH/SPUR/mobile_data_colombia/data/parquet/bogota_area_raw/month=1/bogota_area_year=2019_month=1_day=08.parquet', '/Users/emilyrobitschek/git/ETH/SPUR/mobile_data_colombia/data/parquet/bogota_area_raw/month=1/bogota_area_year=2019_month=1_day=09.parquet', '/Users/emilyrobitschek/git/ETH/SPUR/mobile_data_colombia/data/parquet/bogota_area_raw/month=1/bogota_area_year=2019_month=1_day=10.parquet', '/Users/emilyrobitschek/git/ETH/SPUR/mobile_data_colombia/data/parquet/bogota_area_raw/month=1/bogota_area_year=2019_month=1_day=11.parquet', '/Users/emilyrobitschek/git/ETH/SPUR/mobile_data_colombia/data/parquet/bogota_area_raw/month=1/bogota_area_year=2019_month=1_day=12.parquet', '/Users/emilyrobitschek/git/ETH/SPUR/mobile_data_colombia/data/parquet/bogota_area_raw/month=1/bogota_area_year=2019_month=1_day=13.parquet', '/Users/emilyrobitschek/git/ETH/SPUR/mobile_data_colombia/data/parquet/bogota_area_raw/month=1/bogota_area_year=2019_month=1_day=14.parquet', '/Users/emilyrobitschek/git/ETH/SPUR/mobile_data_colombia/data/parquet/bogota_area_raw/month=1/bogota_area_year=2019_month=1_day=15.parquet', '/Users/emilyrobitschek/git/ETH/SPUR/mobile_data_colombia/data/parquet/bogota_area_raw/month=1/bogota_area_year=2019_month=1_day=16.parquet', '/Users/emilyrobitschek/git/ETH/SPUR/mobile_data_colombia/data/parquet/bogota_area_raw/month=1/bogota_area_year=2019_month=1_day=17.parquet', '/Users/emilyrobitschek/git/ETH/SPUR/mobile_data_colombia/data/parquet/bogota_area_raw/month=1/bogota_area_year=2019_month=1_day=18.parquet', '/Users/emilyrobitschek/git/ETH/SPUR/mobile_data_colombia/data/parquet/bogota_area_raw/month=1/bogota_area_year=2019_month=1_day=19.parquet', '/Users/emilyrobitschek/git/ETH/SPUR/mobile_data_colombia/data/parquet/bogota_area_raw/month=1/bogota_area_year=2019_month=1_day=20.parquet', '/Users/emilyrobitschek/git/ETH/SPUR/mobile_data_colombia/data/parquet/bogota_area_raw/month=1/bogota_area_year=2019_month=1_day=21.parquet', '/Users/emilyrobitschek/git/ETH/SPUR/mobile_data_colombia/data/parquet/bogota_area_raw/month=1/bogota_area_year=2019_month=1_day=22.parquet', '/Users/emilyrobitschek/git/ETH/SPUR/mobile_data_colombia/data/parquet/bogota_area_raw/month=1/bogota_area_year=2019_month=1_day=23.parquet', '/Users/emilyrobitschek/git/ETH/SPUR/mobile_data_colombia/data/parquet/bogota_area_raw/month=1/bogota_area_year=2019_month=1_day=24.parquet', '/Users/emilyrobitschek/git/ETH/SPUR/mobile_data_colombia/data/parquet/bogota_area_raw/month=1/bogota_area_year=2019_month=1_day=25.parquet', '/Users/emilyrobitschek/git/ETH/SPUR/mobile_data_colombia/data/parquet/bogota_area_raw/month=1/bogota_area_year=2019_month=1_day=26.parquet', '/Users/emilyrobitschek/git/ETH/SPUR/mobile_data_colombia/data/parquet/bogota_area_raw/month=1/bogota_area_year=2019_month=1_day=27.parquet', '/Users/emilyrobitschek/git/ETH/SPUR/mobile_data_colombia/data/parquet/bogota_area_raw/month=1/bogota_area_year=2019_month=1_day=28.parquet', '/Users/emilyrobitschek/git/ETH/SPUR/mobile_data_colombia/data/parquet/bogota_area_raw/month=1/bogota_area_year=2019_month=1_day=29.parquet', '/Users/emilyrobitschek/git/ETH/SPUR/mobile_data_colombia/data/parquet/bogota_area_raw/month=1/bogota_area_year=2019_month=1_day=30.parquet', '/Users/emilyrobitschek/git/ETH/SPUR/mobile_data_colombia/data/parquet/bogota_area_raw/month=1/bogota_area_year=2019_month=1_day=31.parquet', '/Users/emilyrobitschek/git/ETH/SPUR/mobile_data_colombia/data/parquet/bogota_area_raw/month=2/bogota_area_year=2019_month=2_day=01.parquet', '/Users/emilyrobitschek/git/ETH/SPUR/mobile_data_colombia/data/parquet/bogota_area_raw/month=2/bogota_area_year=2019_month=2_day=02.parquet', '/Users/emilyrobitschek/git/ETH/SPUR/mobile_data_colombia/data/parquet/bogota_area_raw/month=2/bogota_area_year=2019_month=2_day=03.parquet', '/Users/emilyrobitschek/git/ETH/SPUR/mobile_data_colombia/data/parquet/bogota_area_raw/month=2/bogota_area_year=2019_month=2_day=04.parquet', '/Users/emilyrobitschek/git/ETH/SPUR/mobile_data_colombia/data/parquet/bogota_area_raw/month=2/bogota_area_year=2019_month=2_day=05.parquet', '/Users/emilyrobitschek/git/ETH/SPUR/mobile_data_colombia/data/parquet/bogota_area_raw/month=2/bogota_area_year=2019_month=2_day=06.parquet', '/Users/emilyrobitschek/git/ETH/SPUR/mobile_data_colombia/data/parquet/bogota_area_raw/month=2/bogota_area_year=2019_month=2_day=07.parquet', '/Users/emilyrobitschek/git/ETH/SPUR/mobile_data_colombia/data/parquet/bogota_area_raw/month=2/bogota_area_year=2019_month=2_day=08.parquet', '/Users/emilyrobitschek/git/ETH/SPUR/mobile_data_colombia/data/parquet/bogota_area_raw/month=2/bogota_area_year=2019_month=2_day=09.parquet', '/Users/emilyrobitschek/git/ETH/SPUR/mobile_data_colombia/data/parquet/bogota_area_raw/month=2/bogota_area_year=2019_month=2_day=10.parquet', '/Users/emilyrobitschek/git/ETH/SPUR/mobile_data_colombia/data/parquet/bogota_area_raw/month=2/bogota_area_year=2019_month=2_day=11.parquet', '/Users/emilyrobitschek/git/ETH/SPUR/mobile_data_colombia/data/parquet/bogota_area_raw/month=2/bogota_area_year=2019_month=2_day=12.parquet', '/Users/emilyrobitschek/git/ETH/SPUR/mobile_data_colombia/data/parquet/bogota_area_raw/month=2/bogota_area_year=2019_month=2_day=13.parquet', '/Users/emilyrobitschek/git/ETH/SPUR/mobile_data_colombia/data/parquet/bogota_area_raw/month=2/bogota_area_year=2019_month=2_day=14.parquet', '/Users/emilyrobitschek/git/ETH/SPUR/mobile_data_colombia/data/parquet/bogota_area_raw/month=2/bogota_area_year=2019_month=2_day=15.parquet', '/Users/emilyrobitschek/git/ETH/SPUR/mobile_data_colombia/data/parquet/bogota_area_raw/month=2/bogota_area_year=2019_month=2_day=16.parquet', '/Users/emilyrobitschek/git/ETH/SPUR/mobile_data_colombia/data/parquet/bogota_area_raw/month=2/bogota_area_year=2019_month=2_day=17.parquet', '/Users/emilyrobitschek/git/ETH/SPUR/mobile_data_colombia/data/parquet/bogota_area_raw/month=2/bogota_area_year=2019_month=2_day=18.parquet', '/Users/emilyrobitschek/git/ETH/SPUR/mobile_data_colombia/data/parquet/bogota_area_raw/month=2/bogota_area_year=2019_month=2_day=19.parquet', '/Users/emilyrobitschek/git/ETH/SPUR/mobile_data_colombia/data/parquet/bogota_area_raw/month=2/bogota_area_year=2019_month=2_day=20.parquet', '/Users/emilyrobitschek/git/ETH/SPUR/mobile_data_colombia/data/parquet/bogota_area_raw/month=2/bogota_area_year=2019_month=2_day=21.parquet', '/Users/emilyrobitschek/git/ETH/SPUR/mobile_data_colombia/data/parquet/bogota_area_raw/month=2/bogota_area_year=2019_month=2_day=22.parquet', '/Users/emilyrobitschek/git/ETH/SPUR/mobile_data_colombia/data/parquet/bogota_area_raw/month=2/bogota_area_year=2019_month=2_day=23.parquet', '/Users/emilyrobitschek/git/ETH/SPUR/mobile_data_colombia/data/parquet/bogota_area_raw/month=2/bogota_area_year=2019_month=2_day=24.parquet', '/Users/emilyrobitschek/git/ETH/SPUR/mobile_data_colombia/data/parquet/bogota_area_raw/month=2/bogota_area_year=2019_month=2_day=25.parquet', '/Users/emilyrobitschek/git/ETH/SPUR/mobile_data_colombia/data/parquet/bogota_area_raw/month=2/bogota_area_year=2019_month=2_day=26.parquet', '/Users/emilyrobitschek/git/ETH/SPUR/mobile_data_colombia/data/parquet/bogota_area_raw/month=2/bogota_area_year=2019_month=2_day=27.parquet', '/Users/emilyrobitschek/git/ETH/SPUR/mobile_data_colombia/data/parquet/bogota_area_raw/month=2/bogota_area_year=2019_month=2_day=28.parquet', '/Users/emilyrobitschek/git/ETH/SPUR/mobile_data_colombia/data/parquet/bogota_area_raw/month=3/bogota_area_year=2019_month=3_day=01.parquet', '/Users/emilyrobitschek/git/ETH/SPUR/mobile_data_colombia/data/parquet/bogota_area_raw/month=3/bogota_area_year=2019_month=3_day=02.parquet', '/Users/emilyrobitschek/git/ETH/SPUR/mobile_data_colombia/data/parquet/bogota_area_raw/month=3/bogota_area_year=2019_month=3_day=03.parquet', '/Users/emilyrobitschek/git/ETH/SPUR/mobile_data_colombia/data/parquet/bogota_area_raw/month=3/bogota_area_year=2019_month=3_day=04.parquet', '/Users/emilyrobitschek/git/ETH/SPUR/mobile_data_colombia/data/parquet/bogota_area_raw/month=3/bogota_area_year=2019_month=3_day=05.parquet', '/Users/emilyrobitschek/git/ETH/SPUR/mobile_data_colombia/data/parquet/bogota_area_raw/month=3/bogota_area_year=2019_month=3_day=06.parquet', '/Users/emilyrobitschek/git/ETH/SPUR/mobile_data_colombia/data/parquet/bogota_area_raw/month=3/bogota_area_year=2019_month=3_day=07.parquet', '/Users/emilyrobitschek/git/ETH/SPUR/mobile_data_colombia/data/parquet/bogota_area_raw/month=3/bogota_area_year=2019_month=3_day=08.parquet', '/Users/emilyrobitschek/git/ETH/SPUR/mobile_data_colombia/data/parquet/bogota_area_raw/month=3/bogota_area_year=2019_month=3_day=09.parquet', '/Users/emilyrobitschek/git/ETH/SPUR/mobile_data_colombia/data/parquet/bogota_area_raw/month=3/bogota_area_year=2019_month=3_day=10.parquet', '/Users/emilyrobitschek/git/ETH/SPUR/mobile_data_colombia/data/parquet/bogota_area_raw/month=3/bogota_area_year=2019_month=3_day=11.parquet', '/Users/emilyrobitschek/git/ETH/SPUR/mobile_data_colombia/data/parquet/bogota_area_raw/month=3/bogota_area_year=2019_month=3_day=12.parquet', '/Users/emilyrobitschek/git/ETH/SPUR/mobile_data_colombia/data/parquet/bogota_area_raw/month=3/bogota_area_year=2019_month=3_day=13.parquet', '/Users/emilyrobitschek/git/ETH/SPUR/mobile_data_colombia/data/parquet/bogota_area_raw/month=3/bogota_area_year=2019_month=3_day=14.parquet', '/Users/emilyrobitschek/git/ETH/SPUR/mobile_data_colombia/data/parquet/bogota_area_raw/month=3/bogota_area_year=2019_month=3_day=15.parquet', '/Users/emilyrobitschek/git/ETH/SPUR/mobile_data_colombia/data/parquet/bogota_area_raw/month=3/bogota_area_year=2019_month=3_day=16.parquet', '/Users/emilyrobitschek/git/ETH/SPUR/mobile_data_colombia/data/parquet/bogota_area_raw/month=3/bogota_area_year=2019_month=3_day=17.parquet', '/Users/emilyrobitschek/git/ETH/SPUR/mobile_data_colombia/data/parquet/bogota_area_raw/month=3/bogota_area_year=2019_month=3_day=18.parquet', '/Users/emilyrobitschek/git/ETH/SPUR/mobile_data_colombia/data/parquet/bogota_area_raw/month=3/bogota_area_year=2019_month=3_day=19.parquet', '/Users/emilyrobitschek/git/ETH/SPUR/mobile_data_colombia/data/parquet/bogota_area_raw/month=3/bogota_area_year=2019_month=3_day=20.parquet', '/Users/emilyrobitschek/git/ETH/SPUR/mobile_data_colombia/data/parquet/bogota_area_raw/month=3/bogota_area_year=2019_month=3_day=21.parquet', '/Users/emilyrobitschek/git/ETH/SPUR/mobile_data_colombia/data/parquet/bogota_area_raw/month=3/bogota_area_year=2019_month=3_day=22.parquet', '/Users/emilyrobitschek/git/ETH/SPUR/mobile_data_colombia/data/parquet/bogota_area_raw/month=3/bogota_area_year=2019_month=3_day=23.parquet', '/Users/emilyrobitschek/git/ETH/SPUR/mobile_data_colombia/data/parquet/bogota_area_raw/month=3/bogota_area_year=2019_month=3_day=24.parquet', '/Users/emilyrobitschek/git/ETH/SPUR/mobile_data_colombia/data/parquet/bogota_area_raw/month=3/bogota_area_year=2019_month=3_day=25.parquet', '/Users/emilyrobitschek/git/ETH/SPUR/mobile_data_colombia/data/parquet/bogota_area_raw/month=3/bogota_area_year=2019_month=3_day=26.parquet', '/Users/emilyrobitschek/git/ETH/SPUR/mobile_data_colombia/data/parquet/bogota_area_raw/month=3/bogota_area_year=2019_month=3_day=27.parquet', '/Users/emilyrobitschek/git/ETH/SPUR/mobile_data_colombia/data/parquet/bogota_area_raw/month=3/bogota_area_year=2019_month=3_day=28.parquet', '/Users/emilyrobitschek/git/ETH/SPUR/mobile_data_colombia/data/parquet/bogota_area_raw/month=3/bogota_area_year=2019_month=3_day=29.parquet', '/Users/emilyrobitschek/git/ETH/SPUR/mobile_data_colombia/data/parquet/bogota_area_raw/month=3/bogota_area_year=2019_month=3_day=30.parquet', '/Users/emilyrobitschek/git/ETH/SPUR/mobile_data_colombia/data/parquet/bogota_area_raw/month=3/bogota_area_year=2019_month=3_day=31.parquet', '/Users/emilyrobitschek/git/ETH/SPUR/mobile_data_colombia/data/parquet/bogota_area_raw/month=4/bogota_area_year=2019_month=4_day=01.parquet', '/Users/emilyrobitschek/git/ETH/SPUR/mobile_data_colombia/data/parquet/bogota_area_raw/month=4/bogota_area_year=2019_month=4_day=02.parquet', '/Users/emilyrobitschek/git/ETH/SPUR/mobile_data_colombia/data/parquet/bogota_area_raw/month=4/bogota_area_year=2019_month=4_day=03.parquet', '/Users/emilyrobitschek/git/ETH/SPUR/mobile_data_colombia/data/parquet/bogota_area_raw/month=4/bogota_area_year=2019_month=4_day=04.parquet', '/Users/emilyrobitschek/git/ETH/SPUR/mobile_data_colombia/data/parquet/bogota_area_raw/month=4/bogota_area_year=2019_month=4_day=05.parquet', '/Users/emilyrobitschek/git/ETH/SPUR/mobile_data_colombia/data/parquet/bogota_area_raw/month=4/bogota_area_year=2019_month=4_day=06.parquet', '/Users/emilyrobitschek/git/ETH/SPUR/mobile_data_colombia/data/parquet/bogota_area_raw/month=4/bogota_area_year=2019_month=4_day=07.parquet', '/Users/emilyrobitschek/git/ETH/SPUR/mobile_data_colombia/data/parquet/bogota_area_raw/month=4/bogota_area_year=2019_month=4_day=08.parquet', '/Users/emilyrobitschek/git/ETH/SPUR/mobile_data_colombia/data/parquet/bogota_area_raw/month=4/bogota_area_year=2019_month=4_day=09.parquet', '/Users/emilyrobitschek/git/ETH/SPUR/mobile_data_colombia/data/parquet/bogota_area_raw/month=4/bogota_area_year=2019_month=4_day=10.parquet', '/Users/emilyrobitschek/git/ETH/SPUR/mobile_data_colombia/data/parquet/bogota_area_raw/month=4/bogota_area_year=2019_month=4_day=11.parquet', '/Users/emilyrobitschek/git/ETH/SPUR/mobile_data_colombia/data/parquet/bogota_area_raw/month=4/bogota_area_year=2019_month=4_day=12.parquet', '/Users/emilyrobitschek/git/ETH/SPUR/mobile_data_colombia/data/parquet/bogota_area_raw/month=4/bogota_area_year=2019_month=4_day=13.parquet', '/Users/emilyrobitschek/git/ETH/SPUR/mobile_data_colombia/data/parquet/bogota_area_raw/month=4/bogota_area_year=2019_month=4_day=14.parquet', '/Users/emilyrobitschek/git/ETH/SPUR/mobile_data_colombia/data/parquet/bogota_area_raw/month=4/bogota_area_year=2019_month=4_day=15.parquet', '/Users/emilyrobitschek/git/ETH/SPUR/mobile_data_colombia/data/parquet/bogota_area_raw/month=4/bogota_area_year=2019_month=4_day=16.parquet', '/Users/emilyrobitschek/git/ETH/SPUR/mobile_data_colombia/data/parquet/bogota_area_raw/month=4/bogota_area_year=2019_month=4_day=17.parquet', '/Users/emilyrobitschek/git/ETH/SPUR/mobile_data_colombia/data/parquet/bogota_area_raw/month=4/bogota_area_year=2019_month=4_day=18.parquet', '/Users/emilyrobitschek/git/ETH/SPUR/mobile_data_colombia/data/parquet/bogota_area_raw/month=4/bogota_area_year=2019_month=4_day=19.parquet', '/Users/emilyrobitschek/git/ETH/SPUR/mobile_data_colombia/data/parquet/bogota_area_raw/month=4/bogota_area_year=2019_month=4_day=20.parquet', '/Users/emilyrobitschek/git/ETH/SPUR/mobile_data_colombia/data/parquet/bogota_area_raw/month=4/bogota_area_year=2019_month=4_day=21.parquet', '/Users/emilyrobitschek/git/ETH/SPUR/mobile_data_colombia/data/parquet/bogota_area_raw/month=4/bogota_area_year=2019_month=4_day=22.parquet', '/Users/emilyrobitschek/git/ETH/SPUR/mobile_data_colombia/data/parquet/bogota_area_raw/month=4/bogota_area_year=2019_month=4_day=23.parquet', '/Users/emilyrobitschek/git/ETH/SPUR/mobile_data_colombia/data/parquet/bogota_area_raw/month=4/bogota_area_year=2019_month=4_day=24.parquet', '/Users/emilyrobitschek/git/ETH/SPUR/mobile_data_colombia/data/parquet/bogota_area_raw/month=4/bogota_area_year=2019_month=4_day=25.parquet', '/Users/emilyrobitschek/git/ETH/SPUR/mobile_data_colombia/data/parquet/bogota_area_raw/month=4/bogota_area_year=2019_month=4_day=26.parquet', '/Users/emilyrobitschek/git/ETH/SPUR/mobile_data_colombia/data/parquet/bogota_area_raw/month=4/bogota_area_year=2019_month=4_day=27.parquet', '/Users/emilyrobitschek/git/ETH/SPUR/mobile_data_colombia/data/parquet/bogota_area_raw/month=4/bogota_area_year=2019_month=4_day=28.parquet', '/Users/emilyrobitschek/git/ETH/SPUR/mobile_data_colombia/data/parquet/bogota_area_raw/month=4/bogota_area_year=2019_month=4_day=29.parquet', '/Users/emilyrobitschek/git/ETH/SPUR/mobile_data_colombia/data/parquet/bogota_area_raw/month=4/bogota_area_year=2019_month=4_day=30.parquet', '/Users/emilyrobitschek/git/ETH/SPUR/mobile_data_colombia/data/parquet/bogota_area_raw/month=5/bogota_area_year=2019_month=5_day=01.parquet', '/Users/emilyrobitschek/git/ETH/SPUR/mobile_data_colombia/data/parquet/bogota_area_raw/month=5/bogota_area_year=2019_month=5_day=02.parquet', '/Users/emilyrobitschek/git/ETH/SPUR/mobile_data_colombia/data/parquet/bogota_area_raw/month=5/bogota_area_year=2019_month=5_day=03.parquet', '/Users/emilyrobitschek/git/ETH/SPUR/mobile_data_colombia/data/parquet/bogota_area_raw/month=5/bogota_area_year=2019_month=5_day=04.parquet', '/Users/emilyrobitschek/git/ETH/SPUR/mobile_data_colombia/data/parquet/bogota_area_raw/month=5/bogota_area_year=2019_month=5_day=05.parquet', '/Users/emilyrobitschek/git/ETH/SPUR/mobile_data_colombia/data/parquet/bogota_area_raw/month=5/bogota_area_year=2019_month=5_day=06.parquet', '/Users/emilyrobitschek/git/ETH/SPUR/mobile_data_colombia/data/parquet/bogota_area_raw/month=5/bogota_area_year=2019_month=5_day=07.parquet', '/Users/emilyrobitschek/git/ETH/SPUR/mobile_data_colombia/data/parquet/bogota_area_raw/month=5/bogota_area_year=2019_month=5_day=08.parquet', '/Users/emilyrobitschek/git/ETH/SPUR/mobile_data_colombia/data/parquet/bogota_area_raw/month=5/bogota_area_year=2019_month=5_day=09.parquet', '/Users/emilyrobitschek/git/ETH/SPUR/mobile_data_colombia/data/parquet/bogota_area_raw/month=5/bogota_area_year=2019_month=5_day=10.parquet', '/Users/emilyrobitschek/git/ETH/SPUR/mobile_data_colombia/data/parquet/bogota_area_raw/month=5/bogota_area_year=2019_month=5_day=11.parquet', '/Users/emilyrobitschek/git/ETH/SPUR/mobile_data_colombia/data/parquet/bogota_area_raw/month=5/bogota_area_year=2019_month=5_day=12.parquet', '/Users/emilyrobitschek/git/ETH/SPUR/mobile_data_colombia/data/parquet/bogota_area_raw/month=5/bogota_area_year=2019_month=5_day=13.parquet', '/Users/emilyrobitschek/git/ETH/SPUR/mobile_data_colombia/data/parquet/bogota_area_raw/month=5/bogota_area_year=2019_month=5_day=14.parquet', '/Users/emilyrobitschek/git/ETH/SPUR/mobile_data_colombia/data/parquet/bogota_area_raw/month=5/bogota_area_year=2019_month=5_day=15.parquet', '/Users/emilyrobitschek/git/ETH/SPUR/mobile_data_colombia/data/parquet/bogota_area_raw/month=5/bogota_area_year=2019_month=5_day=16.parquet', '/Users/emilyrobitschek/git/ETH/SPUR/mobile_data_colombia/data/parquet/bogota_area_raw/month=5/bogota_area_year=2019_month=5_day=17.parquet', '/Users/emilyrobitschek/git/ETH/SPUR/mobile_data_colombia/data/parquet/bogota_area_raw/month=5/bogota_area_year=2019_month=5_day=18.parquet', '/Users/emilyrobitschek/git/ETH/SPUR/mobile_data_colombia/data/parquet/bogota_area_raw/month=5/bogota_area_year=2019_month=5_day=19.parquet', '/Users/emilyrobitschek/git/ETH/SPUR/mobile_data_colombia/data/parquet/bogota_area_raw/month=5/bogota_area_year=2019_month=5_day=20.parquet', '/Users/emilyrobitschek/git/ETH/SPUR/mobile_data_colombia/data/parquet/bogota_area_raw/month=5/bogota_area_year=2019_month=5_day=21.parquet', '/Users/emilyrobitschek/git/ETH/SPUR/mobile_data_colombia/data/parquet/bogota_area_raw/month=5/bogota_area_year=2019_month=5_day=22.parquet', '/Users/emilyrobitschek/git/ETH/SPUR/mobile_data_colombia/data/parquet/bogota_area_raw/month=5/bogota_area_year=2019_month=5_day=23.parquet', '/Users/emilyrobitschek/git/ETH/SPUR/mobile_data_colombia/data/parquet/bogota_area_raw/month=5/bogota_area_year=2019_month=5_day=24.parquet', '/Users/emilyrobitschek/git/ETH/SPUR/mobile_data_colombia/data/parquet/bogota_area_raw/month=5/bogota_area_year=2019_month=5_day=25.parquet', '/Users/emilyrobitschek/git/ETH/SPUR/mobile_data_colombia/data/parquet/bogota_area_raw/month=5/bogota_area_year=2019_month=5_day=26.parquet', '/Users/emilyrobitschek/git/ETH/SPUR/mobile_data_colombia/data/parquet/bogota_area_raw/month=5/bogota_area_year=2019_month=5_day=27.parquet', '/Users/emilyrobitschek/git/ETH/SPUR/mobile_data_colombia/data/parquet/bogota_area_raw/month=5/bogota_area_year=2019_month=5_day=28.parquet', '/Users/emilyrobitschek/git/ETH/SPUR/mobile_data_colombia/data/parquet/bogota_area_raw/month=5/bogota_area_year=2019_month=5_day=29.parquet', '/Users/emilyrobitschek/git/ETH/SPUR/mobile_data_colombia/data/parquet/bogota_area_raw/month=5/bogota_area_year=2019_month=5_day=30.parquet', '/Users/emilyrobitschek/git/ETH/SPUR/mobile_data_colombia/data/parquet/bogota_area_raw/month=5/bogota_area_year=2019_month=5_day=31.parquet', '/Users/emilyrobitschek/git/ETH/SPUR/mobile_data_colombia/data/parquet/bogota_area_raw/month=6/bogota_area_year=2019_month=6_day=01.parquet', '/Users/emilyrobitschek/git/ETH/SPUR/mobile_data_colombia/data/parquet/bogota_area_raw/month=6/bogota_area_year=2019_month=6_day=02.parquet', '/Users/emilyrobitschek/git/ETH/SPUR/mobile_data_colombia/data/parquet/bogota_area_raw/month=6/bogota_area_year=2019_month=6_day=03.parquet', '/Users/emilyrobitschek/git/ETH/SPUR/mobile_data_colombia/data/parquet/bogota_area_raw/month=6/bogota_area_year=2019_month=6_day=04.parquet', '/Users/emilyrobitschek/git/ETH/SPUR/mobile_data_colombia/data/parquet/bogota_area_raw/month=6/bogota_area_year=2019_month=6_day=05.parquet', '/Users/emilyrobitschek/git/ETH/SPUR/mobile_data_colombia/data/parquet/bogota_area_raw/month=6/bogota_area_year=2019_month=6_day=06.parquet', '/Users/emilyrobitschek/git/ETH/SPUR/mobile_data_colombia/data/parquet/bogota_area_raw/month=6/bogota_area_year=2019_month=6_day=07.parquet', '/Users/emilyrobitschek/git/ETH/SPUR/mobile_data_colombia/data/parquet/bogota_area_raw/month=6/bogota_area_year=2019_month=6_day=08.parquet', '/Users/emilyrobitschek/git/ETH/SPUR/mobile_data_colombia/data/parquet/bogota_area_raw/month=6/bogota_area_year=2019_month=6_day=09.parquet', '/Users/emilyrobitschek/git/ETH/SPUR/mobile_data_colombia/data/parquet/bogota_area_raw/month=6/bogota_area_year=2019_month=6_day=10.parquet', '/Users/emilyrobitschek/git/ETH/SPUR/mobile_data_colombia/data/parquet/bogota_area_raw/month=6/bogota_area_year=2019_month=6_day=11.parquet', '/Users/emilyrobitschek/git/ETH/SPUR/mobile_data_colombia/data/parquet/bogota_area_raw/month=6/bogota_area_year=2019_month=6_day=12.parquet', '/Users/emilyrobitschek/git/ETH/SPUR/mobile_data_colombia/data/parquet/bogota_area_raw/month=6/bogota_area_year=2019_month=6_day=13.parquet', '/Users/emilyrobitschek/git/ETH/SPUR/mobile_data_colombia/data/parquet/bogota_area_raw/month=6/bogota_area_year=2019_month=6_day=14.parquet', '/Users/emilyrobitschek/git/ETH/SPUR/mobile_data_colombia/data/parquet/bogota_area_raw/month=6/bogota_area_year=2019_month=6_day=15.parquet', '/Users/emilyrobitschek/git/ETH/SPUR/mobile_data_colombia/data/parquet/bogota_area_raw/month=6/bogota_area_year=2019_month=6_day=16.parquet', '/Users/emilyrobitschek/git/ETH/SPUR/mobile_data_colombia/data/parquet/bogota_area_raw/month=6/bogota_area_year=2019_month=6_day=17.parquet', '/Users/emilyrobitschek/git/ETH/SPUR/mobile_data_colombia/data/parquet/bogota_area_raw/month=6/bogota_area_year=2019_month=6_day=18.parquet', '/Users/emilyrobitschek/git/ETH/SPUR/mobile_data_colombia/data/parquet/bogota_area_raw/month=6/bogota_area_year=2019_month=6_day=19.parquet', '/Users/emilyrobitschek/git/ETH/SPUR/mobile_data_colombia/data/parquet/bogota_area_raw/month=6/bogota_area_year=2019_month=6_day=20.parquet', '/Users/emilyrobitschek/git/ETH/SPUR/mobile_data_colombia/data/parquet/bogota_area_raw/month=6/bogota_area_year=2019_month=6_day=21.parquet', '/Users/emilyrobitschek/git/ETH/SPUR/mobile_data_colombia/data/parquet/bogota_area_raw/month=6/bogota_area_year=2019_month=6_day=22.parquet', '/Users/emilyrobitschek/git/ETH/SPUR/mobile_data_colombia/data/parquet/bogota_area_raw/month=6/bogota_area_year=2019_month=6_day=23.parquet', '/Users/emilyrobitschek/git/ETH/SPUR/mobile_data_colombia/data/parquet/bogota_area_raw/month=6/bogota_area_year=2019_month=6_day=24.parquet', '/Users/emilyrobitschek/git/ETH/SPUR/mobile_data_colombia/data/parquet/bogota_area_raw/month=6/bogota_area_year=2019_month=6_day=25.parquet', '/Users/emilyrobitschek/git/ETH/SPUR/mobile_data_colombia/data/parquet/bogota_area_raw/month=6/bogota_area_year=2019_month=6_day=26.parquet', '/Users/emilyrobitschek/git/ETH/SPUR/mobile_data_colombia/data/parquet/bogota_area_raw/month=6/bogota_area_year=2019_month=6_day=27.parquet', '/Users/emilyrobitschek/git/ETH/SPUR/mobile_data_colombia/data/parquet/bogota_area_raw/month=6/bogota_area_year=2019_month=6_day=28.parquet', '/Users/emilyrobitschek/git/ETH/SPUR/mobile_data_colombia/data/parquet/bogota_area_raw/month=6/bogota_area_year=2019_month=6_day=29.parquet', '/Users/emilyrobitschek/git/ETH/SPUR/mobile_data_colombia/data/parquet/bogota_area_raw/month=6/bogota_area_year=2019_month=6_day=30.parquet', '/Users/emilyrobitschek/git/ETH/SPUR/mobile_data_colombia/data/parquet/bogota_area_raw/month=7/bogota_area_year=2019_month=7_day=01.parquet', '/Users/emilyrobitschek/git/ETH/SPUR/mobile_data_colombia/data/parquet/bogota_area_raw/month=7/bogota_area_year=2019_month=7_day=02.parquet', '/Users/emilyrobitschek/git/ETH/SPUR/mobile_data_colombia/data/parquet/bogota_area_raw/month=7/bogota_area_year=2019_month=7_day=03.parquet', '/Users/emilyrobitschek/git/ETH/SPUR/mobile_data_colombia/data/parquet/bogota_area_raw/month=7/bogota_area_year=2019_month=7_day=04.parquet', '/Users/emilyrobitschek/git/ETH/SPUR/mobile_data_colombia/data/parquet/bogota_area_raw/month=7/bogota_area_year=2019_month=7_day=05.parquet', '/Users/emilyrobitschek/git/ETH/SPUR/mobile_data_colombia/data/parquet/bogota_area_raw/month=7/bogota_area_year=2019_month=7_day=06.parquet', '/Users/emilyrobitschek/git/ETH/SPUR/mobile_data_colombia/data/parquet/bogota_area_raw/month=7/bogota_area_year=2019_month=7_day=07.parquet', '/Users/emilyrobitschek/git/ETH/SPUR/mobile_data_colombia/data/parquet/bogota_area_raw/month=7/bogota_area_year=2019_month=7_day=08.parquet', '/Users/emilyrobitschek/git/ETH/SPUR/mobile_data_colombia/data/parquet/bogota_area_raw/month=7/bogota_area_year=2019_month=7_day=09.parquet', '/Users/emilyrobitschek/git/ETH/SPUR/mobile_data_colombia/data/parquet/bogota_area_raw/month=7/bogota_area_year=2019_month=7_day=10.parquet', '/Users/emilyrobitschek/git/ETH/SPUR/mobile_data_colombia/data/parquet/bogota_area_raw/month=7/bogota_area_year=2019_month=7_day=11.parquet', '/Users/emilyrobitschek/git/ETH/SPUR/mobile_data_colombia/data/parquet/bogota_area_raw/month=7/bogota_area_year=2019_month=7_day=12.parquet', '/Users/emilyrobitschek/git/ETH/SPUR/mobile_data_colombia/data/parquet/bogota_area_raw/month=7/bogota_area_year=2019_month=7_day=13.parquet', '/Users/emilyrobitschek/git/ETH/SPUR/mobile_data_colombia/data/parquet/bogota_area_raw/month=7/bogota_area_year=2019_month=7_day=14.parquet', '/Users/emilyrobitschek/git/ETH/SPUR/mobile_data_colombia/data/parquet/bogota_area_raw/month=7/bogota_area_year=2019_month=7_day=15.parquet', '/Users/emilyrobitschek/git/ETH/SPUR/mobile_data_colombia/data/parquet/bogota_area_raw/month=7/bogota_area_year=2019_month=7_day=16.parquet', '/Users/emilyrobitschek/git/ETH/SPUR/mobile_data_colombia/data/parquet/bogota_area_raw/month=7/bogota_area_year=2019_month=7_day=17.parquet', '/Users/emilyrobitschek/git/ETH/SPUR/mobile_data_colombia/data/parquet/bogota_area_raw/month=7/bogota_area_year=2019_month=7_day=18.parquet', '/Users/emilyrobitschek/git/ETH/SPUR/mobile_data_colombia/data/parquet/bogota_area_raw/month=7/bogota_area_year=2019_month=7_day=19.parquet', '/Users/emilyrobitschek/git/ETH/SPUR/mobile_data_colombia/data/parquet/bogota_area_raw/month=7/bogota_area_year=2019_month=7_day=20.parquet', '/Users/emilyrobitschek/git/ETH/SPUR/mobile_data_colombia/data/parquet/bogota_area_raw/month=7/bogota_area_year=2019_month=7_day=21.parquet', '/Users/emilyrobitschek/git/ETH/SPUR/mobile_data_colombia/data/parquet/bogota_area_raw/month=7/bogota_area_year=2019_month=7_day=22.parquet', '/Users/emilyrobitschek/git/ETH/SPUR/mobile_data_colombia/data/parquet/bogota_area_raw/month=7/bogota_area_year=2019_month=7_day=23.parquet', '/Users/emilyrobitschek/git/ETH/SPUR/mobile_data_colombia/data/parquet/bogota_area_raw/month=7/bogota_area_year=2019_month=7_day=24.parquet', '/Users/emilyrobitschek/git/ETH/SPUR/mobile_data_colombia/data/parquet/bogota_area_raw/month=7/bogota_area_year=2019_month=7_day=25.parquet', '/Users/emilyrobitschek/git/ETH/SPUR/mobile_data_colombia/data/parquet/bogota_area_raw/month=7/bogota_area_year=2019_month=7_day=26.parquet', '/Users/emilyrobitschek/git/ETH/SPUR/mobile_data_colombia/data/parquet/bogota_area_raw/month=7/bogota_area_year=2019_month=7_day=27.parquet', '/Users/emilyrobitschek/git/ETH/SPUR/mobile_data_colombia/data/parquet/bogota_area_raw/month=7/bogota_area_year=2019_month=7_day=28.parquet', '/Users/emilyrobitschek/git/ETH/SPUR/mobile_data_colombia/data/parquet/bogota_area_raw/month=7/bogota_area_year=2019_month=7_day=29.parquet', '/Users/emilyrobitschek/git/ETH/SPUR/mobile_data_colombia/data/parquet/bogota_area_raw/month=7/bogota_area_year=2019_month=7_day=30.parquet', '/Users/emilyrobitschek/git/ETH/SPUR/mobile_data_colombia/data/parquet/bogota_area_raw/month=7/bogota_area_year=2019_month=7_day=31.parquet', '/Users/emilyrobitschek/git/ETH/SPUR/mobile_data_colombia/data/parquet/bogota_area_raw/month=8/bogota_area_year=2019_month=8_day=01.parquet', '/Users/emilyrobitschek/git/ETH/SPUR/mobile_data_colombia/data/parquet/bogota_area_raw/month=8/bogota_area_year=2019_month=8_day=02.parquet', '/Users/emilyrobitschek/git/ETH/SPUR/mobile_data_colombia/data/parquet/bogota_area_raw/month=8/bogota_area_year=2019_month=8_day=03.parquet', '/Users/emilyrobitschek/git/ETH/SPUR/mobile_data_colombia/data/parquet/bogota_area_raw/month=8/bogota_area_year=2019_month=8_day=04.parquet', '/Users/emilyrobitschek/git/ETH/SPUR/mobile_data_colombia/data/parquet/bogota_area_raw/month=8/bogota_area_year=2019_month=8_day=05.parquet', '/Users/emilyrobitschek/git/ETH/SPUR/mobile_data_colombia/data/parquet/bogota_area_raw/month=8/bogota_area_year=2019_month=8_day=06.parquet', '/Users/emilyrobitschek/git/ETH/SPUR/mobile_data_colombia/data/parquet/bogota_area_raw/month=8/bogota_area_year=2019_month=8_day=07.parquet', '/Users/emilyrobitschek/git/ETH/SPUR/mobile_data_colombia/data/parquet/bogota_area_raw/month=8/bogota_area_year=2019_month=8_day=08.parquet', '/Users/emilyrobitschek/git/ETH/SPUR/mobile_data_colombia/data/parquet/bogota_area_raw/month=8/bogota_area_year=2019_month=8_day=09.parquet', '/Users/emilyrobitschek/git/ETH/SPUR/mobile_data_colombia/data/parquet/bogota_area_raw/month=8/bogota_area_year=2019_month=8_day=10.parquet', '/Users/emilyrobitschek/git/ETH/SPUR/mobile_data_colombia/data/parquet/bogota_area_raw/month=8/bogota_area_year=2019_month=8_day=11.parquet', '/Users/emilyrobitschek/git/ETH/SPUR/mobile_data_colombia/data/parquet/bogota_area_raw/month=8/bogota_area_year=2019_month=8_day=12.parquet', '/Users/emilyrobitschek/git/ETH/SPUR/mobile_data_colombia/data/parquet/bogota_area_raw/month=8/bogota_area_year=2019_month=8_day=13.parquet', '/Users/emilyrobitschek/git/ETH/SPUR/mobile_data_colombia/data/parquet/bogota_area_raw/month=8/bogota_area_year=2019_month=8_day=14.parquet', '/Users/emilyrobitschek/git/ETH/SPUR/mobile_data_colombia/data/parquet/bogota_area_raw/month=8/bogota_area_year=2019_month=8_day=15.parquet', '/Users/emilyrobitschek/git/ETH/SPUR/mobile_data_colombia/data/parquet/bogota_area_raw/month=8/bogota_area_year=2019_month=8_day=16.parquet', '/Users/emilyrobitschek/git/ETH/SPUR/mobile_data_colombia/data/parquet/bogota_area_raw/month=8/bogota_area_year=2019_month=8_day=17.parquet', '/Users/emilyrobitschek/git/ETH/SPUR/mobile_data_colombia/data/parquet/bogota_area_raw/month=8/bogota_area_year=2019_month=8_day=18.parquet', '/Users/emilyrobitschek/git/ETH/SPUR/mobile_data_colombia/data/parquet/bogota_area_raw/month=8/bogota_area_year=2019_month=8_day=19.parquet', '/Users/emilyrobitschek/git/ETH/SPUR/mobile_data_colombia/data/parquet/bogota_area_raw/month=8/bogota_area_year=2019_month=8_day=20.parquet', '/Users/emilyrobitschek/git/ETH/SPUR/mobile_data_colombia/data/parquet/bogota_area_raw/month=8/bogota_area_year=2019_month=8_day=21.parquet', '/Users/emilyrobitschek/git/ETH/SPUR/mobile_data_colombia/data/parquet/bogota_area_raw/month=8/bogota_area_year=2019_month=8_day=22.parquet', '/Users/emilyrobitschek/git/ETH/SPUR/mobile_data_colombia/data/parquet/bogota_area_raw/month=8/bogota_area_year=2019_month=8_day=23.parquet', '/Users/emilyrobitschek/git/ETH/SPUR/mobile_data_colombia/data/parquet/bogota_area_raw/month=8/bogota_area_year=2019_month=8_day=24.parquet', '/Users/emilyrobitschek/git/ETH/SPUR/mobile_data_colombia/data/parquet/bogota_area_raw/month=8/bogota_area_year=2019_month=8_day=25.parquet', '/Users/emilyrobitschek/git/ETH/SPUR/mobile_data_colombia/data/parquet/bogota_area_raw/month=8/bogota_area_year=2019_month=8_day=26.parquet', '/Users/emilyrobitschek/git/ETH/SPUR/mobile_data_colombia/data/parquet/bogota_area_raw/month=8/bogota_area_year=2019_month=8_day=27.parquet', '/Users/emilyrobitschek/git/ETH/SPUR/mobile_data_colombia/data/parquet/bogota_area_raw/month=8/bogota_area_year=2019_month=8_day=28.parquet', '/Users/emilyrobitschek/git/ETH/SPUR/mobile_data_colombia/data/parquet/bogota_area_raw/month=8/bogota_area_year=2019_month=8_day=29.parquet', '/Users/emilyrobitschek/git/ETH/SPUR/mobile_data_colombia/data/parquet/bogota_area_raw/month=8/bogota_area_year=2019_month=8_day=30.parquet', '/Users/emilyrobitschek/git/ETH/SPUR/mobile_data_colombia/data/parquet/bogota_area_raw/month=8/bogota_area_year=2019_month=8_day=31.parquet']\n",
      "uid: string\n",
      "lat: double\n",
      "lng: double\n",
      "datetime: timestamp[us, tz=America/Bogota]\n",
      "geohash: string\n",
      "horizontal_accuracy: double\n",
      "__index_level_0__: int64\n",
      "-- schema metadata --\n",
      "pandas: '{\"index_columns\": [\"__index_level_0__\"], \"column_indexes\": [{\"na' + 1055\n",
      "[<pyarrow.dataset.ParquetFileFragment path=/Users/emilyrobitschek/git/ETH/SPUR/mobile_data_colombia/data/parquet/bogota_area_raw/month=1/bogota_area_year=2019_month=1_day=01.parquet>, <pyarrow.dataset.ParquetFileFragment path=/Users/emilyrobitschek/git/ETH/SPUR/mobile_data_colombia/data/parquet/bogota_area_raw/month=1/bogota_area_year=2019_month=1_day=02.parquet>, <pyarrow.dataset.ParquetFileFragment path=/Users/emilyrobitschek/git/ETH/SPUR/mobile_data_colombia/data/parquet/bogota_area_raw/month=1/bogota_area_year=2019_month=1_day=03.parquet>, <pyarrow.dataset.ParquetFileFragment path=/Users/emilyrobitschek/git/ETH/SPUR/mobile_data_colombia/data/parquet/bogota_area_raw/month=1/bogota_area_year=2019_month=1_day=04.parquet>, <pyarrow.dataset.ParquetFileFragment path=/Users/emilyrobitschek/git/ETH/SPUR/mobile_data_colombia/data/parquet/bogota_area_raw/month=1/bogota_area_year=2019_month=1_day=05.parquet>, <pyarrow.dataset.ParquetFileFragment path=/Users/emilyrobitschek/git/ETH/SPUR/mobile_data_colombia/data/parquet/bogota_area_raw/month=1/bogota_area_year=2019_month=1_day=06.parquet>, <pyarrow.dataset.ParquetFileFragment path=/Users/emilyrobitschek/git/ETH/SPUR/mobile_data_colombia/data/parquet/bogota_area_raw/month=1/bogota_area_year=2019_month=1_day=07.parquet>, <pyarrow.dataset.ParquetFileFragment path=/Users/emilyrobitschek/git/ETH/SPUR/mobile_data_colombia/data/parquet/bogota_area_raw/month=1/bogota_area_year=2019_month=1_day=08.parquet>, <pyarrow.dataset.ParquetFileFragment path=/Users/emilyrobitschek/git/ETH/SPUR/mobile_data_colombia/data/parquet/bogota_area_raw/month=1/bogota_area_year=2019_month=1_day=09.parquet>, <pyarrow.dataset.ParquetFileFragment path=/Users/emilyrobitschek/git/ETH/SPUR/mobile_data_colombia/data/parquet/bogota_area_raw/month=1/bogota_area_year=2019_month=1_day=10.parquet>, <pyarrow.dataset.ParquetFileFragment path=/Users/emilyrobitschek/git/ETH/SPUR/mobile_data_colombia/data/parquet/bogota_area_raw/month=1/bogota_area_year=2019_month=1_day=11.parquet>, <pyarrow.dataset.ParquetFileFragment path=/Users/emilyrobitschek/git/ETH/SPUR/mobile_data_colombia/data/parquet/bogota_area_raw/month=1/bogota_area_year=2019_month=1_day=12.parquet>, <pyarrow.dataset.ParquetFileFragment path=/Users/emilyrobitschek/git/ETH/SPUR/mobile_data_colombia/data/parquet/bogota_area_raw/month=1/bogota_area_year=2019_month=1_day=13.parquet>, <pyarrow.dataset.ParquetFileFragment path=/Users/emilyrobitschek/git/ETH/SPUR/mobile_data_colombia/data/parquet/bogota_area_raw/month=1/bogota_area_year=2019_month=1_day=14.parquet>, <pyarrow.dataset.ParquetFileFragment path=/Users/emilyrobitschek/git/ETH/SPUR/mobile_data_colombia/data/parquet/bogota_area_raw/month=1/bogota_area_year=2019_month=1_day=15.parquet>, <pyarrow.dataset.ParquetFileFragment path=/Users/emilyrobitschek/git/ETH/SPUR/mobile_data_colombia/data/parquet/bogota_area_raw/month=1/bogota_area_year=2019_month=1_day=16.parquet>, <pyarrow.dataset.ParquetFileFragment path=/Users/emilyrobitschek/git/ETH/SPUR/mobile_data_colombia/data/parquet/bogota_area_raw/month=1/bogota_area_year=2019_month=1_day=17.parquet>, <pyarrow.dataset.ParquetFileFragment path=/Users/emilyrobitschek/git/ETH/SPUR/mobile_data_colombia/data/parquet/bogota_area_raw/month=1/bogota_area_year=2019_month=1_day=18.parquet>, <pyarrow.dataset.ParquetFileFragment path=/Users/emilyrobitschek/git/ETH/SPUR/mobile_data_colombia/data/parquet/bogota_area_raw/month=1/bogota_area_year=2019_month=1_day=19.parquet>, <pyarrow.dataset.ParquetFileFragment path=/Users/emilyrobitschek/git/ETH/SPUR/mobile_data_colombia/data/parquet/bogota_area_raw/month=1/bogota_area_year=2019_month=1_day=20.parquet>, <pyarrow.dataset.ParquetFileFragment path=/Users/emilyrobitschek/git/ETH/SPUR/mobile_data_colombia/data/parquet/bogota_area_raw/month=1/bogota_area_year=2019_month=1_day=21.parquet>, <pyarrow.dataset.ParquetFileFragment path=/Users/emilyrobitschek/git/ETH/SPUR/mobile_data_colombia/data/parquet/bogota_area_raw/month=1/bogota_area_year=2019_month=1_day=22.parquet>, <pyarrow.dataset.ParquetFileFragment path=/Users/emilyrobitschek/git/ETH/SPUR/mobile_data_colombia/data/parquet/bogota_area_raw/month=1/bogota_area_year=2019_month=1_day=23.parquet>, <pyarrow.dataset.ParquetFileFragment path=/Users/emilyrobitschek/git/ETH/SPUR/mobile_data_colombia/data/parquet/bogota_area_raw/month=1/bogota_area_year=2019_month=1_day=24.parquet>, <pyarrow.dataset.ParquetFileFragment path=/Users/emilyrobitschek/git/ETH/SPUR/mobile_data_colombia/data/parquet/bogota_area_raw/month=1/bogota_area_year=2019_month=1_day=25.parquet>, <pyarrow.dataset.ParquetFileFragment path=/Users/emilyrobitschek/git/ETH/SPUR/mobile_data_colombia/data/parquet/bogota_area_raw/month=1/bogota_area_year=2019_month=1_day=26.parquet>, <pyarrow.dataset.ParquetFileFragment path=/Users/emilyrobitschek/git/ETH/SPUR/mobile_data_colombia/data/parquet/bogota_area_raw/month=1/bogota_area_year=2019_month=1_day=27.parquet>, <pyarrow.dataset.ParquetFileFragment path=/Users/emilyrobitschek/git/ETH/SPUR/mobile_data_colombia/data/parquet/bogota_area_raw/month=1/bogota_area_year=2019_month=1_day=28.parquet>, <pyarrow.dataset.ParquetFileFragment path=/Users/emilyrobitschek/git/ETH/SPUR/mobile_data_colombia/data/parquet/bogota_area_raw/month=1/bogota_area_year=2019_month=1_day=29.parquet>, <pyarrow.dataset.ParquetFileFragment path=/Users/emilyrobitschek/git/ETH/SPUR/mobile_data_colombia/data/parquet/bogota_area_raw/month=1/bogota_area_year=2019_month=1_day=30.parquet>, <pyarrow.dataset.ParquetFileFragment path=/Users/emilyrobitschek/git/ETH/SPUR/mobile_data_colombia/data/parquet/bogota_area_raw/month=1/bogota_area_year=2019_month=1_day=31.parquet>, <pyarrow.dataset.ParquetFileFragment path=/Users/emilyrobitschek/git/ETH/SPUR/mobile_data_colombia/data/parquet/bogota_area_raw/month=2/bogota_area_year=2019_month=2_day=01.parquet>, <pyarrow.dataset.ParquetFileFragment path=/Users/emilyrobitschek/git/ETH/SPUR/mobile_data_colombia/data/parquet/bogota_area_raw/month=2/bogota_area_year=2019_month=2_day=02.parquet>, <pyarrow.dataset.ParquetFileFragment path=/Users/emilyrobitschek/git/ETH/SPUR/mobile_data_colombia/data/parquet/bogota_area_raw/month=2/bogota_area_year=2019_month=2_day=03.parquet>, <pyarrow.dataset.ParquetFileFragment path=/Users/emilyrobitschek/git/ETH/SPUR/mobile_data_colombia/data/parquet/bogota_area_raw/month=2/bogota_area_year=2019_month=2_day=04.parquet>, <pyarrow.dataset.ParquetFileFragment path=/Users/emilyrobitschek/git/ETH/SPUR/mobile_data_colombia/data/parquet/bogota_area_raw/month=2/bogota_area_year=2019_month=2_day=05.parquet>, <pyarrow.dataset.ParquetFileFragment path=/Users/emilyrobitschek/git/ETH/SPUR/mobile_data_colombia/data/parquet/bogota_area_raw/month=2/bogota_area_year=2019_month=2_day=06.parquet>, <pyarrow.dataset.ParquetFileFragment path=/Users/emilyrobitschek/git/ETH/SPUR/mobile_data_colombia/data/parquet/bogota_area_raw/month=2/bogota_area_year=2019_month=2_day=07.parquet>, <pyarrow.dataset.ParquetFileFragment path=/Users/emilyrobitschek/git/ETH/SPUR/mobile_data_colombia/data/parquet/bogota_area_raw/month=2/bogota_area_year=2019_month=2_day=08.parquet>, <pyarrow.dataset.ParquetFileFragment path=/Users/emilyrobitschek/git/ETH/SPUR/mobile_data_colombia/data/parquet/bogota_area_raw/month=2/bogota_area_year=2019_month=2_day=09.parquet>, <pyarrow.dataset.ParquetFileFragment path=/Users/emilyrobitschek/git/ETH/SPUR/mobile_data_colombia/data/parquet/bogota_area_raw/month=2/bogota_area_year=2019_month=2_day=10.parquet>, <pyarrow.dataset.ParquetFileFragment path=/Users/emilyrobitschek/git/ETH/SPUR/mobile_data_colombia/data/parquet/bogota_area_raw/month=2/bogota_area_year=2019_month=2_day=11.parquet>, <pyarrow.dataset.ParquetFileFragment path=/Users/emilyrobitschek/git/ETH/SPUR/mobile_data_colombia/data/parquet/bogota_area_raw/month=2/bogota_area_year=2019_month=2_day=12.parquet>, <pyarrow.dataset.ParquetFileFragment path=/Users/emilyrobitschek/git/ETH/SPUR/mobile_data_colombia/data/parquet/bogota_area_raw/month=2/bogota_area_year=2019_month=2_day=13.parquet>, <pyarrow.dataset.ParquetFileFragment path=/Users/emilyrobitschek/git/ETH/SPUR/mobile_data_colombia/data/parquet/bogota_area_raw/month=2/bogota_area_year=2019_month=2_day=14.parquet>, <pyarrow.dataset.ParquetFileFragment path=/Users/emilyrobitschek/git/ETH/SPUR/mobile_data_colombia/data/parquet/bogota_area_raw/month=2/bogota_area_year=2019_month=2_day=15.parquet>, <pyarrow.dataset.ParquetFileFragment path=/Users/emilyrobitschek/git/ETH/SPUR/mobile_data_colombia/data/parquet/bogota_area_raw/month=2/bogota_area_year=2019_month=2_day=16.parquet>, <pyarrow.dataset.ParquetFileFragment path=/Users/emilyrobitschek/git/ETH/SPUR/mobile_data_colombia/data/parquet/bogota_area_raw/month=2/bogota_area_year=2019_month=2_day=17.parquet>, <pyarrow.dataset.ParquetFileFragment path=/Users/emilyrobitschek/git/ETH/SPUR/mobile_data_colombia/data/parquet/bogota_area_raw/month=2/bogota_area_year=2019_month=2_day=18.parquet>, <pyarrow.dataset.ParquetFileFragment path=/Users/emilyrobitschek/git/ETH/SPUR/mobile_data_colombia/data/parquet/bogota_area_raw/month=2/bogota_area_year=2019_month=2_day=19.parquet>, <pyarrow.dataset.ParquetFileFragment path=/Users/emilyrobitschek/git/ETH/SPUR/mobile_data_colombia/data/parquet/bogota_area_raw/month=2/bogota_area_year=2019_month=2_day=20.parquet>, <pyarrow.dataset.ParquetFileFragment path=/Users/emilyrobitschek/git/ETH/SPUR/mobile_data_colombia/data/parquet/bogota_area_raw/month=2/bogota_area_year=2019_month=2_day=21.parquet>, <pyarrow.dataset.ParquetFileFragment path=/Users/emilyrobitschek/git/ETH/SPUR/mobile_data_colombia/data/parquet/bogota_area_raw/month=2/bogota_area_year=2019_month=2_day=22.parquet>, <pyarrow.dataset.ParquetFileFragment path=/Users/emilyrobitschek/git/ETH/SPUR/mobile_data_colombia/data/parquet/bogota_area_raw/month=2/bogota_area_year=2019_month=2_day=23.parquet>, <pyarrow.dataset.ParquetFileFragment path=/Users/emilyrobitschek/git/ETH/SPUR/mobile_data_colombia/data/parquet/bogota_area_raw/month=2/bogota_area_year=2019_month=2_day=24.parquet>, <pyarrow.dataset.ParquetFileFragment path=/Users/emilyrobitschek/git/ETH/SPUR/mobile_data_colombia/data/parquet/bogota_area_raw/month=2/bogota_area_year=2019_month=2_day=25.parquet>, <pyarrow.dataset.ParquetFileFragment path=/Users/emilyrobitschek/git/ETH/SPUR/mobile_data_colombia/data/parquet/bogota_area_raw/month=2/bogota_area_year=2019_month=2_day=26.parquet>, <pyarrow.dataset.ParquetFileFragment path=/Users/emilyrobitschek/git/ETH/SPUR/mobile_data_colombia/data/parquet/bogota_area_raw/month=2/bogota_area_year=2019_month=2_day=27.parquet>, <pyarrow.dataset.ParquetFileFragment path=/Users/emilyrobitschek/git/ETH/SPUR/mobile_data_colombia/data/parquet/bogota_area_raw/month=2/bogota_area_year=2019_month=2_day=28.parquet>, <pyarrow.dataset.ParquetFileFragment path=/Users/emilyrobitschek/git/ETH/SPUR/mobile_data_colombia/data/parquet/bogota_area_raw/month=3/bogota_area_year=2019_month=3_day=01.parquet>, <pyarrow.dataset.ParquetFileFragment path=/Users/emilyrobitschek/git/ETH/SPUR/mobile_data_colombia/data/parquet/bogota_area_raw/month=3/bogota_area_year=2019_month=3_day=02.parquet>, <pyarrow.dataset.ParquetFileFragment path=/Users/emilyrobitschek/git/ETH/SPUR/mobile_data_colombia/data/parquet/bogota_area_raw/month=3/bogota_area_year=2019_month=3_day=03.parquet>, <pyarrow.dataset.ParquetFileFragment path=/Users/emilyrobitschek/git/ETH/SPUR/mobile_data_colombia/data/parquet/bogota_area_raw/month=3/bogota_area_year=2019_month=3_day=04.parquet>, <pyarrow.dataset.ParquetFileFragment path=/Users/emilyrobitschek/git/ETH/SPUR/mobile_data_colombia/data/parquet/bogota_area_raw/month=3/bogota_area_year=2019_month=3_day=05.parquet>, <pyarrow.dataset.ParquetFileFragment path=/Users/emilyrobitschek/git/ETH/SPUR/mobile_data_colombia/data/parquet/bogota_area_raw/month=3/bogota_area_year=2019_month=3_day=06.parquet>, <pyarrow.dataset.ParquetFileFragment path=/Users/emilyrobitschek/git/ETH/SPUR/mobile_data_colombia/data/parquet/bogota_area_raw/month=3/bogota_area_year=2019_month=3_day=07.parquet>, <pyarrow.dataset.ParquetFileFragment path=/Users/emilyrobitschek/git/ETH/SPUR/mobile_data_colombia/data/parquet/bogota_area_raw/month=3/bogota_area_year=2019_month=3_day=08.parquet>, <pyarrow.dataset.ParquetFileFragment path=/Users/emilyrobitschek/git/ETH/SPUR/mobile_data_colombia/data/parquet/bogota_area_raw/month=3/bogota_area_year=2019_month=3_day=09.parquet>, <pyarrow.dataset.ParquetFileFragment path=/Users/emilyrobitschek/git/ETH/SPUR/mobile_data_colombia/data/parquet/bogota_area_raw/month=3/bogota_area_year=2019_month=3_day=10.parquet>, <pyarrow.dataset.ParquetFileFragment path=/Users/emilyrobitschek/git/ETH/SPUR/mobile_data_colombia/data/parquet/bogota_area_raw/month=3/bogota_area_year=2019_month=3_day=11.parquet>, <pyarrow.dataset.ParquetFileFragment path=/Users/emilyrobitschek/git/ETH/SPUR/mobile_data_colombia/data/parquet/bogota_area_raw/month=3/bogota_area_year=2019_month=3_day=12.parquet>, <pyarrow.dataset.ParquetFileFragment path=/Users/emilyrobitschek/git/ETH/SPUR/mobile_data_colombia/data/parquet/bogota_area_raw/month=3/bogota_area_year=2019_month=3_day=13.parquet>, <pyarrow.dataset.ParquetFileFragment path=/Users/emilyrobitschek/git/ETH/SPUR/mobile_data_colombia/data/parquet/bogota_area_raw/month=3/bogota_area_year=2019_month=3_day=14.parquet>, <pyarrow.dataset.ParquetFileFragment path=/Users/emilyrobitschek/git/ETH/SPUR/mobile_data_colombia/data/parquet/bogota_area_raw/month=3/bogota_area_year=2019_month=3_day=15.parquet>, <pyarrow.dataset.ParquetFileFragment path=/Users/emilyrobitschek/git/ETH/SPUR/mobile_data_colombia/data/parquet/bogota_area_raw/month=3/bogota_area_year=2019_month=3_day=16.parquet>, <pyarrow.dataset.ParquetFileFragment path=/Users/emilyrobitschek/git/ETH/SPUR/mobile_data_colombia/data/parquet/bogota_area_raw/month=3/bogota_area_year=2019_month=3_day=17.parquet>, <pyarrow.dataset.ParquetFileFragment path=/Users/emilyrobitschek/git/ETH/SPUR/mobile_data_colombia/data/parquet/bogota_area_raw/month=3/bogota_area_year=2019_month=3_day=18.parquet>, <pyarrow.dataset.ParquetFileFragment path=/Users/emilyrobitschek/git/ETH/SPUR/mobile_data_colombia/data/parquet/bogota_area_raw/month=3/bogota_area_year=2019_month=3_day=19.parquet>, <pyarrow.dataset.ParquetFileFragment path=/Users/emilyrobitschek/git/ETH/SPUR/mobile_data_colombia/data/parquet/bogota_area_raw/month=3/bogota_area_year=2019_month=3_day=20.parquet>, <pyarrow.dataset.ParquetFileFragment path=/Users/emilyrobitschek/git/ETH/SPUR/mobile_data_colombia/data/parquet/bogota_area_raw/month=3/bogota_area_year=2019_month=3_day=21.parquet>, <pyarrow.dataset.ParquetFileFragment path=/Users/emilyrobitschek/git/ETH/SPUR/mobile_data_colombia/data/parquet/bogota_area_raw/month=3/bogota_area_year=2019_month=3_day=22.parquet>, <pyarrow.dataset.ParquetFileFragment path=/Users/emilyrobitschek/git/ETH/SPUR/mobile_data_colombia/data/parquet/bogota_area_raw/month=3/bogota_area_year=2019_month=3_day=23.parquet>, <pyarrow.dataset.ParquetFileFragment path=/Users/emilyrobitschek/git/ETH/SPUR/mobile_data_colombia/data/parquet/bogota_area_raw/month=3/bogota_area_year=2019_month=3_day=24.parquet>, <pyarrow.dataset.ParquetFileFragment path=/Users/emilyrobitschek/git/ETH/SPUR/mobile_data_colombia/data/parquet/bogota_area_raw/month=3/bogota_area_year=2019_month=3_day=25.parquet>, <pyarrow.dataset.ParquetFileFragment path=/Users/emilyrobitschek/git/ETH/SPUR/mobile_data_colombia/data/parquet/bogota_area_raw/month=3/bogota_area_year=2019_month=3_day=26.parquet>, <pyarrow.dataset.ParquetFileFragment path=/Users/emilyrobitschek/git/ETH/SPUR/mobile_data_colombia/data/parquet/bogota_area_raw/month=3/bogota_area_year=2019_month=3_day=27.parquet>, <pyarrow.dataset.ParquetFileFragment path=/Users/emilyrobitschek/git/ETH/SPUR/mobile_data_colombia/data/parquet/bogota_area_raw/month=3/bogota_area_year=2019_month=3_day=28.parquet>, <pyarrow.dataset.ParquetFileFragment path=/Users/emilyrobitschek/git/ETH/SPUR/mobile_data_colombia/data/parquet/bogota_area_raw/month=3/bogota_area_year=2019_month=3_day=29.parquet>, <pyarrow.dataset.ParquetFileFragment path=/Users/emilyrobitschek/git/ETH/SPUR/mobile_data_colombia/data/parquet/bogota_area_raw/month=3/bogota_area_year=2019_month=3_day=30.parquet>, <pyarrow.dataset.ParquetFileFragment path=/Users/emilyrobitschek/git/ETH/SPUR/mobile_data_colombia/data/parquet/bogota_area_raw/month=3/bogota_area_year=2019_month=3_day=31.parquet>, <pyarrow.dataset.ParquetFileFragment path=/Users/emilyrobitschek/git/ETH/SPUR/mobile_data_colombia/data/parquet/bogota_area_raw/month=4/bogota_area_year=2019_month=4_day=01.parquet>, <pyarrow.dataset.ParquetFileFragment path=/Users/emilyrobitschek/git/ETH/SPUR/mobile_data_colombia/data/parquet/bogota_area_raw/month=4/bogota_area_year=2019_month=4_day=02.parquet>, <pyarrow.dataset.ParquetFileFragment path=/Users/emilyrobitschek/git/ETH/SPUR/mobile_data_colombia/data/parquet/bogota_area_raw/month=4/bogota_area_year=2019_month=4_day=03.parquet>, <pyarrow.dataset.ParquetFileFragment path=/Users/emilyrobitschek/git/ETH/SPUR/mobile_data_colombia/data/parquet/bogota_area_raw/month=4/bogota_area_year=2019_month=4_day=04.parquet>, <pyarrow.dataset.ParquetFileFragment path=/Users/emilyrobitschek/git/ETH/SPUR/mobile_data_colombia/data/parquet/bogota_area_raw/month=4/bogota_area_year=2019_month=4_day=05.parquet>, <pyarrow.dataset.ParquetFileFragment path=/Users/emilyrobitschek/git/ETH/SPUR/mobile_data_colombia/data/parquet/bogota_area_raw/month=4/bogota_area_year=2019_month=4_day=06.parquet>, <pyarrow.dataset.ParquetFileFragment path=/Users/emilyrobitschek/git/ETH/SPUR/mobile_data_colombia/data/parquet/bogota_area_raw/month=4/bogota_area_year=2019_month=4_day=07.parquet>, <pyarrow.dataset.ParquetFileFragment path=/Users/emilyrobitschek/git/ETH/SPUR/mobile_data_colombia/data/parquet/bogota_area_raw/month=4/bogota_area_year=2019_month=4_day=08.parquet>, <pyarrow.dataset.ParquetFileFragment path=/Users/emilyrobitschek/git/ETH/SPUR/mobile_data_colombia/data/parquet/bogota_area_raw/month=4/bogota_area_year=2019_month=4_day=09.parquet>, <pyarrow.dataset.ParquetFileFragment path=/Users/emilyrobitschek/git/ETH/SPUR/mobile_data_colombia/data/parquet/bogota_area_raw/month=4/bogota_area_year=2019_month=4_day=10.parquet>, <pyarrow.dataset.ParquetFileFragment path=/Users/emilyrobitschek/git/ETH/SPUR/mobile_data_colombia/data/parquet/bogota_area_raw/month=4/bogota_area_year=2019_month=4_day=11.parquet>, <pyarrow.dataset.ParquetFileFragment path=/Users/emilyrobitschek/git/ETH/SPUR/mobile_data_colombia/data/parquet/bogota_area_raw/month=4/bogota_area_year=2019_month=4_day=12.parquet>, <pyarrow.dataset.ParquetFileFragment path=/Users/emilyrobitschek/git/ETH/SPUR/mobile_data_colombia/data/parquet/bogota_area_raw/month=4/bogota_area_year=2019_month=4_day=13.parquet>, <pyarrow.dataset.ParquetFileFragment path=/Users/emilyrobitschek/git/ETH/SPUR/mobile_data_colombia/data/parquet/bogota_area_raw/month=4/bogota_area_year=2019_month=4_day=14.parquet>, <pyarrow.dataset.ParquetFileFragment path=/Users/emilyrobitschek/git/ETH/SPUR/mobile_data_colombia/data/parquet/bogota_area_raw/month=4/bogota_area_year=2019_month=4_day=15.parquet>, <pyarrow.dataset.ParquetFileFragment path=/Users/emilyrobitschek/git/ETH/SPUR/mobile_data_colombia/data/parquet/bogota_area_raw/month=4/bogota_area_year=2019_month=4_day=16.parquet>, <pyarrow.dataset.ParquetFileFragment path=/Users/emilyrobitschek/git/ETH/SPUR/mobile_data_colombia/data/parquet/bogota_area_raw/month=4/bogota_area_year=2019_month=4_day=17.parquet>, <pyarrow.dataset.ParquetFileFragment path=/Users/emilyrobitschek/git/ETH/SPUR/mobile_data_colombia/data/parquet/bogota_area_raw/month=4/bogota_area_year=2019_month=4_day=18.parquet>, <pyarrow.dataset.ParquetFileFragment path=/Users/emilyrobitschek/git/ETH/SPUR/mobile_data_colombia/data/parquet/bogota_area_raw/month=4/bogota_area_year=2019_month=4_day=19.parquet>, <pyarrow.dataset.ParquetFileFragment path=/Users/emilyrobitschek/git/ETH/SPUR/mobile_data_colombia/data/parquet/bogota_area_raw/month=4/bogota_area_year=2019_month=4_day=20.parquet>, <pyarrow.dataset.ParquetFileFragment path=/Users/emilyrobitschek/git/ETH/SPUR/mobile_data_colombia/data/parquet/bogota_area_raw/month=4/bogota_area_year=2019_month=4_day=21.parquet>, <pyarrow.dataset.ParquetFileFragment path=/Users/emilyrobitschek/git/ETH/SPUR/mobile_data_colombia/data/parquet/bogota_area_raw/month=4/bogota_area_year=2019_month=4_day=22.parquet>, <pyarrow.dataset.ParquetFileFragment path=/Users/emilyrobitschek/git/ETH/SPUR/mobile_data_colombia/data/parquet/bogota_area_raw/month=4/bogota_area_year=2019_month=4_day=23.parquet>, <pyarrow.dataset.ParquetFileFragment path=/Users/emilyrobitschek/git/ETH/SPUR/mobile_data_colombia/data/parquet/bogota_area_raw/month=4/bogota_area_year=2019_month=4_day=24.parquet>, <pyarrow.dataset.ParquetFileFragment path=/Users/emilyrobitschek/git/ETH/SPUR/mobile_data_colombia/data/parquet/bogota_area_raw/month=4/bogota_area_year=2019_month=4_day=25.parquet>, <pyarrow.dataset.ParquetFileFragment path=/Users/emilyrobitschek/git/ETH/SPUR/mobile_data_colombia/data/parquet/bogota_area_raw/month=4/bogota_area_year=2019_month=4_day=26.parquet>, <pyarrow.dataset.ParquetFileFragment path=/Users/emilyrobitschek/git/ETH/SPUR/mobile_data_colombia/data/parquet/bogota_area_raw/month=4/bogota_area_year=2019_month=4_day=27.parquet>, <pyarrow.dataset.ParquetFileFragment path=/Users/emilyrobitschek/git/ETH/SPUR/mobile_data_colombia/data/parquet/bogota_area_raw/month=4/bogota_area_year=2019_month=4_day=28.parquet>, <pyarrow.dataset.ParquetFileFragment path=/Users/emilyrobitschek/git/ETH/SPUR/mobile_data_colombia/data/parquet/bogota_area_raw/month=4/bogota_area_year=2019_month=4_day=29.parquet>, <pyarrow.dataset.ParquetFileFragment path=/Users/emilyrobitschek/git/ETH/SPUR/mobile_data_colombia/data/parquet/bogota_area_raw/month=4/bogota_area_year=2019_month=4_day=30.parquet>, <pyarrow.dataset.ParquetFileFragment path=/Users/emilyrobitschek/git/ETH/SPUR/mobile_data_colombia/data/parquet/bogota_area_raw/month=5/bogota_area_year=2019_month=5_day=01.parquet>, <pyarrow.dataset.ParquetFileFragment path=/Users/emilyrobitschek/git/ETH/SPUR/mobile_data_colombia/data/parquet/bogota_area_raw/month=5/bogota_area_year=2019_month=5_day=02.parquet>, <pyarrow.dataset.ParquetFileFragment path=/Users/emilyrobitschek/git/ETH/SPUR/mobile_data_colombia/data/parquet/bogota_area_raw/month=5/bogota_area_year=2019_month=5_day=03.parquet>, <pyarrow.dataset.ParquetFileFragment path=/Users/emilyrobitschek/git/ETH/SPUR/mobile_data_colombia/data/parquet/bogota_area_raw/month=5/bogota_area_year=2019_month=5_day=04.parquet>, <pyarrow.dataset.ParquetFileFragment path=/Users/emilyrobitschek/git/ETH/SPUR/mobile_data_colombia/data/parquet/bogota_area_raw/month=5/bogota_area_year=2019_month=5_day=05.parquet>, <pyarrow.dataset.ParquetFileFragment path=/Users/emilyrobitschek/git/ETH/SPUR/mobile_data_colombia/data/parquet/bogota_area_raw/month=5/bogota_area_year=2019_month=5_day=06.parquet>, <pyarrow.dataset.ParquetFileFragment path=/Users/emilyrobitschek/git/ETH/SPUR/mobile_data_colombia/data/parquet/bogota_area_raw/month=5/bogota_area_year=2019_month=5_day=07.parquet>, <pyarrow.dataset.ParquetFileFragment path=/Users/emilyrobitschek/git/ETH/SPUR/mobile_data_colombia/data/parquet/bogota_area_raw/month=5/bogota_area_year=2019_month=5_day=08.parquet>, <pyarrow.dataset.ParquetFileFragment path=/Users/emilyrobitschek/git/ETH/SPUR/mobile_data_colombia/data/parquet/bogota_area_raw/month=5/bogota_area_year=2019_month=5_day=09.parquet>, <pyarrow.dataset.ParquetFileFragment path=/Users/emilyrobitschek/git/ETH/SPUR/mobile_data_colombia/data/parquet/bogota_area_raw/month=5/bogota_area_year=2019_month=5_day=10.parquet>, <pyarrow.dataset.ParquetFileFragment path=/Users/emilyrobitschek/git/ETH/SPUR/mobile_data_colombia/data/parquet/bogota_area_raw/month=5/bogota_area_year=2019_month=5_day=11.parquet>, <pyarrow.dataset.ParquetFileFragment path=/Users/emilyrobitschek/git/ETH/SPUR/mobile_data_colombia/data/parquet/bogota_area_raw/month=5/bogota_area_year=2019_month=5_day=12.parquet>, <pyarrow.dataset.ParquetFileFragment path=/Users/emilyrobitschek/git/ETH/SPUR/mobile_data_colombia/data/parquet/bogota_area_raw/month=5/bogota_area_year=2019_month=5_day=13.parquet>, <pyarrow.dataset.ParquetFileFragment path=/Users/emilyrobitschek/git/ETH/SPUR/mobile_data_colombia/data/parquet/bogota_area_raw/month=5/bogota_area_year=2019_month=5_day=14.parquet>, <pyarrow.dataset.ParquetFileFragment path=/Users/emilyrobitschek/git/ETH/SPUR/mobile_data_colombia/data/parquet/bogota_area_raw/month=5/bogota_area_year=2019_month=5_day=15.parquet>, <pyarrow.dataset.ParquetFileFragment path=/Users/emilyrobitschek/git/ETH/SPUR/mobile_data_colombia/data/parquet/bogota_area_raw/month=5/bogota_area_year=2019_month=5_day=16.parquet>, <pyarrow.dataset.ParquetFileFragment path=/Users/emilyrobitschek/git/ETH/SPUR/mobile_data_colombia/data/parquet/bogota_area_raw/month=5/bogota_area_year=2019_month=5_day=17.parquet>, <pyarrow.dataset.ParquetFileFragment path=/Users/emilyrobitschek/git/ETH/SPUR/mobile_data_colombia/data/parquet/bogota_area_raw/month=5/bogota_area_year=2019_month=5_day=18.parquet>, <pyarrow.dataset.ParquetFileFragment path=/Users/emilyrobitschek/git/ETH/SPUR/mobile_data_colombia/data/parquet/bogota_area_raw/month=5/bogota_area_year=2019_month=5_day=19.parquet>, <pyarrow.dataset.ParquetFileFragment path=/Users/emilyrobitschek/git/ETH/SPUR/mobile_data_colombia/data/parquet/bogota_area_raw/month=5/bogota_area_year=2019_month=5_day=20.parquet>, <pyarrow.dataset.ParquetFileFragment path=/Users/emilyrobitschek/git/ETH/SPUR/mobile_data_colombia/data/parquet/bogota_area_raw/month=5/bogota_area_year=2019_month=5_day=21.parquet>, <pyarrow.dataset.ParquetFileFragment path=/Users/emilyrobitschek/git/ETH/SPUR/mobile_data_colombia/data/parquet/bogota_area_raw/month=5/bogota_area_year=2019_month=5_day=22.parquet>, <pyarrow.dataset.ParquetFileFragment path=/Users/emilyrobitschek/git/ETH/SPUR/mobile_data_colombia/data/parquet/bogota_area_raw/month=5/bogota_area_year=2019_month=5_day=23.parquet>, <pyarrow.dataset.ParquetFileFragment path=/Users/emilyrobitschek/git/ETH/SPUR/mobile_data_colombia/data/parquet/bogota_area_raw/month=5/bogota_area_year=2019_month=5_day=24.parquet>, <pyarrow.dataset.ParquetFileFragment path=/Users/emilyrobitschek/git/ETH/SPUR/mobile_data_colombia/data/parquet/bogota_area_raw/month=5/bogota_area_year=2019_month=5_day=25.parquet>, <pyarrow.dataset.ParquetFileFragment path=/Users/emilyrobitschek/git/ETH/SPUR/mobile_data_colombia/data/parquet/bogota_area_raw/month=5/bogota_area_year=2019_month=5_day=26.parquet>, <pyarrow.dataset.ParquetFileFragment path=/Users/emilyrobitschek/git/ETH/SPUR/mobile_data_colombia/data/parquet/bogota_area_raw/month=5/bogota_area_year=2019_month=5_day=27.parquet>, <pyarrow.dataset.ParquetFileFragment path=/Users/emilyrobitschek/git/ETH/SPUR/mobile_data_colombia/data/parquet/bogota_area_raw/month=5/bogota_area_year=2019_month=5_day=28.parquet>, <pyarrow.dataset.ParquetFileFragment path=/Users/emilyrobitschek/git/ETH/SPUR/mobile_data_colombia/data/parquet/bogota_area_raw/month=5/bogota_area_year=2019_month=5_day=29.parquet>, <pyarrow.dataset.ParquetFileFragment path=/Users/emilyrobitschek/git/ETH/SPUR/mobile_data_colombia/data/parquet/bogota_area_raw/month=5/bogota_area_year=2019_month=5_day=30.parquet>, <pyarrow.dataset.ParquetFileFragment path=/Users/emilyrobitschek/git/ETH/SPUR/mobile_data_colombia/data/parquet/bogota_area_raw/month=5/bogota_area_year=2019_month=5_day=31.parquet>, <pyarrow.dataset.ParquetFileFragment path=/Users/emilyrobitschek/git/ETH/SPUR/mobile_data_colombia/data/parquet/bogota_area_raw/month=6/bogota_area_year=2019_month=6_day=01.parquet>, <pyarrow.dataset.ParquetFileFragment path=/Users/emilyrobitschek/git/ETH/SPUR/mobile_data_colombia/data/parquet/bogota_area_raw/month=6/bogota_area_year=2019_month=6_day=02.parquet>, <pyarrow.dataset.ParquetFileFragment path=/Users/emilyrobitschek/git/ETH/SPUR/mobile_data_colombia/data/parquet/bogota_area_raw/month=6/bogota_area_year=2019_month=6_day=03.parquet>, <pyarrow.dataset.ParquetFileFragment path=/Users/emilyrobitschek/git/ETH/SPUR/mobile_data_colombia/data/parquet/bogota_area_raw/month=6/bogota_area_year=2019_month=6_day=04.parquet>, <pyarrow.dataset.ParquetFileFragment path=/Users/emilyrobitschek/git/ETH/SPUR/mobile_data_colombia/data/parquet/bogota_area_raw/month=6/bogota_area_year=2019_month=6_day=05.parquet>, <pyarrow.dataset.ParquetFileFragment path=/Users/emilyrobitschek/git/ETH/SPUR/mobile_data_colombia/data/parquet/bogota_area_raw/month=6/bogota_area_year=2019_month=6_day=06.parquet>, <pyarrow.dataset.ParquetFileFragment path=/Users/emilyrobitschek/git/ETH/SPUR/mobile_data_colombia/data/parquet/bogota_area_raw/month=6/bogota_area_year=2019_month=6_day=07.parquet>, <pyarrow.dataset.ParquetFileFragment path=/Users/emilyrobitschek/git/ETH/SPUR/mobile_data_colombia/data/parquet/bogota_area_raw/month=6/bogota_area_year=2019_month=6_day=08.parquet>, <pyarrow.dataset.ParquetFileFragment path=/Users/emilyrobitschek/git/ETH/SPUR/mobile_data_colombia/data/parquet/bogota_area_raw/month=6/bogota_area_year=2019_month=6_day=09.parquet>, <pyarrow.dataset.ParquetFileFragment path=/Users/emilyrobitschek/git/ETH/SPUR/mobile_data_colombia/data/parquet/bogota_area_raw/month=6/bogota_area_year=2019_month=6_day=10.parquet>, <pyarrow.dataset.ParquetFileFragment path=/Users/emilyrobitschek/git/ETH/SPUR/mobile_data_colombia/data/parquet/bogota_area_raw/month=6/bogota_area_year=2019_month=6_day=11.parquet>, <pyarrow.dataset.ParquetFileFragment path=/Users/emilyrobitschek/git/ETH/SPUR/mobile_data_colombia/data/parquet/bogota_area_raw/month=6/bogota_area_year=2019_month=6_day=12.parquet>, <pyarrow.dataset.ParquetFileFragment path=/Users/emilyrobitschek/git/ETH/SPUR/mobile_data_colombia/data/parquet/bogota_area_raw/month=6/bogota_area_year=2019_month=6_day=13.parquet>, <pyarrow.dataset.ParquetFileFragment path=/Users/emilyrobitschek/git/ETH/SPUR/mobile_data_colombia/data/parquet/bogota_area_raw/month=6/bogota_area_year=2019_month=6_day=14.parquet>, <pyarrow.dataset.ParquetFileFragment path=/Users/emilyrobitschek/git/ETH/SPUR/mobile_data_colombia/data/parquet/bogota_area_raw/month=6/bogota_area_year=2019_month=6_day=15.parquet>, <pyarrow.dataset.ParquetFileFragment path=/Users/emilyrobitschek/git/ETH/SPUR/mobile_data_colombia/data/parquet/bogota_area_raw/month=6/bogota_area_year=2019_month=6_day=16.parquet>, <pyarrow.dataset.ParquetFileFragment path=/Users/emilyrobitschek/git/ETH/SPUR/mobile_data_colombia/data/parquet/bogota_area_raw/month=6/bogota_area_year=2019_month=6_day=17.parquet>, <pyarrow.dataset.ParquetFileFragment path=/Users/emilyrobitschek/git/ETH/SPUR/mobile_data_colombia/data/parquet/bogota_area_raw/month=6/bogota_area_year=2019_month=6_day=18.parquet>, <pyarrow.dataset.ParquetFileFragment path=/Users/emilyrobitschek/git/ETH/SPUR/mobile_data_colombia/data/parquet/bogota_area_raw/month=6/bogota_area_year=2019_month=6_day=19.parquet>, <pyarrow.dataset.ParquetFileFragment path=/Users/emilyrobitschek/git/ETH/SPUR/mobile_data_colombia/data/parquet/bogota_area_raw/month=6/bogota_area_year=2019_month=6_day=20.parquet>, <pyarrow.dataset.ParquetFileFragment path=/Users/emilyrobitschek/git/ETH/SPUR/mobile_data_colombia/data/parquet/bogota_area_raw/month=6/bogota_area_year=2019_month=6_day=21.parquet>, <pyarrow.dataset.ParquetFileFragment path=/Users/emilyrobitschek/git/ETH/SPUR/mobile_data_colombia/data/parquet/bogota_area_raw/month=6/bogota_area_year=2019_month=6_day=22.parquet>, <pyarrow.dataset.ParquetFileFragment path=/Users/emilyrobitschek/git/ETH/SPUR/mobile_data_colombia/data/parquet/bogota_area_raw/month=6/bogota_area_year=2019_month=6_day=23.parquet>, <pyarrow.dataset.ParquetFileFragment path=/Users/emilyrobitschek/git/ETH/SPUR/mobile_data_colombia/data/parquet/bogota_area_raw/month=6/bogota_area_year=2019_month=6_day=24.parquet>, <pyarrow.dataset.ParquetFileFragment path=/Users/emilyrobitschek/git/ETH/SPUR/mobile_data_colombia/data/parquet/bogota_area_raw/month=6/bogota_area_year=2019_month=6_day=25.parquet>, <pyarrow.dataset.ParquetFileFragment path=/Users/emilyrobitschek/git/ETH/SPUR/mobile_data_colombia/data/parquet/bogota_area_raw/month=6/bogota_area_year=2019_month=6_day=26.parquet>, <pyarrow.dataset.ParquetFileFragment path=/Users/emilyrobitschek/git/ETH/SPUR/mobile_data_colombia/data/parquet/bogota_area_raw/month=6/bogota_area_year=2019_month=6_day=27.parquet>, <pyarrow.dataset.ParquetFileFragment path=/Users/emilyrobitschek/git/ETH/SPUR/mobile_data_colombia/data/parquet/bogota_area_raw/month=6/bogota_area_year=2019_month=6_day=28.parquet>, <pyarrow.dataset.ParquetFileFragment path=/Users/emilyrobitschek/git/ETH/SPUR/mobile_data_colombia/data/parquet/bogota_area_raw/month=6/bogota_area_year=2019_month=6_day=29.parquet>, <pyarrow.dataset.ParquetFileFragment path=/Users/emilyrobitschek/git/ETH/SPUR/mobile_data_colombia/data/parquet/bogota_area_raw/month=6/bogota_area_year=2019_month=6_day=30.parquet>, <pyarrow.dataset.ParquetFileFragment path=/Users/emilyrobitschek/git/ETH/SPUR/mobile_data_colombia/data/parquet/bogota_area_raw/month=7/bogota_area_year=2019_month=7_day=01.parquet>, <pyarrow.dataset.ParquetFileFragment path=/Users/emilyrobitschek/git/ETH/SPUR/mobile_data_colombia/data/parquet/bogota_area_raw/month=7/bogota_area_year=2019_month=7_day=02.parquet>, <pyarrow.dataset.ParquetFileFragment path=/Users/emilyrobitschek/git/ETH/SPUR/mobile_data_colombia/data/parquet/bogota_area_raw/month=7/bogota_area_year=2019_month=7_day=03.parquet>, <pyarrow.dataset.ParquetFileFragment path=/Users/emilyrobitschek/git/ETH/SPUR/mobile_data_colombia/data/parquet/bogota_area_raw/month=7/bogota_area_year=2019_month=7_day=04.parquet>, <pyarrow.dataset.ParquetFileFragment path=/Users/emilyrobitschek/git/ETH/SPUR/mobile_data_colombia/data/parquet/bogota_area_raw/month=7/bogota_area_year=2019_month=7_day=05.parquet>, <pyarrow.dataset.ParquetFileFragment path=/Users/emilyrobitschek/git/ETH/SPUR/mobile_data_colombia/data/parquet/bogota_area_raw/month=7/bogota_area_year=2019_month=7_day=06.parquet>, <pyarrow.dataset.ParquetFileFragment path=/Users/emilyrobitschek/git/ETH/SPUR/mobile_data_colombia/data/parquet/bogota_area_raw/month=7/bogota_area_year=2019_month=7_day=07.parquet>, <pyarrow.dataset.ParquetFileFragment path=/Users/emilyrobitschek/git/ETH/SPUR/mobile_data_colombia/data/parquet/bogota_area_raw/month=7/bogota_area_year=2019_month=7_day=08.parquet>, <pyarrow.dataset.ParquetFileFragment path=/Users/emilyrobitschek/git/ETH/SPUR/mobile_data_colombia/data/parquet/bogota_area_raw/month=7/bogota_area_year=2019_month=7_day=09.parquet>, <pyarrow.dataset.ParquetFileFragment path=/Users/emilyrobitschek/git/ETH/SPUR/mobile_data_colombia/data/parquet/bogota_area_raw/month=7/bogota_area_year=2019_month=7_day=10.parquet>, <pyarrow.dataset.ParquetFileFragment path=/Users/emilyrobitschek/git/ETH/SPUR/mobile_data_colombia/data/parquet/bogota_area_raw/month=7/bogota_area_year=2019_month=7_day=11.parquet>, <pyarrow.dataset.ParquetFileFragment path=/Users/emilyrobitschek/git/ETH/SPUR/mobile_data_colombia/data/parquet/bogota_area_raw/month=7/bogota_area_year=2019_month=7_day=12.parquet>, <pyarrow.dataset.ParquetFileFragment path=/Users/emilyrobitschek/git/ETH/SPUR/mobile_data_colombia/data/parquet/bogota_area_raw/month=7/bogota_area_year=2019_month=7_day=13.parquet>, <pyarrow.dataset.ParquetFileFragment path=/Users/emilyrobitschek/git/ETH/SPUR/mobile_data_colombia/data/parquet/bogota_area_raw/month=7/bogota_area_year=2019_month=7_day=14.parquet>, <pyarrow.dataset.ParquetFileFragment path=/Users/emilyrobitschek/git/ETH/SPUR/mobile_data_colombia/data/parquet/bogota_area_raw/month=7/bogota_area_year=2019_month=7_day=15.parquet>, <pyarrow.dataset.ParquetFileFragment path=/Users/emilyrobitschek/git/ETH/SPUR/mobile_data_colombia/data/parquet/bogota_area_raw/month=7/bogota_area_year=2019_month=7_day=16.parquet>, <pyarrow.dataset.ParquetFileFragment path=/Users/emilyrobitschek/git/ETH/SPUR/mobile_data_colombia/data/parquet/bogota_area_raw/month=7/bogota_area_year=2019_month=7_day=17.parquet>, <pyarrow.dataset.ParquetFileFragment path=/Users/emilyrobitschek/git/ETH/SPUR/mobile_data_colombia/data/parquet/bogota_area_raw/month=7/bogota_area_year=2019_month=7_day=18.parquet>, <pyarrow.dataset.ParquetFileFragment path=/Users/emilyrobitschek/git/ETH/SPUR/mobile_data_colombia/data/parquet/bogota_area_raw/month=7/bogota_area_year=2019_month=7_day=19.parquet>, <pyarrow.dataset.ParquetFileFragment path=/Users/emilyrobitschek/git/ETH/SPUR/mobile_data_colombia/data/parquet/bogota_area_raw/month=7/bogota_area_year=2019_month=7_day=20.parquet>, <pyarrow.dataset.ParquetFileFragment path=/Users/emilyrobitschek/git/ETH/SPUR/mobile_data_colombia/data/parquet/bogota_area_raw/month=7/bogota_area_year=2019_month=7_day=21.parquet>, <pyarrow.dataset.ParquetFileFragment path=/Users/emilyrobitschek/git/ETH/SPUR/mobile_data_colombia/data/parquet/bogota_area_raw/month=7/bogota_area_year=2019_month=7_day=22.parquet>, <pyarrow.dataset.ParquetFileFragment path=/Users/emilyrobitschek/git/ETH/SPUR/mobile_data_colombia/data/parquet/bogota_area_raw/month=7/bogota_area_year=2019_month=7_day=23.parquet>, <pyarrow.dataset.ParquetFileFragment path=/Users/emilyrobitschek/git/ETH/SPUR/mobile_data_colombia/data/parquet/bogota_area_raw/month=7/bogota_area_year=2019_month=7_day=24.parquet>, <pyarrow.dataset.ParquetFileFragment path=/Users/emilyrobitschek/git/ETH/SPUR/mobile_data_colombia/data/parquet/bogota_area_raw/month=7/bogota_area_year=2019_month=7_day=25.parquet>, <pyarrow.dataset.ParquetFileFragment path=/Users/emilyrobitschek/git/ETH/SPUR/mobile_data_colombia/data/parquet/bogota_area_raw/month=7/bogota_area_year=2019_month=7_day=26.parquet>, <pyarrow.dataset.ParquetFileFragment path=/Users/emilyrobitschek/git/ETH/SPUR/mobile_data_colombia/data/parquet/bogota_area_raw/month=7/bogota_area_year=2019_month=7_day=27.parquet>, <pyarrow.dataset.ParquetFileFragment path=/Users/emilyrobitschek/git/ETH/SPUR/mobile_data_colombia/data/parquet/bogota_area_raw/month=7/bogota_area_year=2019_month=7_day=28.parquet>, <pyarrow.dataset.ParquetFileFragment path=/Users/emilyrobitschek/git/ETH/SPUR/mobile_data_colombia/data/parquet/bogota_area_raw/month=7/bogota_area_year=2019_month=7_day=29.parquet>, <pyarrow.dataset.ParquetFileFragment path=/Users/emilyrobitschek/git/ETH/SPUR/mobile_data_colombia/data/parquet/bogota_area_raw/month=7/bogota_area_year=2019_month=7_day=30.parquet>, <pyarrow.dataset.ParquetFileFragment path=/Users/emilyrobitschek/git/ETH/SPUR/mobile_data_colombia/data/parquet/bogota_area_raw/month=7/bogota_area_year=2019_month=7_day=31.parquet>, <pyarrow.dataset.ParquetFileFragment path=/Users/emilyrobitschek/git/ETH/SPUR/mobile_data_colombia/data/parquet/bogota_area_raw/month=8/bogota_area_year=2019_month=8_day=01.parquet>, <pyarrow.dataset.ParquetFileFragment path=/Users/emilyrobitschek/git/ETH/SPUR/mobile_data_colombia/data/parquet/bogota_area_raw/month=8/bogota_area_year=2019_month=8_day=02.parquet>, <pyarrow.dataset.ParquetFileFragment path=/Users/emilyrobitschek/git/ETH/SPUR/mobile_data_colombia/data/parquet/bogota_area_raw/month=8/bogota_area_year=2019_month=8_day=03.parquet>, <pyarrow.dataset.ParquetFileFragment path=/Users/emilyrobitschek/git/ETH/SPUR/mobile_data_colombia/data/parquet/bogota_area_raw/month=8/bogota_area_year=2019_month=8_day=04.parquet>, <pyarrow.dataset.ParquetFileFragment path=/Users/emilyrobitschek/git/ETH/SPUR/mobile_data_colombia/data/parquet/bogota_area_raw/month=8/bogota_area_year=2019_month=8_day=05.parquet>, <pyarrow.dataset.ParquetFileFragment path=/Users/emilyrobitschek/git/ETH/SPUR/mobile_data_colombia/data/parquet/bogota_area_raw/month=8/bogota_area_year=2019_month=8_day=06.parquet>, <pyarrow.dataset.ParquetFileFragment path=/Users/emilyrobitschek/git/ETH/SPUR/mobile_data_colombia/data/parquet/bogota_area_raw/month=8/bogota_area_year=2019_month=8_day=07.parquet>, <pyarrow.dataset.ParquetFileFragment path=/Users/emilyrobitschek/git/ETH/SPUR/mobile_data_colombia/data/parquet/bogota_area_raw/month=8/bogota_area_year=2019_month=8_day=08.parquet>, <pyarrow.dataset.ParquetFileFragment path=/Users/emilyrobitschek/git/ETH/SPUR/mobile_data_colombia/data/parquet/bogota_area_raw/month=8/bogota_area_year=2019_month=8_day=09.parquet>, <pyarrow.dataset.ParquetFileFragment path=/Users/emilyrobitschek/git/ETH/SPUR/mobile_data_colombia/data/parquet/bogota_area_raw/month=8/bogota_area_year=2019_month=8_day=10.parquet>, <pyarrow.dataset.ParquetFileFragment path=/Users/emilyrobitschek/git/ETH/SPUR/mobile_data_colombia/data/parquet/bogota_area_raw/month=8/bogota_area_year=2019_month=8_day=11.parquet>, <pyarrow.dataset.ParquetFileFragment path=/Users/emilyrobitschek/git/ETH/SPUR/mobile_data_colombia/data/parquet/bogota_area_raw/month=8/bogota_area_year=2019_month=8_day=12.parquet>, <pyarrow.dataset.ParquetFileFragment path=/Users/emilyrobitschek/git/ETH/SPUR/mobile_data_colombia/data/parquet/bogota_area_raw/month=8/bogota_area_year=2019_month=8_day=13.parquet>, <pyarrow.dataset.ParquetFileFragment path=/Users/emilyrobitschek/git/ETH/SPUR/mobile_data_colombia/data/parquet/bogota_area_raw/month=8/bogota_area_year=2019_month=8_day=14.parquet>, <pyarrow.dataset.ParquetFileFragment path=/Users/emilyrobitschek/git/ETH/SPUR/mobile_data_colombia/data/parquet/bogota_area_raw/month=8/bogota_area_year=2019_month=8_day=15.parquet>, <pyarrow.dataset.ParquetFileFragment path=/Users/emilyrobitschek/git/ETH/SPUR/mobile_data_colombia/data/parquet/bogota_area_raw/month=8/bogota_area_year=2019_month=8_day=16.parquet>, <pyarrow.dataset.ParquetFileFragment path=/Users/emilyrobitschek/git/ETH/SPUR/mobile_data_colombia/data/parquet/bogota_area_raw/month=8/bogota_area_year=2019_month=8_day=17.parquet>, <pyarrow.dataset.ParquetFileFragment path=/Users/emilyrobitschek/git/ETH/SPUR/mobile_data_colombia/data/parquet/bogota_area_raw/month=8/bogota_area_year=2019_month=8_day=18.parquet>, <pyarrow.dataset.ParquetFileFragment path=/Users/emilyrobitschek/git/ETH/SPUR/mobile_data_colombia/data/parquet/bogota_area_raw/month=8/bogota_area_year=2019_month=8_day=19.parquet>, <pyarrow.dataset.ParquetFileFragment path=/Users/emilyrobitschek/git/ETH/SPUR/mobile_data_colombia/data/parquet/bogota_area_raw/month=8/bogota_area_year=2019_month=8_day=20.parquet>, <pyarrow.dataset.ParquetFileFragment path=/Users/emilyrobitschek/git/ETH/SPUR/mobile_data_colombia/data/parquet/bogota_area_raw/month=8/bogota_area_year=2019_month=8_day=21.parquet>, <pyarrow.dataset.ParquetFileFragment path=/Users/emilyrobitschek/git/ETH/SPUR/mobile_data_colombia/data/parquet/bogota_area_raw/month=8/bogota_area_year=2019_month=8_day=22.parquet>, <pyarrow.dataset.ParquetFileFragment path=/Users/emilyrobitschek/git/ETH/SPUR/mobile_data_colombia/data/parquet/bogota_area_raw/month=8/bogota_area_year=2019_month=8_day=23.parquet>, <pyarrow.dataset.ParquetFileFragment path=/Users/emilyrobitschek/git/ETH/SPUR/mobile_data_colombia/data/parquet/bogota_area_raw/month=8/bogota_area_year=2019_month=8_day=24.parquet>, <pyarrow.dataset.ParquetFileFragment path=/Users/emilyrobitschek/git/ETH/SPUR/mobile_data_colombia/data/parquet/bogota_area_raw/month=8/bogota_area_year=2019_month=8_day=25.parquet>, <pyarrow.dataset.ParquetFileFragment path=/Users/emilyrobitschek/git/ETH/SPUR/mobile_data_colombia/data/parquet/bogota_area_raw/month=8/bogota_area_year=2019_month=8_day=26.parquet>, <pyarrow.dataset.ParquetFileFragment path=/Users/emilyrobitschek/git/ETH/SPUR/mobile_data_colombia/data/parquet/bogota_area_raw/month=8/bogota_area_year=2019_month=8_day=27.parquet>, <pyarrow.dataset.ParquetFileFragment path=/Users/emilyrobitschek/git/ETH/SPUR/mobile_data_colombia/data/parquet/bogota_area_raw/month=8/bogota_area_year=2019_month=8_day=28.parquet>, <pyarrow.dataset.ParquetFileFragment path=/Users/emilyrobitschek/git/ETH/SPUR/mobile_data_colombia/data/parquet/bogota_area_raw/month=8/bogota_area_year=2019_month=8_day=29.parquet>, <pyarrow.dataset.ParquetFileFragment path=/Users/emilyrobitschek/git/ETH/SPUR/mobile_data_colombia/data/parquet/bogota_area_raw/month=8/bogota_area_year=2019_month=8_day=30.parquet>, <pyarrow.dataset.ParquetFileFragment path=/Users/emilyrobitschek/git/ETH/SPUR/mobile_data_colombia/data/parquet/bogota_area_raw/month=8/bogota_area_year=2019_month=8_day=31.parquet>]\n"
     ]
    }
   ],
   "source": [
    "print(dataset.files)\n",
    "print(dataset.schema.to_string(show_field_metadata=False))\n",
    "fragments = list(dataset.get_fragments())\n",
    "print(fragments)\n",
    "#fragments.split_by_row_group()"
   ]
  },
  {
   "attachments": {},
   "cell_type": "markdown",
   "metadata": {},
   "source": [
    "Using the Dataset.to_table() method we can read the dataset (or a portion of it) into a pyarrow Table. Depending on the dataset size this can require a lot of memory, so it's best to consider filtering the dataset first. For instance if we only want the user id column we can execute the following:"
   ]
  },
  {
   "cell_type": "code",
   "execution_count": 6,
   "metadata": {},
   "outputs": [],
   "source": [
    "def compute_user_stats(dataset):\n",
    "    table = dataset.to_table(columns=['uid', 'datetime']).to_pandas()\n",
    "    table_dd = dd.from_pandas(table, npartitions=20)\n",
    "    user_stats = mobilkit.stats.userStats(table_dd).compute()\n",
    "    return user_stats\n",
    "\n",
    "def compute_user_stats_from_pq(pq_dir):\n",
    "    table_dd = dd.read_parquet(pq_dir, columns=['uid', 'datetime'])\n",
    "    user_stats = mobilkit.stats.userStats(table_dd).compute()\n",
    "    return user_stats\n",
    "\n",
    "# note this takes quite some time (~20 minutes for two months of data with 10 partitions)\n",
    "#user_stats = compute_user_stats(dataset)\n",
    "\n",
    "# the kernel crashed so I just decided to rewrite the function without the pandas conversion in the hopes it would work better. \n",
    "# (In the end it took 175 minutes to run but it ran). I will comment it out for now.\n",
    "\n",
    "#user_stats = compute_user_stats_from_pq(pq_dir)\n",
    "#user_stats.head()"
   ]
  },
  {
   "attachments": {},
   "cell_type": "markdown",
   "metadata": {},
   "source": [
    "### Write out user stats for the whole dataset for filtering"
   ]
  },
  {
   "cell_type": "code",
   "execution_count": 7,
   "metadata": {},
   "outputs": [],
   "source": [
    "min_pings, min_days = 60, 10 \n",
    "output_filepath = f'{data_dir}/data/user_stats_2019_months1-8_60min_pings_10min_days.csv'\n",
    "output_folder = f'{data_dir}data/agg_data/'\n",
    "\n",
    "# ran this once and will comment out for now to not overwrite the file: \n",
    "#user_stats_filtered = user_stats[(user_stats['pings'] >= min_pings) & (user_stats['daysActive'] >= min_days)]\n",
    "#print(f\"Based on {min_pings} ping and {min_days} day mininum cutoffs, kept {len(user_stats_filtered)} of a total of {len(user_stats)} users for this dataset.\")\n",
    "#user_stats_filtered.to_csv(output_filepath, index=False)"
   ]
  },
  {
   "cell_type": "code",
   "execution_count": 8,
   "metadata": {},
   "outputs": [
    {
     "name": "stdout",
     "output_type": "stream",
     "text": [
      "Based on 60 ping and 10 day mininum cutoffs, kept 728535 users for this dataset.\n"
     ]
    },
    {
     "data": {
      "text/html": [
       "<div>\n",
       "<style scoped>\n",
       "    .dataframe tbody tr th:only-of-type {\n",
       "        vertical-align: middle;\n",
       "    }\n",
       "\n",
       "    .dataframe tbody tr th {\n",
       "        vertical-align: top;\n",
       "    }\n",
       "\n",
       "    .dataframe thead th {\n",
       "        text-align: right;\n",
       "    }\n",
       "</style>\n",
       "<table border=\"1\" class=\"dataframe\">\n",
       "  <thead>\n",
       "    <tr style=\"text-align: right;\">\n",
       "      <th></th>\n",
       "      <th>uid</th>\n",
       "      <th>min_day</th>\n",
       "      <th>max_day</th>\n",
       "      <th>pings</th>\n",
       "      <th>daysActive</th>\n",
       "      <th>daysSpanned</th>\n",
       "      <th>pingsPerDay</th>\n",
       "      <th>avg</th>\n",
       "    </tr>\n",
       "  </thead>\n",
       "  <tbody>\n",
       "    <tr>\n",
       "      <th>0</th>\n",
       "      <td>000a7743-1dd9-4a98-b902-9e681b7a33c7</td>\n",
       "      <td>2019-03-28 00:00:00-05:00</td>\n",
       "      <td>2019-08-31 00:00:00-05:00</td>\n",
       "      <td>2087</td>\n",
       "      <td>144</td>\n",
       "      <td>156</td>\n",
       "      <td>[23, 6, 18, 33, 2, 58, 53, 77, 45, 62, 30, 29,...</td>\n",
       "      <td>14.493056</td>\n",
       "    </tr>\n",
       "    <tr>\n",
       "      <th>1</th>\n",
       "      <td>0015c3e5-dd4d-4198-954e-bdc5f225f29a</td>\n",
       "      <td>2019-03-31 00:00:00-05:00</td>\n",
       "      <td>2019-08-31 00:00:00-05:00</td>\n",
       "      <td>421</td>\n",
       "      <td>59</td>\n",
       "      <td>153</td>\n",
       "      <td>[1, 5, 6, 3, 2, 2, 7, 3, 5, 8, 4, 1, 3, 2, 7, ...</td>\n",
       "      <td>7.135593</td>\n",
       "    </tr>\n",
       "    <tr>\n",
       "      <th>2</th>\n",
       "      <td>0016a88e-c934-4e67-bb9f-d0d6282aa9ea</td>\n",
       "      <td>2019-05-09 00:00:00-05:00</td>\n",
       "      <td>2019-08-04 00:00:00-05:00</td>\n",
       "      <td>133</td>\n",
       "      <td>21</td>\n",
       "      <td>87</td>\n",
       "      <td>[9, 2, 9, 1, 1, 6, 2, 4, 5, 1, 1, 31, 43, 6, 2...</td>\n",
       "      <td>6.333333</td>\n",
       "    </tr>\n",
       "    <tr>\n",
       "      <th>3</th>\n",
       "      <td>0020aadf-097e-47e7-b66b-163eebae1b43</td>\n",
       "      <td>2019-05-31 00:00:00-05:00</td>\n",
       "      <td>2019-08-31 00:00:00-05:00</td>\n",
       "      <td>2353</td>\n",
       "      <td>84</td>\n",
       "      <td>92</td>\n",
       "      <td>[21, 75, 28, 24, 13, 4, 10, 12, 5, 2, 29, 5, 1...</td>\n",
       "      <td>28.011905</td>\n",
       "    </tr>\n",
       "    <tr>\n",
       "      <th>4</th>\n",
       "      <td>002f09fc-f6c9-4144-a8d6-e5caec2afacd</td>\n",
       "      <td>2019-03-30 00:00:00-05:00</td>\n",
       "      <td>2019-08-31 00:00:00-05:00</td>\n",
       "      <td>364</td>\n",
       "      <td>71</td>\n",
       "      <td>154</td>\n",
       "      <td>[2, 3, 2, 2, 1, 1, 3, 2, 1, 6, 3, 1, 2, 3, 31,...</td>\n",
       "      <td>5.126761</td>\n",
       "    </tr>\n",
       "  </tbody>\n",
       "</table>\n",
       "</div>"
      ],
      "text/plain": [
       "                                    uid                    min_day  \\\n",
       "0  000a7743-1dd9-4a98-b902-9e681b7a33c7  2019-03-28 00:00:00-05:00   \n",
       "1  0015c3e5-dd4d-4198-954e-bdc5f225f29a  2019-03-31 00:00:00-05:00   \n",
       "2  0016a88e-c934-4e67-bb9f-d0d6282aa9ea  2019-05-09 00:00:00-05:00   \n",
       "3  0020aadf-097e-47e7-b66b-163eebae1b43  2019-05-31 00:00:00-05:00   \n",
       "4  002f09fc-f6c9-4144-a8d6-e5caec2afacd  2019-03-30 00:00:00-05:00   \n",
       "\n",
       "                     max_day  pings  daysActive  daysSpanned  \\\n",
       "0  2019-08-31 00:00:00-05:00   2087         144          156   \n",
       "1  2019-08-31 00:00:00-05:00    421          59          153   \n",
       "2  2019-08-04 00:00:00-05:00    133          21           87   \n",
       "3  2019-08-31 00:00:00-05:00   2353          84           92   \n",
       "4  2019-08-31 00:00:00-05:00    364          71          154   \n",
       "\n",
       "                                         pingsPerDay        avg  \n",
       "0  [23, 6, 18, 33, 2, 58, 53, 77, 45, 62, 30, 29,...  14.493056  \n",
       "1  [1, 5, 6, 3, 2, 2, 7, 3, 5, 8, 4, 1, 3, 2, 7, ...   7.135593  \n",
       "2  [9, 2, 9, 1, 1, 6, 2, 4, 5, 1, 1, 31, 43, 6, 2...   6.333333  \n",
       "3  [21, 75, 28, 24, 13, 4, 10, 12, 5, 2, 29, 5, 1...  28.011905  \n",
       "4  [2, 3, 2, 2, 1, 1, 3, 2, 1, 6, 3, 1, 2, 3, 31,...   5.126761  "
      ]
     },
     "execution_count": 8,
     "metadata": {},
     "output_type": "execute_result"
    }
   ],
   "source": [
    "user_stats_filtered = dd.read_csv(output_filepath)\n",
    "print(f\"Based on {min_pings} ping and {min_days} day mininum cutoffs, kept {len(user_stats_filtered)} users for this dataset.\")\n",
    "user_stats_filtered.head()"
   ]
  },
  {
   "attachments": {},
   "cell_type": "markdown",
   "metadata": {},
   "source": [
    "### Filter dataset by users that pass quality control \n",
    "Write out to parquet file for downstream analysis. (Reorganized the files into folders with 2 months of data each.)"
   ]
  },
  {
   "cell_type": "code",
   "execution_count": 9,
   "metadata": {},
   "outputs": [
    {
     "data": {
      "application/vnd.jupyter.widget-view+json": {
       "model_id": "b65fda7bcc6340149a572367f9a0f623",
       "version_major": 2,
       "version_minor": 0
      },
      "text/plain": [
       "Writing data for users that pass qc:   0%|          | 0/8 [00:00<?, ?it/s]"
      ]
     },
     "metadata": {},
     "output_type": "display_data"
    },
    {
     "name": "stdout",
     "output_type": "stream",
     "text": [
      "Filtering data for month=7...\n",
      "Filtering data for month=8...\n",
      "Filtering data for month=1...\n",
      "Filtering data for month=6...\n",
      "Filtering data for month=3...\n",
      "Filtering data for month=4...\n",
      "Filtering data for month=5...\n",
      "Filtering data for month=2...\n"
     ]
    }
   ],
   "source": [
    "pq_dir = f'{data_dir}data/parquet/bogota_area_raw/'\n",
    "pq_dirs_months = glob.glob(pq_dir + '*')\n",
    "pq_dirs_months_names = [i.split(f'{pq_dir}')[1] for i in pq_dirs_months]\n",
    "uids_pass_qc= list(user_stats_filtered['uid'])\n",
    "\n",
    "for i in tqdm(range(0,len(pq_dirs_months)), desc=f'Writing data for users that pass qc'):\n",
    "    print(f'Filtering data for {pq_dirs_months_names[i]}...')\n",
    "    dataset = ds.dataset(pq_dirs_months[i], format=\"parquet\")\n",
    "    table = dataset.to_table(filter=ds.field('uid').isin(uids_pass_qc))\n",
    "    # this causes the kernel to crash when I ran it on all the data so I need to rewrite it to not load everything in memory all at once\n",
    "    data_for_qcd_users = f'{pq_dir}bogota_area_year=2019_{pq_dirs_months_names[i]}_pass_qc.parquet'\n",
    "    pq.write_table(table, data_for_qcd_users)"
   ]
  },
  {
   "cell_type": "markdown",
   "metadata": {},
   "source": [
    "##### Let's look at the data for August of 2019 for example"
   ]
  },
  {
   "cell_type": "code",
   "execution_count": 10,
   "metadata": {},
   "outputs": [
    {
     "ename": "",
     "evalue": "",
     "output_type": "error",
     "traceback": [
      "\u001b[1;31mCannot execute code, session has been disposed. Please try restarting the Kernel."
     ]
    },
    {
     "ename": "",
     "evalue": "",
     "output_type": "error",
     "traceback": [
      "\u001b[1;31mThe Kernel crashed while executing code in the the current cell or a previous cell. Please review the code in the cell(s) to identify a possible cause of the failure. Click <a href='https://aka.ms/vscodeJupyterKernelCrash'>here</a> for more info. View Jupyter <a href='command:jupyter.viewOutput'>log</a> for further details."
     ]
    }
   ],
   "source": [
    "data_for_qcd_users = f'{pq_dir}bogota_area_year=2019_month=8_pass_qc.parquet'\n",
    "qc_user_data = dd.read_parquet(data_for_qcd_users)\n",
    "qc_user_data.head()"
   ]
  },
  {
   "cell_type": "code",
   "execution_count": null,
   "metadata": {},
   "outputs": [],
   "source": [
    "print(len(qc_user_data))"
   ]
  },
  {
   "attachments": {},
   "cell_type": "markdown",
   "metadata": {},
   "source": [
    "We can also filter by particular queries downstream, which is so cool! "
   ]
  }
 ],
 "metadata": {
  "kernelspec": {
   "display_name": "Python 3.9.16 ('geo_mobile')",
   "language": "python",
   "name": "python3"
  },
  "language_info": {
   "codemirror_mode": {
    "name": "ipython",
    "version": 3
   },
   "file_extension": ".py",
   "mimetype": "text/x-python",
   "name": "python",
   "nbconvert_exporter": "python",
   "pygments_lexer": "ipython3",
   "version": "3.9.16"
  },
  "orig_nbformat": 4,
  "vscode": {
   "interpreter": {
    "hash": "94266dc0016789288e396fdf5aae0a4b8003dfb3304fe52aa146b44e3e043f3e"
   }
  }
 },
 "nbformat": 4,
 "nbformat_minor": 2
}
