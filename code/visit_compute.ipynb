{
 "cells": [
  {
   "cell_type": "markdown",
   "metadata": {},
   "source": [
    "## Visit computation\n",
    "The purpose of this notebook is to compare the mobility of users who live in the \"treatment\" (ZATs near new cable car) and \"control\" zones (similar ZATs but no new cable car). We will map the visits we computed in the `mobility_analysis` notebook to the treatment and control group information and point of interest (POIs) computed from google places."
   ]
  },
  {
   "cell_type": "code",
   "execution_count": null,
   "metadata": {},
   "outputs": [],
   "source": [
    "import os\n",
    "from dotenv import load_dotenv\n",
    "\n",
    "load_dotenv()\n",
    "\n",
    "working_dir = os.getenv(\"WORKING_DIR\")\n",
    "os.environ[\"USE_PYGEOS\"] = \"0\"\n",
    "\n",
    "from setup import *\n",
    "from plotting import *\n",
    "from preprocess import *\n",
    "from analysis import *\n",
    "\n",
    "import pandas as pd\n",
    "import numpy as np\n",
    "import skmob\n",
    "\n",
    "c = read_config(f\"{working_dir}configs/config_2019.yml\")\n",
    "(\n",
    "    year,\n",
    "    datatypes,\n",
    "    initial_cols,\n",
    "    sel_cols,\n",
    "    final_cols,\n",
    "    minlon,\n",
    "    maxlon,\n",
    "    minlat,\n",
    "    maxlat,\n",
    ") = get_config_vars(c=c, mode=\"preprocess\")\n",
    "min_days, min_pings = get_config_vars(c=c, mode=\"user_qc\")\n",
    "\n",
    "where = get_dirs(working_dir, year=year, min_days=min_days, min_pings=min_pings)\n",
    "\n",
    "meta_dir = where.meta_dir\n",
    "\n",
    "hw_dir = f\"{where.pass_qc_dir}home_work_locs/home/\"\n",
    "visit_dir = f\"{hw_dir}in_zats/visits/\"\n",
    "out_dir = f\"{visit_dir}w_pois/\"\n",
    "\n",
    "for d in [visit_dir, out_dir]:\n",
    "    ensure_directory_exists(d)\n",
    "\n",
    "sel_zat_home_locs_meta_fp = f\"{hw_dir}selected_txt_control_home_locs_w_zats_for_users_pass_qc_w_treatment_group.csv\""
   ]
  },
  {
   "cell_type": "markdown",
   "metadata": {},
   "source": [
    "### Load home locations with ZATs and treatment group for users living in treatment and control ZATs"
   ]
  },
  {
   "cell_type": "code",
   "execution_count": null,
   "metadata": {},
   "outputs": [],
   "source": [
    "sel_zat_home_locs_meta = pd.read_csv(sel_zat_home_locs_meta_fp)\n",
    "sel_zat_home_locs_meta.head()"
   ]
  },
  {
   "cell_type": "markdown",
   "metadata": {},
   "source": [
    "### Load shapefiles with the POI information \n",
    "There is one with a buffer of 15 meters around the google places POIs and one with 20 meters buffer."
   ]
  },
  {
   "cell_type": "code",
   "execution_count": null,
   "metadata": {},
   "outputs": [],
   "source": [
    "# for POIs with 15m Buffer\n",
    "shp_name, gdf_from_shp = get_shp_to_assign_poi(\n",
    "    shp_dir=f\"{meta_dir}places/Buffer Shapefiles/\", config=c, radius=15, plot=True\n",
    ")"
   ]
  },
  {
   "cell_type": "markdown",
   "metadata": {},
   "source": [
    "### Load visits and map the visits to the POIs\n",
    "Load the visit locations for users living within the treatment and control ZATs. Note that these are rough estimates and may need to be recomputed. "
   ]
  },
  {
   "cell_type": "code",
   "execution_count": null,
   "metadata": {},
   "outputs": [],
   "source": [
    "visit_durations = [20, 30, 60]\n",
    "min_minutes = 1e12  # or 1440"
   ]
  },
  {
   "cell_type": "code",
   "execution_count": null,
   "metadata": {},
   "outputs": [],
   "source": [
    "# only execute this cell if you want to map and write user visits to POIs, not needed if you have already done this\n",
    "for i in tqdm(\n",
    "    range(0, len(visit_durations)),\n",
    "    desc=f\"Mapping and writing user visits to POIs from {shp_name}\",\n",
    "):\n",
    "    stopping_time = visit_durations[i]\n",
    "    visits_filename = f\"users_living_in_sel_zat_visits_atleast_{stopping_time}min_nodatafor_{min_minutes}_minutes\"  # modify fp as needed, e.g. add _nodatafor_1440_minutes'\n",
    "    visits_fp = f\"{visit_dir}{visits_filename}.csv\"\n",
    "    outfilename = f\"{visits_filename}_w_poi_from_{shp_name}_shp\"\n",
    "    visit_df = read_visits(visits_fp, uid_treat_group_info=sel_zat_home_locs_meta)\n",
    "    visits_w_poi_df = calc_write_visit_pois(\n",
    "        visit_df=visit_df,\n",
    "        regions_gdf=gdf_from_shp,\n",
    "        cols_to_keep=(\n",
    "            list(visit_df.columns)\n",
    "            + [\n",
    "                \"name\",\n",
    "                \"dup\",\n",
    "                \"status\",\n",
    "                \"category\",\n",
    "                \"id\",\n",
    "                \"BUFF_DIST\",\n",
    "                \"ORIG_FID\",\n",
    "                \"Shape_Area\",\n",
    "            ]\n",
    "        ),\n",
    "        out_dir=out_dir,\n",
    "        subdir_name=shp_name,\n",
    "        outfilename=outfilename,\n",
    "    )"
   ]
  },
  {
   "cell_type": "markdown",
   "metadata": {},
   "source": [
    "#### Some results (from 2019): \n",
    "**For the 15m Buffer**\n",
    "- There were 3007082 visits in the file. 1157808 instances occured where visits mapped to named POIs (some visits may map to multiple POIs). Wrote data to users_living_in_sel_zat_visits_atleast_20min_w_poi_from_POI_Buffer15m_shp\n",
    "- There were 2487677 visits in the file. 934178 instances occured where visits mapped to named POIs (some visits may map to multiple POIs). Wrote data to users_living_in_sel_zat_visits_atleast_30min_w_poi_from_POI_Buffer15m_shp\n",
    "- There were 1861875 visits in the file. 643682 instances occured where visits mapped to named POIs (some visits may map to multiple POIs). Wrote data to users_living_in_sel_zat_visits_atleast_60min_w_poi_from_POI_Buffer15m_shp\n",
    "\n",
    "**For the 20m Buffer**\n",
    "- There were 3007082 visits in the file. 1967679 instances occured where visits mapped to named POIs (some visits may map to multiple POIs). Wrote data to users_living_in_sel_zat_visits_atleast_20min_w_poi_from_POI_Buffer20m_shp\n",
    "\n",
    "- There were 2487677 visits in the file. 1583775 instances occured where visits mapped to named POIs (some visits may map to multiple POIs). Wrote data to users_living_in_sel_zat_visits_atleast_30min_w_poi_from_POI_Buffer20m_shp\n",
    "\n",
    "- There were 1861875 visits in the file. 1089400 instances occured where visits mapped to named POIs (some visits may map to multiple POIs). Wrote data to users_living_in_sel_zat_visits_atleast_60min_w_poi_from_POI_Buffer20m_shp\n",
    "\n",
    "#### Some logs for the files with the additional `_nodatafor_1440_minutes` filtering: \n",
    "\n",
    "**For the 15m Buffer**\n",
    "- There were 2763819 visits in the file. 1080490 instances occured where visits mapped to named POIs (some visits may map to multiple POIs). Wrote data to users_living_in_sel_zat_visits_atleast_20min_nodatafor_1440_minutes_w_poi_from_POI_Buffer15m_shp\n",
    "\n",
    "- There were 2242918 visits in the file. 856483 instances occured where visits mapped to named POIs (some visits may map to multiple POIs). Wrote data to users_living_in_sel_zat_visits_atleast_30min_nodatafor_1440_minutes_w_poi_from_POI_Buffer15m_shp\n",
    "\n",
    "- There were 1613447 visits in the file. 564951 instances occured where visits mapped to named POIs (some visits may map to multiple POIs). Wrote data to users_living_in_sel_zat_visits_atleast_60min_nodatafor_1440_minutes_w_poi_from_POI_Buffer15m_shp\n",
    "\n",
    "**For the 20m Buffer**\n",
    "- There were 2763819 visits in the file. 1836594 instances occured where visits mapped to named POIs (some visits may map to multiple POIs). Wrote data to users_living_in_sel_zat_visits_atleast_20min_nodatafor_1440_minutes_w_poi_from_POI_Buffer20m_shp\n",
    "\n",
    "- There were 2242918 visits in the file. 1452026 instances occured where visits mapped to named POIs (some visits may map to multiple POIs). Wrote data to users_living_in_sel_zat_visits_atleast_30min_nodatafor_1440_minutes_w_poi_from_POI_Buffer20m_shp\n",
    "\n",
    "- There were 1613447 visits in the file. 955859 instances occured where visits mapped to named POIs (some visits may map to multiple POIs). Wrote data to users_living_in_sel_zat_visits_atleast_60min_nodatafor_1440_minutes_w_poi_from_POI_Buffer20m_shp\n"
   ]
  }
 ],
 "metadata": {
  "kernelspec": {
   "display_name": "geo_mobile",
   "language": "python",
   "name": "python3"
  },
  "language_info": {
   "codemirror_mode": {
    "name": "ipython",
    "version": 3
   },
   "file_extension": ".py",
   "mimetype": "text/x-python",
   "name": "python",
   "nbconvert_exporter": "python",
   "pygments_lexer": "ipython3",
   "version": "3.9.16"
  },
  "orig_nbformat": 4
 },
 "nbformat": 4,
 "nbformat_minor": 2
}
